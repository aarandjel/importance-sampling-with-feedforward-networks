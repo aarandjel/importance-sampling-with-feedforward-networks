{
  "nbformat": 4,
  "nbformat_minor": 0,
  "metadata": {
    "accelerator": "GPU",
    "colab": {
      "name": "arithmetic_asian_basket_call_multivariate_Black_Scholes.ipynb",
      "provenance": [],
      "collapsed_sections": [],
      "include_colab_link": true
    },
    "kernelspec": {
      "display_name": "Python 3",
      "language": "python",
      "name": "python3"
    },
    "language_info": {
      "codemirror_mode": {
        "name": "ipython",
        "version": 3
      },
      "file_extension": ".py",
      "mimetype": "text/x-python",
      "name": "python",
      "nbconvert_exporter": "python",
      "pygments_lexer": "ipython3",
      "version": "3.6.9"
    },
    "widgets": {
      "application/vnd.jupyter.widget-state+json": {
        "95726996e9644eb2bc48bf1844e4f37a": {
          "model_module": "@jupyter-widgets/controls",
          "model_name": "HBoxModel",
          "model_module_version": "1.5.0",
          "state": {
            "_view_name": "HBoxView",
            "_dom_classes": [],
            "_model_name": "HBoxModel",
            "_view_module": "@jupyter-widgets/controls",
            "_model_module_version": "1.5.0",
            "_view_count": null,
            "_view_module_version": "1.5.0",
            "box_style": "",
            "layout": "IPY_MODEL_85a03b618dc34363b58011cac59e0f92",
            "_model_module": "@jupyter-widgets/controls",
            "children": [
              "IPY_MODEL_4888221b76374b65a0b1ae1abc382968",
              "IPY_MODEL_808b6312eba84bcbbc84a02d247a16cf",
              "IPY_MODEL_e2f934e3aec744e692d26e0098022e90"
            ]
          }
        },
        "85a03b618dc34363b58011cac59e0f92": {
          "model_module": "@jupyter-widgets/base",
          "model_name": "LayoutModel",
          "model_module_version": "1.2.0",
          "state": {
            "_view_name": "LayoutView",
            "grid_template_rows": null,
            "right": null,
            "justify_content": null,
            "_view_module": "@jupyter-widgets/base",
            "overflow": null,
            "_model_module_version": "1.2.0",
            "_view_count": null,
            "flex_flow": null,
            "width": null,
            "min_width": null,
            "border": null,
            "align_items": null,
            "bottom": null,
            "_model_module": "@jupyter-widgets/base",
            "top": null,
            "grid_column": null,
            "overflow_y": null,
            "overflow_x": null,
            "grid_auto_flow": null,
            "grid_area": null,
            "grid_template_columns": null,
            "flex": null,
            "_model_name": "LayoutModel",
            "justify_items": null,
            "grid_row": null,
            "max_height": null,
            "align_content": null,
            "visibility": null,
            "align_self": null,
            "height": null,
            "min_height": null,
            "padding": null,
            "grid_auto_rows": null,
            "grid_gap": null,
            "max_width": null,
            "order": null,
            "_view_module_version": "1.2.0",
            "grid_template_areas": null,
            "object_position": null,
            "object_fit": null,
            "grid_auto_columns": null,
            "margin": null,
            "display": null,
            "left": null
          }
        },
        "4888221b76374b65a0b1ae1abc382968": {
          "model_module": "@jupyter-widgets/controls",
          "model_name": "HTMLModel",
          "model_module_version": "1.5.0",
          "state": {
            "_view_name": "HTMLView",
            "style": "IPY_MODEL_55d02d3e574048d2be8030dc9e497bc8",
            "_dom_classes": [],
            "description": "",
            "_model_name": "HTMLModel",
            "placeholder": "​",
            "_view_module": "@jupyter-widgets/controls",
            "_model_module_version": "1.5.0",
            "value": "100%",
            "_view_count": null,
            "_view_module_version": "1.5.0",
            "description_tooltip": null,
            "_model_module": "@jupyter-widgets/controls",
            "layout": "IPY_MODEL_d786615c0f6941e998ee47bdba140e0a"
          }
        },
        "808b6312eba84bcbbc84a02d247a16cf": {
          "model_module": "@jupyter-widgets/controls",
          "model_name": "FloatProgressModel",
          "model_module_version": "1.5.0",
          "state": {
            "_view_name": "ProgressView",
            "style": "IPY_MODEL_1500d269e157404a812a474bb3fe8872",
            "_dom_classes": [],
            "description": "",
            "_model_name": "FloatProgressModel",
            "bar_style": "success",
            "max": 5000,
            "_view_module": "@jupyter-widgets/controls",
            "_model_module_version": "1.5.0",
            "value": 5000,
            "_view_count": null,
            "_view_module_version": "1.5.0",
            "orientation": "horizontal",
            "min": 0,
            "description_tooltip": null,
            "_model_module": "@jupyter-widgets/controls",
            "layout": "IPY_MODEL_36480959d7ab448a8769e3e7b61d69aa"
          }
        },
        "e2f934e3aec744e692d26e0098022e90": {
          "model_module": "@jupyter-widgets/controls",
          "model_name": "HTMLModel",
          "model_module_version": "1.5.0",
          "state": {
            "_view_name": "HTMLView",
            "style": "IPY_MODEL_6365e328aa364e6b9dc1090f2458a001",
            "_dom_classes": [],
            "description": "",
            "_model_name": "HTMLModel",
            "placeholder": "​",
            "_view_module": "@jupyter-widgets/controls",
            "_model_module_version": "1.5.0",
            "value": " 5000/5000 [00:01&lt;00:00, 3541.10it/s]",
            "_view_count": null,
            "_view_module_version": "1.5.0",
            "description_tooltip": null,
            "_model_module": "@jupyter-widgets/controls",
            "layout": "IPY_MODEL_71551e0abee7404c91038f6e570a6dec"
          }
        },
        "55d02d3e574048d2be8030dc9e497bc8": {
          "model_module": "@jupyter-widgets/controls",
          "model_name": "DescriptionStyleModel",
          "model_module_version": "1.5.0",
          "state": {
            "_view_name": "StyleView",
            "_model_name": "DescriptionStyleModel",
            "description_width": "",
            "_view_module": "@jupyter-widgets/base",
            "_model_module_version": "1.5.0",
            "_view_count": null,
            "_view_module_version": "1.2.0",
            "_model_module": "@jupyter-widgets/controls"
          }
        },
        "d786615c0f6941e998ee47bdba140e0a": {
          "model_module": "@jupyter-widgets/base",
          "model_name": "LayoutModel",
          "model_module_version": "1.2.0",
          "state": {
            "_view_name": "LayoutView",
            "grid_template_rows": null,
            "right": null,
            "justify_content": null,
            "_view_module": "@jupyter-widgets/base",
            "overflow": null,
            "_model_module_version": "1.2.0",
            "_view_count": null,
            "flex_flow": null,
            "width": null,
            "min_width": null,
            "border": null,
            "align_items": null,
            "bottom": null,
            "_model_module": "@jupyter-widgets/base",
            "top": null,
            "grid_column": null,
            "overflow_y": null,
            "overflow_x": null,
            "grid_auto_flow": null,
            "grid_area": null,
            "grid_template_columns": null,
            "flex": null,
            "_model_name": "LayoutModel",
            "justify_items": null,
            "grid_row": null,
            "max_height": null,
            "align_content": null,
            "visibility": null,
            "align_self": null,
            "height": null,
            "min_height": null,
            "padding": null,
            "grid_auto_rows": null,
            "grid_gap": null,
            "max_width": null,
            "order": null,
            "_view_module_version": "1.2.0",
            "grid_template_areas": null,
            "object_position": null,
            "object_fit": null,
            "grid_auto_columns": null,
            "margin": null,
            "display": null,
            "left": null
          }
        },
        "1500d269e157404a812a474bb3fe8872": {
          "model_module": "@jupyter-widgets/controls",
          "model_name": "ProgressStyleModel",
          "model_module_version": "1.5.0",
          "state": {
            "_view_name": "StyleView",
            "_model_name": "ProgressStyleModel",
            "description_width": "",
            "_view_module": "@jupyter-widgets/base",
            "_model_module_version": "1.5.0",
            "_view_count": null,
            "_view_module_version": "1.2.0",
            "bar_color": null,
            "_model_module": "@jupyter-widgets/controls"
          }
        },
        "36480959d7ab448a8769e3e7b61d69aa": {
          "model_module": "@jupyter-widgets/base",
          "model_name": "LayoutModel",
          "model_module_version": "1.2.0",
          "state": {
            "_view_name": "LayoutView",
            "grid_template_rows": null,
            "right": null,
            "justify_content": null,
            "_view_module": "@jupyter-widgets/base",
            "overflow": null,
            "_model_module_version": "1.2.0",
            "_view_count": null,
            "flex_flow": null,
            "width": null,
            "min_width": null,
            "border": null,
            "align_items": null,
            "bottom": null,
            "_model_module": "@jupyter-widgets/base",
            "top": null,
            "grid_column": null,
            "overflow_y": null,
            "overflow_x": null,
            "grid_auto_flow": null,
            "grid_area": null,
            "grid_template_columns": null,
            "flex": null,
            "_model_name": "LayoutModel",
            "justify_items": null,
            "grid_row": null,
            "max_height": null,
            "align_content": null,
            "visibility": null,
            "align_self": null,
            "height": null,
            "min_height": null,
            "padding": null,
            "grid_auto_rows": null,
            "grid_gap": null,
            "max_width": null,
            "order": null,
            "_view_module_version": "1.2.0",
            "grid_template_areas": null,
            "object_position": null,
            "object_fit": null,
            "grid_auto_columns": null,
            "margin": null,
            "display": null,
            "left": null
          }
        },
        "6365e328aa364e6b9dc1090f2458a001": {
          "model_module": "@jupyter-widgets/controls",
          "model_name": "DescriptionStyleModel",
          "model_module_version": "1.5.0",
          "state": {
            "_view_name": "StyleView",
            "_model_name": "DescriptionStyleModel",
            "description_width": "",
            "_view_module": "@jupyter-widgets/base",
            "_model_module_version": "1.5.0",
            "_view_count": null,
            "_view_module_version": "1.2.0",
            "_model_module": "@jupyter-widgets/controls"
          }
        },
        "71551e0abee7404c91038f6e570a6dec": {
          "model_module": "@jupyter-widgets/base",
          "model_name": "LayoutModel",
          "model_module_version": "1.2.0",
          "state": {
            "_view_name": "LayoutView",
            "grid_template_rows": null,
            "right": null,
            "justify_content": null,
            "_view_module": "@jupyter-widgets/base",
            "overflow": null,
            "_model_module_version": "1.2.0",
            "_view_count": null,
            "flex_flow": null,
            "width": null,
            "min_width": null,
            "border": null,
            "align_items": null,
            "bottom": null,
            "_model_module": "@jupyter-widgets/base",
            "top": null,
            "grid_column": null,
            "overflow_y": null,
            "overflow_x": null,
            "grid_auto_flow": null,
            "grid_area": null,
            "grid_template_columns": null,
            "flex": null,
            "_model_name": "LayoutModel",
            "justify_items": null,
            "grid_row": null,
            "max_height": null,
            "align_content": null,
            "visibility": null,
            "align_self": null,
            "height": null,
            "min_height": null,
            "padding": null,
            "grid_auto_rows": null,
            "grid_gap": null,
            "max_width": null,
            "order": null,
            "_view_module_version": "1.2.0",
            "grid_template_areas": null,
            "object_position": null,
            "object_fit": null,
            "grid_auto_columns": null,
            "margin": null,
            "display": null,
            "left": null
          }
        },
        "55c1159392014b16a0271afbf8b8ab2b": {
          "model_module": "@jupyter-widgets/controls",
          "model_name": "HBoxModel",
          "model_module_version": "1.5.0",
          "state": {
            "_view_name": "HBoxView",
            "_dom_classes": [],
            "_model_name": "HBoxModel",
            "_view_module": "@jupyter-widgets/controls",
            "_model_module_version": "1.5.0",
            "_view_count": null,
            "_view_module_version": "1.5.0",
            "box_style": "",
            "layout": "IPY_MODEL_c8469ef65079477ea1adc1fed314bba5",
            "_model_module": "@jupyter-widgets/controls",
            "children": [
              "IPY_MODEL_bf421bab2ca54220973b2e64f7f3796e",
              "IPY_MODEL_11b283f502c1410a8833b3c482ca4c5c",
              "IPY_MODEL_373e6989d2534dd39143c4d552b0432c"
            ]
          }
        },
        "c8469ef65079477ea1adc1fed314bba5": {
          "model_module": "@jupyter-widgets/base",
          "model_name": "LayoutModel",
          "model_module_version": "1.2.0",
          "state": {
            "_view_name": "LayoutView",
            "grid_template_rows": null,
            "right": null,
            "justify_content": null,
            "_view_module": "@jupyter-widgets/base",
            "overflow": null,
            "_model_module_version": "1.2.0",
            "_view_count": null,
            "flex_flow": null,
            "width": null,
            "min_width": null,
            "border": null,
            "align_items": null,
            "bottom": null,
            "_model_module": "@jupyter-widgets/base",
            "top": null,
            "grid_column": null,
            "overflow_y": null,
            "overflow_x": null,
            "grid_auto_flow": null,
            "grid_area": null,
            "grid_template_columns": null,
            "flex": null,
            "_model_name": "LayoutModel",
            "justify_items": null,
            "grid_row": null,
            "max_height": null,
            "align_content": null,
            "visibility": null,
            "align_self": null,
            "height": null,
            "min_height": null,
            "padding": null,
            "grid_auto_rows": null,
            "grid_gap": null,
            "max_width": null,
            "order": null,
            "_view_module_version": "1.2.0",
            "grid_template_areas": null,
            "object_position": null,
            "object_fit": null,
            "grid_auto_columns": null,
            "margin": null,
            "display": null,
            "left": null
          }
        },
        "bf421bab2ca54220973b2e64f7f3796e": {
          "model_module": "@jupyter-widgets/controls",
          "model_name": "HTMLModel",
          "model_module_version": "1.5.0",
          "state": {
            "_view_name": "HTMLView",
            "style": "IPY_MODEL_58f661f5df1b405bb2385818ebfdce02",
            "_dom_classes": [],
            "description": "",
            "_model_name": "HTMLModel",
            "placeholder": "​",
            "_view_module": "@jupyter-widgets/controls",
            "_model_module_version": "1.5.0",
            "value": "100%",
            "_view_count": null,
            "_view_module_version": "1.5.0",
            "description_tooltip": null,
            "_model_module": "@jupyter-widgets/controls",
            "layout": "IPY_MODEL_7f35ec0c3f3f48eca7293a77e91d917c"
          }
        },
        "11b283f502c1410a8833b3c482ca4c5c": {
          "model_module": "@jupyter-widgets/controls",
          "model_name": "FloatProgressModel",
          "model_module_version": "1.5.0",
          "state": {
            "_view_name": "ProgressView",
            "style": "IPY_MODEL_6ad51fa5ffd9486996ba455de1093565",
            "_dom_classes": [],
            "description": "",
            "_model_name": "FloatProgressModel",
            "bar_style": "success",
            "max": 20000,
            "_view_module": "@jupyter-widgets/controls",
            "_model_module_version": "1.5.0",
            "value": 20000,
            "_view_count": null,
            "_view_module_version": "1.5.0",
            "orientation": "horizontal",
            "min": 0,
            "description_tooltip": null,
            "_model_module": "@jupyter-widgets/controls",
            "layout": "IPY_MODEL_9a237e7ccd594fdcb9b4833c95f247c4"
          }
        },
        "373e6989d2534dd39143c4d552b0432c": {
          "model_module": "@jupyter-widgets/controls",
          "model_name": "HTMLModel",
          "model_module_version": "1.5.0",
          "state": {
            "_view_name": "HTMLView",
            "style": "IPY_MODEL_166e878287834845a2cbf0e1018ffb95",
            "_dom_classes": [],
            "description": "",
            "_model_name": "HTMLModel",
            "placeholder": "​",
            "_view_module": "@jupyter-widgets/controls",
            "_model_module_version": "1.5.0",
            "value": " 20000/20000 [00:06&lt;00:00, 2501.49it/s]",
            "_view_count": null,
            "_view_module_version": "1.5.0",
            "description_tooltip": null,
            "_model_module": "@jupyter-widgets/controls",
            "layout": "IPY_MODEL_58496b8496824c59bcfe9755b6145bce"
          }
        },
        "58f661f5df1b405bb2385818ebfdce02": {
          "model_module": "@jupyter-widgets/controls",
          "model_name": "DescriptionStyleModel",
          "model_module_version": "1.5.0",
          "state": {
            "_view_name": "StyleView",
            "_model_name": "DescriptionStyleModel",
            "description_width": "",
            "_view_module": "@jupyter-widgets/base",
            "_model_module_version": "1.5.0",
            "_view_count": null,
            "_view_module_version": "1.2.0",
            "_model_module": "@jupyter-widgets/controls"
          }
        },
        "7f35ec0c3f3f48eca7293a77e91d917c": {
          "model_module": "@jupyter-widgets/base",
          "model_name": "LayoutModel",
          "model_module_version": "1.2.0",
          "state": {
            "_view_name": "LayoutView",
            "grid_template_rows": null,
            "right": null,
            "justify_content": null,
            "_view_module": "@jupyter-widgets/base",
            "overflow": null,
            "_model_module_version": "1.2.0",
            "_view_count": null,
            "flex_flow": null,
            "width": null,
            "min_width": null,
            "border": null,
            "align_items": null,
            "bottom": null,
            "_model_module": "@jupyter-widgets/base",
            "top": null,
            "grid_column": null,
            "overflow_y": null,
            "overflow_x": null,
            "grid_auto_flow": null,
            "grid_area": null,
            "grid_template_columns": null,
            "flex": null,
            "_model_name": "LayoutModel",
            "justify_items": null,
            "grid_row": null,
            "max_height": null,
            "align_content": null,
            "visibility": null,
            "align_self": null,
            "height": null,
            "min_height": null,
            "padding": null,
            "grid_auto_rows": null,
            "grid_gap": null,
            "max_width": null,
            "order": null,
            "_view_module_version": "1.2.0",
            "grid_template_areas": null,
            "object_position": null,
            "object_fit": null,
            "grid_auto_columns": null,
            "margin": null,
            "display": null,
            "left": null
          }
        },
        "6ad51fa5ffd9486996ba455de1093565": {
          "model_module": "@jupyter-widgets/controls",
          "model_name": "ProgressStyleModel",
          "model_module_version": "1.5.0",
          "state": {
            "_view_name": "StyleView",
            "_model_name": "ProgressStyleModel",
            "description_width": "",
            "_view_module": "@jupyter-widgets/base",
            "_model_module_version": "1.5.0",
            "_view_count": null,
            "_view_module_version": "1.2.0",
            "bar_color": null,
            "_model_module": "@jupyter-widgets/controls"
          }
        },
        "9a237e7ccd594fdcb9b4833c95f247c4": {
          "model_module": "@jupyter-widgets/base",
          "model_name": "LayoutModel",
          "model_module_version": "1.2.0",
          "state": {
            "_view_name": "LayoutView",
            "grid_template_rows": null,
            "right": null,
            "justify_content": null,
            "_view_module": "@jupyter-widgets/base",
            "overflow": null,
            "_model_module_version": "1.2.0",
            "_view_count": null,
            "flex_flow": null,
            "width": null,
            "min_width": null,
            "border": null,
            "align_items": null,
            "bottom": null,
            "_model_module": "@jupyter-widgets/base",
            "top": null,
            "grid_column": null,
            "overflow_y": null,
            "overflow_x": null,
            "grid_auto_flow": null,
            "grid_area": null,
            "grid_template_columns": null,
            "flex": null,
            "_model_name": "LayoutModel",
            "justify_items": null,
            "grid_row": null,
            "max_height": null,
            "align_content": null,
            "visibility": null,
            "align_self": null,
            "height": null,
            "min_height": null,
            "padding": null,
            "grid_auto_rows": null,
            "grid_gap": null,
            "max_width": null,
            "order": null,
            "_view_module_version": "1.2.0",
            "grid_template_areas": null,
            "object_position": null,
            "object_fit": null,
            "grid_auto_columns": null,
            "margin": null,
            "display": null,
            "left": null
          }
        },
        "166e878287834845a2cbf0e1018ffb95": {
          "model_module": "@jupyter-widgets/controls",
          "model_name": "DescriptionStyleModel",
          "model_module_version": "1.5.0",
          "state": {
            "_view_name": "StyleView",
            "_model_name": "DescriptionStyleModel",
            "description_width": "",
            "_view_module": "@jupyter-widgets/base",
            "_model_module_version": "1.5.0",
            "_view_count": null,
            "_view_module_version": "1.2.0",
            "_model_module": "@jupyter-widgets/controls"
          }
        },
        "58496b8496824c59bcfe9755b6145bce": {
          "model_module": "@jupyter-widgets/base",
          "model_name": "LayoutModel",
          "model_module_version": "1.2.0",
          "state": {
            "_view_name": "LayoutView",
            "grid_template_rows": null,
            "right": null,
            "justify_content": null,
            "_view_module": "@jupyter-widgets/base",
            "overflow": null,
            "_model_module_version": "1.2.0",
            "_view_count": null,
            "flex_flow": null,
            "width": null,
            "min_width": null,
            "border": null,
            "align_items": null,
            "bottom": null,
            "_model_module": "@jupyter-widgets/base",
            "top": null,
            "grid_column": null,
            "overflow_y": null,
            "overflow_x": null,
            "grid_auto_flow": null,
            "grid_area": null,
            "grid_template_columns": null,
            "flex": null,
            "_model_name": "LayoutModel",
            "justify_items": null,
            "grid_row": null,
            "max_height": null,
            "align_content": null,
            "visibility": null,
            "align_self": null,
            "height": null,
            "min_height": null,
            "padding": null,
            "grid_auto_rows": null,
            "grid_gap": null,
            "max_width": null,
            "order": null,
            "_view_module_version": "1.2.0",
            "grid_template_areas": null,
            "object_position": null,
            "object_fit": null,
            "grid_auto_columns": null,
            "margin": null,
            "display": null,
            "left": null
          }
        },
        "ee119ea4e19d4fb59451b00f8a167f78": {
          "model_module": "@jupyter-widgets/controls",
          "model_name": "HBoxModel",
          "model_module_version": "1.5.0",
          "state": {
            "_view_name": "HBoxView",
            "_dom_classes": [],
            "_model_name": "HBoxModel",
            "_view_module": "@jupyter-widgets/controls",
            "_model_module_version": "1.5.0",
            "_view_count": null,
            "_view_module_version": "1.5.0",
            "box_style": "",
            "layout": "IPY_MODEL_86ce54ef0b404e5ba19408552d1903e7",
            "_model_module": "@jupyter-widgets/controls",
            "children": [
              "IPY_MODEL_158540adffe243508c911e9cb1034949",
              "IPY_MODEL_115a684106bd4bb39f8da16f9b80535c",
              "IPY_MODEL_6365e8c4ca30444eb54e8f67be025241"
            ]
          }
        },
        "86ce54ef0b404e5ba19408552d1903e7": {
          "model_module": "@jupyter-widgets/base",
          "model_name": "LayoutModel",
          "model_module_version": "1.2.0",
          "state": {
            "_view_name": "LayoutView",
            "grid_template_rows": null,
            "right": null,
            "justify_content": null,
            "_view_module": "@jupyter-widgets/base",
            "overflow": null,
            "_model_module_version": "1.2.0",
            "_view_count": null,
            "flex_flow": null,
            "width": null,
            "min_width": null,
            "border": null,
            "align_items": null,
            "bottom": null,
            "_model_module": "@jupyter-widgets/base",
            "top": null,
            "grid_column": null,
            "overflow_y": null,
            "overflow_x": null,
            "grid_auto_flow": null,
            "grid_area": null,
            "grid_template_columns": null,
            "flex": null,
            "_model_name": "LayoutModel",
            "justify_items": null,
            "grid_row": null,
            "max_height": null,
            "align_content": null,
            "visibility": null,
            "align_self": null,
            "height": null,
            "min_height": null,
            "padding": null,
            "grid_auto_rows": null,
            "grid_gap": null,
            "max_width": null,
            "order": null,
            "_view_module_version": "1.2.0",
            "grid_template_areas": null,
            "object_position": null,
            "object_fit": null,
            "grid_auto_columns": null,
            "margin": null,
            "display": null,
            "left": null
          }
        },
        "158540adffe243508c911e9cb1034949": {
          "model_module": "@jupyter-widgets/controls",
          "model_name": "HTMLModel",
          "model_module_version": "1.5.0",
          "state": {
            "_view_name": "HTMLView",
            "style": "IPY_MODEL_f96ca8acb337479598e2e89fe8c2bc54",
            "_dom_classes": [],
            "description": "",
            "_model_name": "HTMLModel",
            "placeholder": "​",
            "_view_module": "@jupyter-widgets/controls",
            "_model_module_version": "1.5.0",
            "value": "100%",
            "_view_count": null,
            "_view_module_version": "1.5.0",
            "description_tooltip": null,
            "_model_module": "@jupyter-widgets/controls",
            "layout": "IPY_MODEL_5d8a8071e1504395a10209909fb213c6"
          }
        },
        "115a684106bd4bb39f8da16f9b80535c": {
          "model_module": "@jupyter-widgets/controls",
          "model_name": "FloatProgressModel",
          "model_module_version": "1.5.0",
          "state": {
            "_view_name": "ProgressView",
            "style": "IPY_MODEL_a12dbc2fbf014200a3c9f9ecf449a5a2",
            "_dom_classes": [],
            "description": "",
            "_model_name": "FloatProgressModel",
            "bar_style": "success",
            "max": 100000,
            "_view_module": "@jupyter-widgets/controls",
            "_model_module_version": "1.5.0",
            "value": 100000,
            "_view_count": null,
            "_view_module_version": "1.5.0",
            "orientation": "horizontal",
            "min": 0,
            "description_tooltip": null,
            "_model_module": "@jupyter-widgets/controls",
            "layout": "IPY_MODEL_af83f7f2961e4c90805460fb352adc38"
          }
        },
        "6365e8c4ca30444eb54e8f67be025241": {
          "model_module": "@jupyter-widgets/controls",
          "model_name": "HTMLModel",
          "model_module_version": "1.5.0",
          "state": {
            "_view_name": "HTMLView",
            "style": "IPY_MODEL_4579956374ce42d89b8a4f664129da8b",
            "_dom_classes": [],
            "description": "",
            "_model_name": "HTMLModel",
            "placeholder": "​",
            "_view_module": "@jupyter-widgets/controls",
            "_model_module_version": "1.5.0",
            "value": " 100000/100000 [01:06&lt;00:00, 962.35it/s]",
            "_view_count": null,
            "_view_module_version": "1.5.0",
            "description_tooltip": null,
            "_model_module": "@jupyter-widgets/controls",
            "layout": "IPY_MODEL_ff988223590347db9c3eb849f02453fa"
          }
        },
        "f96ca8acb337479598e2e89fe8c2bc54": {
          "model_module": "@jupyter-widgets/controls",
          "model_name": "DescriptionStyleModel",
          "model_module_version": "1.5.0",
          "state": {
            "_view_name": "StyleView",
            "_model_name": "DescriptionStyleModel",
            "description_width": "",
            "_view_module": "@jupyter-widgets/base",
            "_model_module_version": "1.5.0",
            "_view_count": null,
            "_view_module_version": "1.2.0",
            "_model_module": "@jupyter-widgets/controls"
          }
        },
        "5d8a8071e1504395a10209909fb213c6": {
          "model_module": "@jupyter-widgets/base",
          "model_name": "LayoutModel",
          "model_module_version": "1.2.0",
          "state": {
            "_view_name": "LayoutView",
            "grid_template_rows": null,
            "right": null,
            "justify_content": null,
            "_view_module": "@jupyter-widgets/base",
            "overflow": null,
            "_model_module_version": "1.2.0",
            "_view_count": null,
            "flex_flow": null,
            "width": null,
            "min_width": null,
            "border": null,
            "align_items": null,
            "bottom": null,
            "_model_module": "@jupyter-widgets/base",
            "top": null,
            "grid_column": null,
            "overflow_y": null,
            "overflow_x": null,
            "grid_auto_flow": null,
            "grid_area": null,
            "grid_template_columns": null,
            "flex": null,
            "_model_name": "LayoutModel",
            "justify_items": null,
            "grid_row": null,
            "max_height": null,
            "align_content": null,
            "visibility": null,
            "align_self": null,
            "height": null,
            "min_height": null,
            "padding": null,
            "grid_auto_rows": null,
            "grid_gap": null,
            "max_width": null,
            "order": null,
            "_view_module_version": "1.2.0",
            "grid_template_areas": null,
            "object_position": null,
            "object_fit": null,
            "grid_auto_columns": null,
            "margin": null,
            "display": null,
            "left": null
          }
        },
        "a12dbc2fbf014200a3c9f9ecf449a5a2": {
          "model_module": "@jupyter-widgets/controls",
          "model_name": "ProgressStyleModel",
          "model_module_version": "1.5.0",
          "state": {
            "_view_name": "StyleView",
            "_model_name": "ProgressStyleModel",
            "description_width": "",
            "_view_module": "@jupyter-widgets/base",
            "_model_module_version": "1.5.0",
            "_view_count": null,
            "_view_module_version": "1.2.0",
            "bar_color": null,
            "_model_module": "@jupyter-widgets/controls"
          }
        },
        "af83f7f2961e4c90805460fb352adc38": {
          "model_module": "@jupyter-widgets/base",
          "model_name": "LayoutModel",
          "model_module_version": "1.2.0",
          "state": {
            "_view_name": "LayoutView",
            "grid_template_rows": null,
            "right": null,
            "justify_content": null,
            "_view_module": "@jupyter-widgets/base",
            "overflow": null,
            "_model_module_version": "1.2.0",
            "_view_count": null,
            "flex_flow": null,
            "width": null,
            "min_width": null,
            "border": null,
            "align_items": null,
            "bottom": null,
            "_model_module": "@jupyter-widgets/base",
            "top": null,
            "grid_column": null,
            "overflow_y": null,
            "overflow_x": null,
            "grid_auto_flow": null,
            "grid_area": null,
            "grid_template_columns": null,
            "flex": null,
            "_model_name": "LayoutModel",
            "justify_items": null,
            "grid_row": null,
            "max_height": null,
            "align_content": null,
            "visibility": null,
            "align_self": null,
            "height": null,
            "min_height": null,
            "padding": null,
            "grid_auto_rows": null,
            "grid_gap": null,
            "max_width": null,
            "order": null,
            "_view_module_version": "1.2.0",
            "grid_template_areas": null,
            "object_position": null,
            "object_fit": null,
            "grid_auto_columns": null,
            "margin": null,
            "display": null,
            "left": null
          }
        },
        "4579956374ce42d89b8a4f664129da8b": {
          "model_module": "@jupyter-widgets/controls",
          "model_name": "DescriptionStyleModel",
          "model_module_version": "1.5.0",
          "state": {
            "_view_name": "StyleView",
            "_model_name": "DescriptionStyleModel",
            "description_width": "",
            "_view_module": "@jupyter-widgets/base",
            "_model_module_version": "1.5.0",
            "_view_count": null,
            "_view_module_version": "1.2.0",
            "_model_module": "@jupyter-widgets/controls"
          }
        },
        "ff988223590347db9c3eb849f02453fa": {
          "model_module": "@jupyter-widgets/base",
          "model_name": "LayoutModel",
          "model_module_version": "1.2.0",
          "state": {
            "_view_name": "LayoutView",
            "grid_template_rows": null,
            "right": null,
            "justify_content": null,
            "_view_module": "@jupyter-widgets/base",
            "overflow": null,
            "_model_module_version": "1.2.0",
            "_view_count": null,
            "flex_flow": null,
            "width": null,
            "min_width": null,
            "border": null,
            "align_items": null,
            "bottom": null,
            "_model_module": "@jupyter-widgets/base",
            "top": null,
            "grid_column": null,
            "overflow_y": null,
            "overflow_x": null,
            "grid_auto_flow": null,
            "grid_area": null,
            "grid_template_columns": null,
            "flex": null,
            "_model_name": "LayoutModel",
            "justify_items": null,
            "grid_row": null,
            "max_height": null,
            "align_content": null,
            "visibility": null,
            "align_self": null,
            "height": null,
            "min_height": null,
            "padding": null,
            "grid_auto_rows": null,
            "grid_gap": null,
            "max_width": null,
            "order": null,
            "_view_module_version": "1.2.0",
            "grid_template_areas": null,
            "object_position": null,
            "object_fit": null,
            "grid_auto_columns": null,
            "margin": null,
            "display": null,
            "left": null
          }
        },
        "2015c95961aa4e5e943ceee6a96a80f6": {
          "model_module": "@jupyter-widgets/controls",
          "model_name": "HBoxModel",
          "model_module_version": "1.5.0",
          "state": {
            "_view_name": "HBoxView",
            "_dom_classes": [],
            "_model_name": "HBoxModel",
            "_view_module": "@jupyter-widgets/controls",
            "_model_module_version": "1.5.0",
            "_view_count": null,
            "_view_module_version": "1.5.0",
            "box_style": "",
            "layout": "IPY_MODEL_f24d17a91487462da44ced00315b13b3",
            "_model_module": "@jupyter-widgets/controls",
            "children": [
              "IPY_MODEL_affc9bd4f01c44b09aaa1a2848b64070",
              "IPY_MODEL_5de6f70408504110b95531667c3644cb",
              "IPY_MODEL_fd183c750ef148268ba6664f0bb710dd"
            ]
          }
        },
        "f24d17a91487462da44ced00315b13b3": {
          "model_module": "@jupyter-widgets/base",
          "model_name": "LayoutModel",
          "model_module_version": "1.2.0",
          "state": {
            "_view_name": "LayoutView",
            "grid_template_rows": null,
            "right": null,
            "justify_content": null,
            "_view_module": "@jupyter-widgets/base",
            "overflow": null,
            "_model_module_version": "1.2.0",
            "_view_count": null,
            "flex_flow": null,
            "width": null,
            "min_width": null,
            "border": null,
            "align_items": null,
            "bottom": null,
            "_model_module": "@jupyter-widgets/base",
            "top": null,
            "grid_column": null,
            "overflow_y": null,
            "overflow_x": null,
            "grid_auto_flow": null,
            "grid_area": null,
            "grid_template_columns": null,
            "flex": null,
            "_model_name": "LayoutModel",
            "justify_items": null,
            "grid_row": null,
            "max_height": null,
            "align_content": null,
            "visibility": null,
            "align_self": null,
            "height": null,
            "min_height": null,
            "padding": null,
            "grid_auto_rows": null,
            "grid_gap": null,
            "max_width": null,
            "order": null,
            "_view_module_version": "1.2.0",
            "grid_template_areas": null,
            "object_position": null,
            "object_fit": null,
            "grid_auto_columns": null,
            "margin": null,
            "display": null,
            "left": null
          }
        },
        "affc9bd4f01c44b09aaa1a2848b64070": {
          "model_module": "@jupyter-widgets/controls",
          "model_name": "HTMLModel",
          "model_module_version": "1.5.0",
          "state": {
            "_view_name": "HTMLView",
            "style": "IPY_MODEL_3ac7f7d364444c59b1cf0887a8b29967",
            "_dom_classes": [],
            "description": "",
            "_model_name": "HTMLModel",
            "placeholder": "​",
            "_view_module": "@jupyter-widgets/controls",
            "_model_module_version": "1.5.0",
            "value": "100%",
            "_view_count": null,
            "_view_module_version": "1.5.0",
            "description_tooltip": null,
            "_model_module": "@jupyter-widgets/controls",
            "layout": "IPY_MODEL_ca2123d7fd08414f9963380f1bd9cb35"
          }
        },
        "5de6f70408504110b95531667c3644cb": {
          "model_module": "@jupyter-widgets/controls",
          "model_name": "FloatProgressModel",
          "model_module_version": "1.5.0",
          "state": {
            "_view_name": "ProgressView",
            "style": "IPY_MODEL_f0f6d6880f3c445aaf4228f61dbe8203",
            "_dom_classes": [],
            "description": "",
            "_model_name": "FloatProgressModel",
            "bar_style": "success",
            "max": 100,
            "_view_module": "@jupyter-widgets/controls",
            "_model_module_version": "1.5.0",
            "value": 100,
            "_view_count": null,
            "_view_module_version": "1.5.0",
            "orientation": "horizontal",
            "min": 0,
            "description_tooltip": null,
            "_model_module": "@jupyter-widgets/controls",
            "layout": "IPY_MODEL_048f7b125ad84e3e80c1bf70eff8de1a"
          }
        },
        "fd183c750ef148268ba6664f0bb710dd": {
          "model_module": "@jupyter-widgets/controls",
          "model_name": "HTMLModel",
          "model_module_version": "1.5.0",
          "state": {
            "_view_name": "HTMLView",
            "style": "IPY_MODEL_df7f08e5b48c45f9a6d32a70cb99b17b",
            "_dom_classes": [],
            "description": "",
            "_model_name": "HTMLModel",
            "placeholder": "​",
            "_view_module": "@jupyter-widgets/controls",
            "_model_module_version": "1.5.0",
            "value": " 100/100 [07:15&lt;00:00,  4.37s/it]",
            "_view_count": null,
            "_view_module_version": "1.5.0",
            "description_tooltip": null,
            "_model_module": "@jupyter-widgets/controls",
            "layout": "IPY_MODEL_5e52ef84226343fa8617643d6811203d"
          }
        },
        "3ac7f7d364444c59b1cf0887a8b29967": {
          "model_module": "@jupyter-widgets/controls",
          "model_name": "DescriptionStyleModel",
          "model_module_version": "1.5.0",
          "state": {
            "_view_name": "StyleView",
            "_model_name": "DescriptionStyleModel",
            "description_width": "",
            "_view_module": "@jupyter-widgets/base",
            "_model_module_version": "1.5.0",
            "_view_count": null,
            "_view_module_version": "1.2.0",
            "_model_module": "@jupyter-widgets/controls"
          }
        },
        "ca2123d7fd08414f9963380f1bd9cb35": {
          "model_module": "@jupyter-widgets/base",
          "model_name": "LayoutModel",
          "model_module_version": "1.2.0",
          "state": {
            "_view_name": "LayoutView",
            "grid_template_rows": null,
            "right": null,
            "justify_content": null,
            "_view_module": "@jupyter-widgets/base",
            "overflow": null,
            "_model_module_version": "1.2.0",
            "_view_count": null,
            "flex_flow": null,
            "width": null,
            "min_width": null,
            "border": null,
            "align_items": null,
            "bottom": null,
            "_model_module": "@jupyter-widgets/base",
            "top": null,
            "grid_column": null,
            "overflow_y": null,
            "overflow_x": null,
            "grid_auto_flow": null,
            "grid_area": null,
            "grid_template_columns": null,
            "flex": null,
            "_model_name": "LayoutModel",
            "justify_items": null,
            "grid_row": null,
            "max_height": null,
            "align_content": null,
            "visibility": null,
            "align_self": null,
            "height": null,
            "min_height": null,
            "padding": null,
            "grid_auto_rows": null,
            "grid_gap": null,
            "max_width": null,
            "order": null,
            "_view_module_version": "1.2.0",
            "grid_template_areas": null,
            "object_position": null,
            "object_fit": null,
            "grid_auto_columns": null,
            "margin": null,
            "display": null,
            "left": null
          }
        },
        "f0f6d6880f3c445aaf4228f61dbe8203": {
          "model_module": "@jupyter-widgets/controls",
          "model_name": "ProgressStyleModel",
          "model_module_version": "1.5.0",
          "state": {
            "_view_name": "StyleView",
            "_model_name": "ProgressStyleModel",
            "description_width": "",
            "_view_module": "@jupyter-widgets/base",
            "_model_module_version": "1.5.0",
            "_view_count": null,
            "_view_module_version": "1.2.0",
            "bar_color": null,
            "_model_module": "@jupyter-widgets/controls"
          }
        },
        "048f7b125ad84e3e80c1bf70eff8de1a": {
          "model_module": "@jupyter-widgets/base",
          "model_name": "LayoutModel",
          "model_module_version": "1.2.0",
          "state": {
            "_view_name": "LayoutView",
            "grid_template_rows": null,
            "right": null,
            "justify_content": null,
            "_view_module": "@jupyter-widgets/base",
            "overflow": null,
            "_model_module_version": "1.2.0",
            "_view_count": null,
            "flex_flow": null,
            "width": null,
            "min_width": null,
            "border": null,
            "align_items": null,
            "bottom": null,
            "_model_module": "@jupyter-widgets/base",
            "top": null,
            "grid_column": null,
            "overflow_y": null,
            "overflow_x": null,
            "grid_auto_flow": null,
            "grid_area": null,
            "grid_template_columns": null,
            "flex": null,
            "_model_name": "LayoutModel",
            "justify_items": null,
            "grid_row": null,
            "max_height": null,
            "align_content": null,
            "visibility": null,
            "align_self": null,
            "height": null,
            "min_height": null,
            "padding": null,
            "grid_auto_rows": null,
            "grid_gap": null,
            "max_width": null,
            "order": null,
            "_view_module_version": "1.2.0",
            "grid_template_areas": null,
            "object_position": null,
            "object_fit": null,
            "grid_auto_columns": null,
            "margin": null,
            "display": null,
            "left": null
          }
        },
        "df7f08e5b48c45f9a6d32a70cb99b17b": {
          "model_module": "@jupyter-widgets/controls",
          "model_name": "DescriptionStyleModel",
          "model_module_version": "1.5.0",
          "state": {
            "_view_name": "StyleView",
            "_model_name": "DescriptionStyleModel",
            "description_width": "",
            "_view_module": "@jupyter-widgets/base",
            "_model_module_version": "1.5.0",
            "_view_count": null,
            "_view_module_version": "1.2.0",
            "_model_module": "@jupyter-widgets/controls"
          }
        },
        "5e52ef84226343fa8617643d6811203d": {
          "model_module": "@jupyter-widgets/base",
          "model_name": "LayoutModel",
          "model_module_version": "1.2.0",
          "state": {
            "_view_name": "LayoutView",
            "grid_template_rows": null,
            "right": null,
            "justify_content": null,
            "_view_module": "@jupyter-widgets/base",
            "overflow": null,
            "_model_module_version": "1.2.0",
            "_view_count": null,
            "flex_flow": null,
            "width": null,
            "min_width": null,
            "border": null,
            "align_items": null,
            "bottom": null,
            "_model_module": "@jupyter-widgets/base",
            "top": null,
            "grid_column": null,
            "overflow_y": null,
            "overflow_x": null,
            "grid_auto_flow": null,
            "grid_area": null,
            "grid_template_columns": null,
            "flex": null,
            "_model_name": "LayoutModel",
            "justify_items": null,
            "grid_row": null,
            "max_height": null,
            "align_content": null,
            "visibility": null,
            "align_self": null,
            "height": null,
            "min_height": null,
            "padding": null,
            "grid_auto_rows": null,
            "grid_gap": null,
            "max_width": null,
            "order": null,
            "_view_module_version": "1.2.0",
            "grid_template_areas": null,
            "object_position": null,
            "object_fit": null,
            "grid_auto_columns": null,
            "margin": null,
            "display": null,
            "left": null
          }
        }
      }
    }
  },
  "cells": [
    {
      "cell_type": "markdown",
      "metadata": {
        "id": "view-in-github",
        "colab_type": "text"
      },
      "source": [
        "<a href=\"https://colab.research.google.com/github/aarandjel/importance-sampling-with-feedforward-networks/blob/main/arithmetic_asian_basket_call_multivariate_Black_Scholes.ipynb\" target=\"_parent\"><img src=\"https://colab.research.google.com/assets/colab-badge.svg\" alt=\"Open In Colab\"/></a>"
      ]
    },
    {
      "cell_type": "markdown",
      "metadata": {
        "id": "eM565F2w5MIo"
      },
      "source": [
        "# Importance sampling for option pricing with feedforward networks\n",
        "\n",
        "In this Jupyter notebook, we study the problem of reducing the standard error in Monte Carlo simulations when pricing path-dependent options through suitable changes of measure which are induced by feedforward networks.\n",
        "\n",
        "We consider an arithmetic Asian basket call option in a multivariate Black-Scholes model."
      ]
    },
    {
      "cell_type": "code",
      "metadata": {
        "id": "sE7Asy8_gm4i",
        "colab": {
          "base_uri": "https://localhost:8080/"
        },
        "outputId": "b27e6d25-c3fb-4d07-d3bf-4b3f2b9ceba0"
      },
      "source": [
        "import sys\n",
        "import time\n",
        "import numpy as np\n",
        "import matplotlib.pyplot as plt\n",
        "from scipy.linalg import norm\n",
        "from tqdm.notebook import trange\n",
        " \n",
        "import tensorflow as tf\n",
        "from tensorflow import keras\n",
        "from tensorflow.keras import initializers, optimizers, layers\n",
        "from tensorflow.keras.layers import Dense, Input, Concatenate, Subtract, Multiply, Lambda, Add, Dot\n",
        "from tensorflow.keras.models import Model, load_model\n",
        "import tensorflow.keras.backend as K\n",
        " \n",
        "print('Python version: ', sys.version)\n",
        "print('Tensorflow version: ', tf.__version__)\n",
        "print('Keras version: ', keras.__version__)"
      ],
      "execution_count": 1,
      "outputs": [
        {
          "output_type": "stream",
          "name": "stdout",
          "text": [
            "Python version:  3.7.12 (default, Sep 10 2021, 00:21:48) \n",
            "[GCC 7.5.0]\n",
            "Tensorflow version:  2.6.0\n",
            "Keras version:  2.6.0\n"
          ]
        }
      ]
    },
    {
      "cell_type": "code",
      "metadata": {
        "id": "lrI1YR7Zgm4j"
      },
      "source": [
        "########## ------------------------------\n",
        "### Parameter initialization\n",
        "T = 1\n",
        "N = 32\n",
        "delta_t = T/N\n",
        "strike = 70.0\n",
        "r = 0.05\n",
        "N_assets = 10"
      ],
      "execution_count": 2,
      "outputs": []
    },
    {
      "cell_type": "code",
      "metadata": {
        "id": "MNLDS6KV8jWv"
      },
      "source": [
        "X_0 = np.around(np.random.uniform(low=40.0, high=50.0, size=(N_assets,1)),0)\n",
        "mu = np.around(np.random.uniform(low=0.0, high=0.10, size=(N_assets, 1)),2)\n",
        "sigma = np.around(np.random.uniform(low=-0.3, high=0.3, size=(N_assets,N_assets)), 2)\n",
        "volvec = (norm(sigma, axis=0) ** 2).reshape((N_assets,1))\n",
        "tilde_mu = mu - 0.5 * volvec"
      ],
      "execution_count": 3,
      "outputs": []
    },
    {
      "cell_type": "code",
      "metadata": {
        "colab": {
          "base_uri": "https://localhost:8080/",
          "height": 303
        },
        "id": "tA9He2S08jWx",
        "outputId": "10dde40b-8786-4f6d-eee7-1372526abe54"
      },
      "source": [
        "weights = np.around(mu / (norm(sigma, axis=0)).reshape((N_assets,1)),2)\n",
        "weights = weights / np.sum(weights)\n",
        " \n",
        "plt.figure(figsize=(9, 5)) \n",
        "plt.pie(weights.reshape((N_assets)))\n",
        "plt.show()"
      ],
      "execution_count": 4,
      "outputs": [
        {
          "output_type": "display_data",
          "data": {
            "image/png": "[encoded data removed]",
            "text/plain": [
              "<Figure size 648x360 with 1 Axes>"
            ]
          },
          "metadata": {}
        }
      ]
    },
    {
      "cell_type": "code",
      "metadata": {
        "colab": {
          "base_uri": "https://localhost:8080/",
          "height": 606
        },
        "id": "4tdBcAQF8jWz",
        "outputId": "9635f143-a6e3-4d9e-fad1-987e2e18e522"
      },
      "source": [
        "M = np.concatenate((np.zeros((N_assets,1)), np.random.normal(0, np.sqrt(delta_t), (N_assets,N))), axis=1)\n",
        "M = np.cumsum(M, axis=1)\n",
        "M = np.dot(np.transpose(sigma), M)\n",
        " \n",
        "M = np.diff(M, axis=1)\n",
        "M = M + tilde_mu * delta_t\n",
        " \n",
        "M = np.concatenate((np.zeros((N_assets,1)),M), axis=1)\n",
        "M = np.cumsum(M, axis=1)\n",
        " \n",
        "M = np.exp(M)\n",
        "for i in range(N_assets):\n",
        "    M[i,:] = M[i,:] * X_0[i]\n",
        "    \n",
        "t = np.linspace(0, T, N+1) \n",
        "plt.figure(figsize=(18, 10)) \n",
        "plt.plot(t, np.transpose(M))\n",
        "plt.xlabel(\"t\")\n",
        "plt.show()"
      ],
      "execution_count": 5,
      "outputs": [
        {
          "output_type": "display_data",
          "data": {
            "image/png": "[encoded data removed]",
            "text/plain": [
              "<Figure size 1296x720 with 1 Axes>"
            ]
          },
          "metadata": {
            "needs_background": "light"
          }
        }
      ]
    },
    {
      "cell_type": "code",
      "metadata": {
        "colab": {
          "base_uri": "https://localhost:8080/",
          "height": 100,
          "referenced_widgets": [
            "95726996e9644eb2bc48bf1844e4f37a",
            "85a03b618dc34363b58011cac59e0f92",
            "4888221b76374b65a0b1ae1abc382968",
            "808b6312eba84bcbbc84a02d247a16cf",
            "e2f934e3aec744e692d26e0098022e90",
            "55d02d3e574048d2be8030dc9e497bc8",
            "d786615c0f6941e998ee47bdba140e0a",
            "1500d269e157404a812a474bb3fe8872",
            "36480959d7ab448a8769e3e7b61d69aa",
            "6365e328aa364e6b9dc1090f2458a001",
            "71551e0abee7404c91038f6e570a6dec"
          ]
        },
        "id": "PV8KRELp8jW0",
        "outputId": "420fcef5-d7a2-4269-ccff-acf309b68d96"
      },
      "source": [
        "N_sample = 5000\n",
        "outcomes = []\n",
        " \n",
        "start_time = time.time()\n",
        " \n",
        "for i in trange(N_sample):\n",
        "    M = np.concatenate((np.zeros((N_assets,1)), np.random.normal(0, np.sqrt(delta_t), (N_assets,N))), axis=1)\n",
        "    M = np.cumsum(M, axis=1)\n",
        "    M = np.dot(np.transpose(sigma), M)\n",
        " \n",
        "    M = np.diff(M, axis=1)\n",
        "    M = M + tilde_mu * delta_t\n",
        " \n",
        "    M = np.concatenate((np.zeros((N_assets,1)),M), axis=1)\n",
        "    M = np.cumsum(M, axis=1)\n",
        " \n",
        "    M = np.exp(M)\n",
        "    for j in range(N_assets):\n",
        "        M[j,:] = M[j,:] * X_0[j]\n",
        "        \n",
        "    outcomes = outcomes + [np.exp(-r*T) * 100 * np.clip(np.sum(np.multiply(weights, np.sum(M * delta_t, axis=1).reshape((N_assets,1)) / T)) - strike, 0, None)]\n",
        " \n",
        "elapsed_time = time.time() - start_time\n",
        " \n",
        "mean_mc = np.mean(outcomes)\n",
        "std_mc = np.std(outcomes)\n",
        "stderr_mc = std_mc / np.sqrt(N_sample)\n",
        " \n",
        "print(\"elapsed time: \", time.strftime(\"%H:%M:%S\", time.gmtime(elapsed_time)))\n",
        " \n",
        "print(\"Mean (MC): \", np.around(mean_mc, 4))\n",
        "print(\"Standard error (MC): \", np.around(stderr_mc, 4), \" (\", np.around(stderr_mc / mean_mc * 100, 2), \"% )\")"
      ],
      "execution_count": 6,
      "outputs": [
        {
          "output_type": "display_data",
          "data": {
            "application/vnd.jupyter.widget-view+json": {
              "model_id": "95726996e9644eb2bc48bf1844e4f37a",
              "version_minor": 0,
              "version_major": 2
            },
            "text/plain": [
              "  0%|          | 0/5000 [00:00<?, ?it/s]"
            ]
          },
          "metadata": {}
        },
        {
          "output_type": "stream",
          "name": "stdout",
          "text": [
            "elapsed time:  00:00:01\n",
            "Mean (MC):  1.2885\n",
            "Standard error (MC):  0.603  ( 46.8 % )\n"
          ]
        }
      ]
    },
    {
      "cell_type": "code",
      "metadata": {
        "id": "n4DCEQJQ8jW0",
        "colab": {
          "base_uri": "https://localhost:8080/",
          "height": 100,
          "referenced_widgets": [
            "55c1159392014b16a0271afbf8b8ab2b",
            "c8469ef65079477ea1adc1fed314bba5",
            "bf421bab2ca54220973b2e64f7f3796e",
            "11b283f502c1410a8833b3c482ca4c5c",
            "373e6989d2534dd39143c4d552b0432c",
            "58f661f5df1b405bb2385818ebfdce02",
            "7f35ec0c3f3f48eca7293a77e91d917c",
            "6ad51fa5ffd9486996ba455de1093565",
            "9a237e7ccd594fdcb9b4833c95f247c4",
            "166e878287834845a2cbf0e1018ffb95",
            "58496b8496824c59bcfe9755b6145bce"
          ]
        },
        "outputId": "0114bfc8-a1ae-4013-a1a8-7772b9a81e76"
      },
      "source": [
        "N_sample = 20000\n",
        "outcomes = []\n",
        "\n",
        "start_time = time.time()\n",
        "\n",
        "for i in trange(N_sample):\n",
        "    M = np.concatenate((np.zeros((N_assets,1)), np.random.normal(0, np.sqrt(delta_t), (N_assets,N))), axis=1)\n",
        "    M = np.cumsum(M, axis=1)\n",
        "    M = np.dot(np.transpose(sigma), M)\n",
        "\n",
        "    M = np.diff(M, axis=1)\n",
        "    M = M + tilde_mu * delta_t\n",
        "\n",
        "    M = np.concatenate((np.zeros((N_assets,1)),M), axis=1)\n",
        "    M = np.cumsum(M, axis=1)\n",
        "\n",
        "    M = np.exp(M)\n",
        "    for j in range(N_assets):\n",
        "        M[j,:] = M[j,:] * X_0[j]\n",
        "        \n",
        "    outcomes = outcomes + [np.exp(-r*T) * 100 * np.clip(np.sum(np.multiply(weights, np.sum(M * delta_t, axis=1).reshape((N_assets,1)) / T)) - strike, 0, None)]\n",
        "\n",
        "elapsed_time = time.time() - start_time\n",
        "\n",
        "mean_mc = np.mean(outcomes)\n",
        "std_mc = np.std(outcomes)\n",
        "stderr_mc = std_mc / np.sqrt(N_sample)\n",
        "\n",
        "print(\"elapsed time: \", time.strftime(\"%H:%M:%S\", time.gmtime(elapsed_time)))\n",
        "\n",
        "print(\"Mean (MC): \", np.around(mean_mc, 4))\n",
        "print(\"Standard error (MC): \", np.around(stderr_mc, 4), \" (\", np.around(stderr_mc / mean_mc * 100, 2), \"% )\")"
      ],
      "execution_count": 7,
      "outputs": [
        {
          "output_type": "display_data",
          "data": {
            "application/vnd.jupyter.widget-view+json": {
              "model_id": "55c1159392014b16a0271afbf8b8ab2b",
              "version_minor": 0,
              "version_major": 2
            },
            "text/plain": [
              "  0%|          | 0/20000 [00:00<?, ?it/s]"
            ]
          },
          "metadata": {}
        },
        {
          "output_type": "stream",
          "name": "stdout",
          "text": [
            "elapsed time:  00:00:06\n",
            "Mean (MC):  0.738\n",
            "Standard error (MC):  0.1662  ( 22.52 % )\n"
          ]
        }
      ]
    },
    {
      "cell_type": "code",
      "metadata": {
        "id": "xx2QAu2rgm4k",
        "colab": {
          "base_uri": "https://localhost:8080/",
          "height": 100,
          "referenced_widgets": [
            "ee119ea4e19d4fb59451b00f8a167f78",
            "86ce54ef0b404e5ba19408552d1903e7",
            "158540adffe243508c911e9cb1034949",
            "115a684106bd4bb39f8da16f9b80535c",
            "6365e8c4ca30444eb54e8f67be025241",
            "f96ca8acb337479598e2e89fe8c2bc54",
            "5d8a8071e1504395a10209909fb213c6",
            "a12dbc2fbf014200a3c9f9ecf449a5a2",
            "af83f7f2961e4c90805460fb352adc38",
            "4579956374ce42d89b8a4f664129da8b",
            "ff988223590347db9c3eb849f02453fa"
          ]
        },
        "outputId": "c76850b4-a9e0-4783-fef3-6e9e969289b1"
      },
      "source": [
        "N_sample = 100000\n",
        "outcomes = []\n",
        "\n",
        "start_time = time.time()\n",
        "\n",
        "for i in trange(N_sample):\n",
        "    M = np.concatenate((np.zeros((N_assets,1)), np.random.normal(0, np.sqrt(delta_t), (N_assets,N))), axis=1)\n",
        "    M = np.cumsum(M, axis=1)\n",
        "    M = np.dot(np.transpose(sigma), M)\n",
        "\n",
        "    M = np.diff(M, axis=1)\n",
        "    M = M + tilde_mu * delta_t\n",
        "\n",
        "    M = np.concatenate((np.zeros((N_assets,1)),M), axis=1)\n",
        "    M = np.cumsum(M, axis=1)\n",
        "\n",
        "    M = np.exp(M)\n",
        "    for j in range(N_assets):\n",
        "        M[j,:] = M[j,:] * X_0[j]\n",
        "        \n",
        "    outcomes = outcomes + [np.exp(-r*T) * 100 * np.clip(np.sum(np.multiply(weights, np.sum(M * delta_t, axis=1).reshape((N_assets,1)) / T)) - strike, 0, None)]\n",
        "\n",
        "elapsed_time = time.time() - start_time\n",
        "\n",
        "mean_mc = np.mean(outcomes)\n",
        "std_mc = np.std(outcomes)\n",
        "stderr_mc = std_mc / np.sqrt(N_sample)\n",
        "\n",
        "print(\"elapsed time: \", time.strftime(\"%H:%M:%S\", time.gmtime(elapsed_time)))\n",
        "\n",
        "print(\"Mean (MC): \", np.around(mean_mc, 4))\n",
        "print(\"Standard error (MC): \", np.around(stderr_mc, 4), \" (\", np.around(stderr_mc / mean_mc * 100, 2), \"% )\")"
      ],
      "execution_count": 8,
      "outputs": [
        {
          "output_type": "display_data",
          "data": {
            "application/vnd.jupyter.widget-view+json": {
              "model_id": "ee119ea4e19d4fb59451b00f8a167f78",
              "version_minor": 0,
              "version_major": 2
            },
            "text/plain": [
              "  0%|          | 0/100000 [00:00<?, ?it/s]"
            ]
          },
          "metadata": {}
        },
        {
          "output_type": "stream",
          "name": "stdout",
          "text": [
            "elapsed time:  00:01:06\n",
            "Mean (MC):  0.9324\n",
            "Standard error (MC):  0.082  ( 8.79 % )\n"
          ]
        }
      ]
    },
    {
      "cell_type": "code",
      "metadata": {
        "id": "m2jvOJq_8jW2"
      },
      "source": [
        "########## ------------------------------\n",
        "### Defining the feedforward network\n",
        " \n",
        "R = 2*10**5\n",
        "learnrate = 0.01\n",
        " \n",
        "layers = []\n",
        " \n",
        "layer = Dense(20, activation=\"tanh\", trainable=True, \n",
        "              kernel_initializer=initializers.RandomNormal(0.0, 0.1), \n",
        "              bias_initializer=initializers.RandomNormal(0.0, 0.1), \n",
        "              name=str(0))\n",
        " \n",
        "layers = layers + [layer]\n",
        " \n",
        "layer = Dense(N_assets, activation=\"linear\", trainable=True, \n",
        "              kernel_initializer=initializers.RandomNormal(0.0, 0.1), \n",
        "              bias_initializer=initializers.RandomNormal(0.0, 0.1), \n",
        "              name=str(1))\n",
        " \n",
        "layers = layers + [layer]"
      ],
      "execution_count": 9,
      "outputs": []
    },
    {
      "cell_type": "code",
      "metadata": {
        "id": "W4fbKual8jW2"
      },
      "source": [
        "########## ------------------------------\n",
        "### Defining the training data\n",
        " \n",
        "Ktrain = R\n",
        "xtrain = ([0*np.ones((Ktrain,1))] + # t_0\n",
        "          [delta_t*np.ones((Ktrain,N_assets))] + # time increment\n",
        "          [0*np.ones((Ktrain,N_assets))] + # M_0\n",
        "          [np.tile(X_0.reshape((N_assets)), (Ktrain, 1))] + # X_0\n",
        "          [np.tile(weights.reshape((N_assets))/T, (Ktrain, 1))] + # wght\n",
        "          [0*np.ones((Ktrain,N_assets))] + # initial value of the payoff\n",
        "          [0*np.ones((Ktrain,N_assets))] + # initial value of the first part of the stoch exp\n",
        "          [0*np.ones((Ktrain,N_assets))] + # initial value of the second part of the stoch exp\n",
        "          [np.random.normal(0,np.sqrt(delta_t),(Ktrain,N_assets)) for i in range(N)]) # Brownian increments\n",
        " \n",
        "ytrain = np.zeros((Ktrain, 1))"
      ],
      "execution_count": 10,
      "outputs": []
    },
    {
      "cell_type": "code",
      "metadata": {
        "id": "Ss3hKR2Y8jW3"
      },
      "source": [
        "### Training loop\n",
        " \n",
        "t_0 = Input(shape=(1, ))\n",
        "d_t = Input(shape=(N_assets, ))\n",
        " \n",
        "M_0 = Input(shape=(N_assets, ))\n",
        "X_start = Input(shape=(N_assets, ))\n",
        " \n",
        "wght = Input(shape=(N_assets, ))\n",
        " \n",
        "c_0 = Input(shape=(N_assets, ))\n",
        "c_1 = Input(shape=(N_assets, ))\n",
        "c_2 = Input(shape=(N_assets, ))\n",
        " \n",
        "inputs = [t_0]+[d_t]+[M_0]+[X_start]+[wght]+[c_0]+[c_1]+[c_2]\n",
        " \n",
        "t_current = t_0\n",
        "M_current = M_0\n",
        "X_current = X_start\n",
        " \n",
        "for j in range(N):\n",
        "    \n",
        "    strategy = t_current\n",
        "    strategy = layers[0](strategy)\n",
        "    strategy = layers[1](strategy)\n",
        "    \n",
        "    incr_M = Input(shape=(N_assets, ))\n",
        "    inputs = inputs + [incr_M]\n",
        "    \n",
        "    M_current = Add()([M_current, incr_M])\n",
        "    helper_0 = tf.transpose(K.dot(K.constant(np.transpose(sigma)), tf.transpose(M_current)))\n",
        "    helper_1 = Lambda(lambda x: tilde_mu.reshape((N_assets)) * x)(t_current)\n",
        "    helper_2 = Add()([helper_1, helper_0])\n",
        "    helper_3 = Lambda(lambda x: K.exp(x))(helper_2)\n",
        "    helper_4 = Multiply()([helper_3, d_t])\n",
        "    helper_5 = Multiply()([X_start, helper_4])\n",
        "    helper_6 = Multiply()([wght, helper_5])\n",
        "    c_0 = Add()([c_0, helper_6])\n",
        "    \n",
        "    helper_e1 = Multiply()([strategy, incr_M])\n",
        "    c_1 = Add()([c_1, helper_e1])\n",
        "    \n",
        "    helper_e2 = Multiply()([strategy, strategy])\n",
        "    helper_e3 = Multiply()([helper_e2, d_t])\n",
        "    c_2 = Add()([c_2, helper_e3])\n",
        "    \n",
        "    t_current = Lambda(lambda x: x + delta_t)(t_current)\n",
        "    \n",
        "helper_e4 = Lambda(lambda x: -0.5 * K.sum(x, axis=1))(c_1)\n",
        "helper_e5 = Lambda(lambda x: 0.25 * K.sum(x, axis=1))(c_2)\n",
        " \n",
        "helper_e6 = Add()([helper_e4, helper_e5])\n",
        "helper_e7 = Lambda(lambda x: K.exp(x))(helper_e6)\n",
        " \n",
        "c_0 = Lambda(lambda x: K.sum(x, axis=1))(c_0)\n",
        "c_0 = Lambda(lambda x: K.relu(x - strike))(c_0)\n",
        " \n",
        "c_0 = Multiply()([c_0, helper_e7])\n",
        " \n",
        "outputs = [c_0]"
      ],
      "execution_count": 11,
      "outputs": []
    },
    {
      "cell_type": "code",
      "metadata": {
        "id": "gVjbnmxQ8jW3"
      },
      "source": [
        "def custom_loss(y_true,y_pred):\n",
        "    z = K.mean(K.square(y_pred))\n",
        "    return z\n",
        " \n",
        "adam = optimizers.Adam(learning_rate=learnrate)\n",
        " \n",
        "model = Model(inputs=inputs, outputs=outputs)\n",
        "model.compile(optimizer=adam,loss=custom_loss)"
      ],
      "execution_count": 12,
      "outputs": []
    },
    {
      "cell_type": "code",
      "metadata": {
        "id": "sz65W7Gs8jW3"
      },
      "source": [
        "# model.summary()\n",
        "# K.set_value(model.optimizer.learning_rate, 0.0001)"
      ],
      "execution_count": null,
      "outputs": []
    },
    {
      "cell_type": "code",
      "metadata": {
        "id": "JrNWdCTE8jW3",
        "colab": {
          "base_uri": "https://localhost:8080/"
        },
        "outputId": "a1f7d725-6d87-4074-847f-b0f5083c7705"
      },
      "source": [
        "model.fit(x=xtrain, y=ytrain, verbose=1, epochs=10, batch_size=100, shuffle = True)"
      ],
      "execution_count": 13,
      "outputs": [
        {
          "output_type": "stream",
          "name": "stdout",
          "text": [
            "Epoch 1/10\n",
            "2000/2000 [==============================] - 44s 19ms/step - loss: 0.0030\n",
            "Epoch 2/10\n",
            "2000/2000 [==============================] - 38s 19ms/step - loss: 8.7563e-04\n",
            "Epoch 3/10\n",
            "2000/2000 [==============================] - 37s 19ms/step - loss: 0.0298\n",
            "Epoch 4/10\n",
            "2000/2000 [==============================] - 38s 19ms/step - loss: 0.0012\n",
            "Epoch 5/10\n",
            "2000/2000 [==============================] - 37s 19ms/step - loss: 8.6527e-04\n",
            "Epoch 6/10\n",
            "2000/2000 [==============================] - 37s 19ms/step - loss: 0.0100\n",
            "Epoch 7/10\n",
            "2000/2000 [==============================] - 37s 19ms/step - loss: 0.0010\n",
            "Epoch 8/10\n",
            "2000/2000 [==============================] - 37s 19ms/step - loss: 0.0029\n",
            "Epoch 9/10\n",
            "2000/2000 [==============================] - 37s 19ms/step - loss: 9.3740e-04\n",
            "Epoch 10/10\n",
            "2000/2000 [==============================] - 37s 18ms/step - loss: 0.0700\n"
          ]
        },
        {
          "output_type": "execute_result",
          "data": {
            "text/plain": [
              "<keras.callbacks.History at 0x7f8724cb3cd0>"
            ]
          },
          "metadata": {},
          "execution_count": 13
        }
      ]
    },
    {
      "cell_type": "code",
      "metadata": {
        "id": "mJj42ox_8jW4"
      },
      "source": [
        "# model.summary()"
      ],
      "execution_count": null,
      "outputs": []
    },
    {
      "cell_type": "code",
      "metadata": {
        "colab": {
          "base_uri": "https://localhost:8080/",
          "height": 604
        },
        "id": "ZCsmJhNO8jW4",
        "outputId": "a9d5118f-ebc8-499e-8388-7e68743cebb8"
      },
      "source": [
        "N = 252\n",
        "delta_t = T/N\n",
        " \n",
        "model_test = keras.Sequential()\n",
        "model_test.add(Dense(20, activation=\"tanh\", name=\"layer1\", input_shape=(1, )))\n",
        "model_test.add(Dense(N_assets, activation=\"linear\", name=\"layer2\"))\n",
        " \n",
        "model_test.build()\n",
        " \n",
        "model_test.layers[0].set_weights(model.layers[27].get_weights())\n",
        "model_test.layers[1].set_weights(model.layers[38].get_weights())\n",
        " \n",
        "t = np.linspace(0, T, N+1)\n",
        "learnedstrat = model_test.predict(t)\n",
        " \n",
        "plt.figure(figsize=(18, 10))\n",
        "plt.plot(t, learnedstrat)\n",
        "plt.xlabel(\"t\")\n",
        "plt.show()"
      ],
      "execution_count": 14,
      "outputs": [
        {
          "output_type": "display_data",
          "data": {
            "image/png": "[encoded data removed]",
            "text/plain": [
              "<Figure size 1296x720 with 1 Axes>"
            ]
          },
          "metadata": {
            "needs_background": "light"
          }
        }
      ]
    },
    {
      "cell_type": "code",
      "metadata": {
        "id": "2U55zkkI8jW4"
      },
      "source": [
        "M_random = np.concatenate((np.zeros((N_assets,1)), np.random.normal(0, np.sqrt(delta_t), (N_assets,N))), axis=1)\n",
        "\n",
        "M_MC = np.cumsum(M_random, axis=1)\n",
        "M_MC = np.dot(np.transpose(sigma), M_MC)\n",
        "\n",
        "M_MC = np.diff(M_MC, axis=1)\n",
        "M_MC = M_MC + tilde_mu * delta_t\n",
        "\n",
        "M_MC = np.concatenate((np.zeros((N_assets,1)),M_MC), axis=1)\n",
        "M_MC = np.cumsum(M_MC, axis=1)\n",
        "\n",
        "M_MC = np.exp(M_MC)\n",
        "for j in range(N_assets):\n",
        "    M_MC[j,:] = M_MC[j,:] * X_0[j]\n",
        "        \n",
        "###\n",
        "\n",
        "M_0 = M_random + np.concatenate((np.zeros((N_assets,1)), np.transpose(learnedstrat[0:N,:]) * delta_t), axis=1)\n",
        "M_0 = np.cumsum(M_0, axis=1)\n",
        "M = np.dot(np.transpose(sigma), M_0)\n",
        "\n",
        "M = np.diff(M, axis=1)\n",
        "M = M + tilde_mu * delta_t\n",
        "\n",
        "M = np.concatenate((np.zeros((N_assets,1)), M), axis=1)\n",
        "M = np.cumsum(M, axis=1)\n",
        "\n",
        "M = np.exp(M)\n",
        "for j in range(N_assets):\n",
        "    M[j,:] = M[j,:] * X_0[j]\n",
        "\n",
        "plt.figure(figsize=(18, 10)) \n",
        "plt.plot(t, np.transpose(M), color = \"blue\", label=\"with drift adjustment\")\n",
        "plt.plot(t, np.transpose(M_MC), color = \"red\", label=\"without drift adjustment\")\n",
        "plt.xlabel(\"t\")\n",
        "# plt.legend(loc=\"upper left\")\n",
        "plt.show()"
      ],
      "execution_count": null,
      "outputs": []
    },
    {
      "cell_type": "code",
      "metadata": {
        "colab": {
          "base_uri": "https://localhost:8080/",
          "height": 236,
          "referenced_widgets": [
            "2015c95961aa4e5e943ceee6a96a80f6",
            "f24d17a91487462da44ced00315b13b3",
            "affc9bd4f01c44b09aaa1a2848b64070",
            "5de6f70408504110b95531667c3644cb",
            "fd183c750ef148268ba6664f0bb710dd",
            "3ac7f7d364444c59b1cf0887a8b29967",
            "ca2123d7fd08414f9963380f1bd9cb35",
            "f0f6d6880f3c445aaf4228f61dbe8203",
            "048f7b125ad84e3e80c1bf70eff8de1a",
            "df7f08e5b48c45f9a6d32a70cb99b17b",
            "5e52ef84226343fa8617643d6811203d"
          ]
        },
        "id": "YV00ji2u8jW5",
        "outputId": "3e19827b-92b1-4711-c730-c3e7fa7ebed2"
      },
      "source": [
        "N_reps = 100\n",
        "N_sample = 5000\n",
        " \n",
        "start_time = time.time()\n",
        " \n",
        "means_MC = []\n",
        "means_IS = []\n",
        " \n",
        "stderr_MC = []\n",
        "stderr_IS = []\n",
        " \n",
        "varratio = []\n",
        " \n",
        "for k in trange(N_reps):\n",
        "    outcomes_MC = []\n",
        "    outcomes_IS = []\n",
        "    \n",
        "    for i in range(N_sample):\n",
        "        \n",
        "        M_random = np.concatenate((np.zeros((N_assets,1)), np.random.normal(0, np.sqrt(delta_t), (N_assets,N))), axis=1)\n",
        "    \n",
        "        ##########\n",
        "    \n",
        "        M_MC = np.cumsum(M_random, axis=1)\n",
        "        M_MC = np.dot(np.transpose(sigma), M_MC)\n",
        " \n",
        "        M_MC = np.diff(M_MC, axis=1)\n",
        "        M_MC = M_MC + tilde_mu * delta_t\n",
        " \n",
        "        M_MC = np.concatenate((np.zeros((N_assets,1)),M_MC), axis=1)\n",
        "        M_MC = np.cumsum(M_MC, axis=1)\n",
        " \n",
        "        M_MC = np.exp(M_MC)\n",
        "        for j in range(N_assets):\n",
        "            M_MC[j,:] = M_MC[j,:] * X_0[j]\n",
        "        \n",
        "        ot_MC = np.clip(np.sum(np.multiply(weights, np.sum(M_MC * delta_t, axis=1).reshape((N_assets,1)) / T)) - strike, 0, None)\n",
        "        \n",
        "        outcomes_MC = outcomes_MC + [np.exp(-r*T) * 100 * ot_MC]\n",
        " \n",
        "        ##########\n",
        "    \n",
        "        M_0 = M_random + np.concatenate((np.zeros((N_assets,1)), np.transpose(learnedstrat[0:N,:]) * delta_t), axis=1)\n",
        "    \n",
        "        M_0 = np.cumsum(M_0, axis=1)\n",
        "        M = np.dot(np.transpose(sigma), M_0)\n",
        " \n",
        "        M = np.diff(M, axis=1)\n",
        "        M = M + tilde_mu * delta_t\n",
        "    \n",
        "        M = np.concatenate((np.zeros((N_assets,1)), M), axis=1)\n",
        "        M = np.cumsum(M, axis=1)\n",
        " \n",
        "        M = np.exp(M)\n",
        "        for j in range(N_assets):\n",
        "            M[j,:] = M[j,:] * X_0[j]\n",
        "        \n",
        "        M_0 = np.diff(M_0, axis=1)\n",
        "    \n",
        "        adj1 = np.sum(np.sum(np.multiply(np.transpose(learnedstrat[0:N,:]), M_0), axis=1), axis=0)\n",
        "        adj2 = np.sum(np.sum(np.multiply(np.transpose(learnedstrat[0:N,:]), np.transpose(learnedstrat[0:N,:])) * delta_t, axis=1), axis=0)\n",
        "    \n",
        "        ot_IS = np.clip(np.sum(np.multiply(weights, np.sum(M * delta_t, axis=1).reshape((N_assets,1)) / T)) - strike, 0, None)\n",
        "        \n",
        "        outcomes_IS = outcomes_IS + [np.exp(-r*T) * 100 * ot_IS * np.exp(-1 * adj1 + 0.5 * adj2)]\n",
        "    \n",
        "    means_MC = means_MC + [np.mean(outcomes_MC)]\n",
        "    means_IS = means_IS + [np.mean(outcomes_IS)]\n",
        "    \n",
        "    stderr_MC = stderr_MC + [np.std(outcomes_MC) / np.sqrt(N_sample)]\n",
        "    stderr_IS = stderr_IS + [np.std(outcomes_IS) / np.sqrt(N_sample)]\n",
        "    \n",
        "    varratio = varratio + [np.var(outcomes_MC) / np.var(outcomes_IS)]\n",
        "    \n",
        "    if (k+1) % 10 == 0:\n",
        "        elapsed_time = time.time() - start_time\n",
        "        print(\"elapsed time: \", time.strftime(\"%H:%M:%S\", time.gmtime(elapsed_time)))\n",
        "    \n",
        "elapsed_time = time.time() - start_time\n",
        "print(\"total elapsed time: \", time.strftime(\"%H:%M:%S\", time.gmtime(elapsed_time)))"
      ],
      "execution_count": 15,
      "outputs": [
        {
          "output_type": "display_data",
          "data": {
            "application/vnd.jupyter.widget-view+json": {
              "model_id": "2015c95961aa4e5e943ceee6a96a80f6",
              "version_minor": 0,
              "version_major": 2
            },
            "text/plain": [
              "  0%|          | 0/100 [00:00<?, ?it/s]"
            ]
          },
          "metadata": {}
        },
        {
          "output_type": "stream",
          "name": "stdout",
          "text": [
            "elapsed time:  00:00:43\n",
            "elapsed time:  00:01:27\n",
            "elapsed time:  00:02:11\n",
            "elapsed time:  00:02:55\n",
            "elapsed time:  00:03:38\n",
            "elapsed time:  00:04:22\n",
            "elapsed time:  00:05:05\n",
            "elapsed time:  00:05:48\n",
            "elapsed time:  00:06:32\n",
            "elapsed time:  00:07:15\n",
            "total elapsed time:  00:07:15\n"
          ]
        }
      ]
    },
    {
      "cell_type": "code",
      "metadata": {
        "colab": {
          "base_uri": "https://localhost:8080/"
        },
        "id": "MGVzcdMk8jW5",
        "outputId": "5415f49a-5ffa-4d8e-fbd4-549472c15f3b"
      },
      "source": [
        "print(\"Mean (MC): \", np.around(np.mean(means_MC), 4))\n",
        "print(\"Mean (IS): \", np.around(np.mean(means_IS), 4))\n",
        "print(\"Standard error (MC): \", np.around(np.mean(stderr_MC), 4), \" (\", np.around(np.mean(stderr_MC) / np.mean(means_MC) * 100, 2), \"% )\")\n",
        "print(\"Standard error (IS): \", np.around(np.mean(stderr_IS), 4), \" (\", np.around(np.mean(stderr_IS) / np.mean(means_IS) * 100, 2), \"% )\")\n",
        "print(\"Variance ratio: \", np.around(np.mean(varratio)))"
      ],
      "execution_count": 16,
      "outputs": [
        {
          "output_type": "stream",
          "name": "stdout",
          "text": [
            "Mean (MC):  0.5671\n",
            "Mean (IS):  0.5562\n",
            "Standard error (MC):  0.2713  ( 47.85 % )\n",
            "Standard error (IS):  0.0513  ( 9.22 % )\n",
            "Variance ratio:  54.0\n"
          ]
        }
      ]
    },
    {
      "cell_type": "code",
      "metadata": {
        "id": "2TCuYN39gm4n",
        "colab": {
          "base_uri": "https://localhost:8080/",
          "height": 641
        },
        "outputId": "03d47a40-cf49-40b6-8f94-dfa1496c3328"
      },
      "source": [
        "print(\"mean MC estimate:  \", np.around(np.mean(means_MC), 4))\n",
        "print(\"mean IS estimate: \", np.around(np.mean(means_IS), 4))\n",
        " \n",
        "bins = np.linspace(0.00, 1.00, 100)\n",
        " \n",
        "plt.figure(figsize=(18, 10)) \n",
        "plt.hist(means_MC, bins, color=\"darkorchid\", alpha=0.5, label=\"MC estimates\")\n",
        "plt.hist(means_IS, bins, color=\"goldenrod\", alpha=0.5, label=\"IS estimates\")\n",
        "plt.axvline(np.mean(means_MC), color=\"darkorchid\", linewidth=2)\n",
        "plt.axvline(np.mean(means_IS), color=\"goldenrod\", linewidth=2)\n",
        "plt.title(\"MC estimates with and without importance sampling (sample size = 5000)\")\n",
        "plt.legend(loc=\"upper right\")\n",
        "plt.show()"
      ],
      "execution_count": 17,
      "outputs": [
        {
          "output_type": "stream",
          "name": "stdout",
          "text": [
            "mean MC estimate:   0.5671\n",
            "mean IS estimate:  0.5562\n"
          ]
        },
        {
          "output_type": "display_data",
          "data": {
            "image/png": "[encoded data removed]",
            "text/plain": [
              "<Figure size 1296x720 with 1 Axes>"
            ]
          },
          "metadata": {
            "needs_background": "light"
          }
        }
      ]
    },
    {
      "cell_type": "code",
      "metadata": {
        "colab": {
          "base_uri": "https://localhost:8080/",
          "height": 640
        },
        "id": "P0W7ukcW8jW6",
        "outputId": "f043f220-f178-4f08-bc7b-eb5e3dc93cad"
      },
      "source": [
        "print(\"mean MC estimate standard error:  \", np.around(np.mean(stderr_MC), 4))\n",
        "print(\"mean IS estimate standard error: \", np.around(np.mean(stderr_IS), 4))\n",
        " \n",
        "bins = np.linspace(0.00, 0.50, 100)\n",
        " \n",
        "plt.figure(figsize=(18, 10)) \n",
        "plt.hist(stderr_MC, bins, color=\"darkorchid\", alpha=0.5, label=\"MC estimates\")\n",
        "plt.hist(stderr_IS, bins, color=\"goldenrod\", alpha=0.5, label=\"IS estimates\")\n",
        "plt.axvline(np.mean(stderr_MC), color=\"darkorchid\", linewidth=2)\n",
        "plt.axvline(np.mean(stderr_IS), color=\"goldenrod\", linewidth=2)\n",
        "plt.title(\"MC estimates standard errors with and without importance sampling (sample size = 5000)\")\n",
        "plt.legend(loc=\"upper right\")\n",
        "plt.show()"
      ],
      "execution_count": 18,
      "outputs": [
        {
          "output_type": "stream",
          "name": "stdout",
          "text": [
            "mean MC estimate standard error:   0.2713\n",
            "mean IS estimate standard error:  0.0513\n"
          ]
        },
        {
          "output_type": "display_data",
          "data": {
            "image/png": "[encoded data removed]",
            "text/plain": [
              "<Figure size 1296x720 with 1 Axes>"
            ]
          },
          "metadata": {
            "needs_background": "light"
          }
        }
      ]
    },
    {
      "cell_type": "code",
      "metadata": {
        "colab": {
          "base_uri": "https://localhost:8080/",
          "height": 592
        },
        "id": "mnJzWcs-8jW6",
        "outputId": "ac90d195-4c66-496e-cd41-11dbc1d7868a"
      },
      "source": [
        "bins = np.linspace(0.00, 500.00, 100)\n",
        " \n",
        "plt.figure(figsize=(18, 10)) \n",
        "plt.hist(varratio, bins, color=\"darkorchid\", alpha=0.5)\n",
        "plt.show()"
      ],
      "execution_count": 21,
      "outputs": [
        {
          "output_type": "display_data",
          "data": {
            "image/png": "[encoded data removed]",
            "text/plain": [
              "<Figure size 1296x720 with 1 Axes>"
            ]
          },
          "metadata": {
            "needs_background": "light"
          }
        }
      ]
    },
    {
      "cell_type": "code",
      "metadata": {
        "id": "Yorj6Y628jW7",
        "colab": {
          "base_uri": "https://localhost:8080/"
        },
        "outputId": "0a447f46-37ba-4aed-cbb2-57e330d4b66c"
      },
      "source": [
        "import pandas as pd\n",
        " \n",
        "data = {'mean MC': means_MC,\n",
        "        'mean IS': means_IS,\n",
        "        'stderr MC': stderr_MC,\n",
        "        'stderr IS': stderr_IS, \n",
        "        'varratio': varratio}\n",
        " \n",
        "df = pd.DataFrame(data, columns = ['mean MC','mean IS', 'stderr MC', 'stderr IS', 'varratio'])\n",
        "df = df.sort_values(by=['varratio'])\n",
        " \n",
        "print(df.tail(10))"
      ],
      "execution_count": 20,
      "outputs": [
        {
          "output_type": "stream",
          "name": "stdout",
          "text": [
            "     mean MC   mean IS  stderr MC  stderr IS    varratio\n",
            "1   0.970441  0.554249   0.725026   0.061013  141.209523\n",
            "25  0.992624  0.484402   0.432264   0.033021  171.359965\n",
            "90  1.285666  0.511804   0.446478   0.032449  189.326389\n",
            "66  0.961214  0.488304   0.406381   0.029433  190.638410\n",
            "3   1.000096  0.509272   0.422533   0.029542  204.565434\n",
            "53  1.000560  0.543265   0.448814   0.031299  205.618565\n",
            "75  1.061655  0.514561   0.615654   0.041080  224.598259\n",
            "81  1.061471  0.534644   0.494992   0.032008  239.154763\n",
            "37  1.595552  0.488309   0.545285   0.033175  270.159133\n",
            "56  1.656672  0.579672   0.757297   0.040320  352.772363\n"
          ]
        }
      ]
    },
    {
      "cell_type": "code",
      "metadata": {
        "id": "N-0YA-wC8jW7"
      },
      "source": [
        "print(np.around(stderr_MC[0] / means_MC[0] * 100, 6))\n",
        "print(np.around(stderr_IS[0] / means_IS[0] * 100, 6))"
      ],
      "execution_count": null,
      "outputs": []
    },
    {
      "cell_type": "code",
      "metadata": {
        "id": "7tSi_W9YEujr"
      },
      "source": [
        "N_reps = 100\n",
        "N_sample = 20000\n",
        " \n",
        "start_time = time.time()\n",
        " \n",
        "means_MC = []\n",
        "means_IS = []\n",
        " \n",
        "stderr_MC = []\n",
        "stderr_IS = []\n",
        " \n",
        "varratio = []\n",
        " \n",
        "for k in trange(N_reps):\n",
        "# for k in progressbar(range(N_reps), \"Computing: \", 60):\n",
        "    outcomes_MC = []\n",
        "    outcomes_IS = []\n",
        "    \n",
        "    # for i in trange(N_sample):\n",
        "    # for i in progressbar(range(N_sample), \"Computing: \", 60):\n",
        "    for i in range(N_sample):\n",
        "        \n",
        "        M_random = np.concatenate((np.zeros((N_assets,1)), np.random.normal(0, np.sqrt(delta_t), (N_assets,N))), axis=1)\n",
        "    \n",
        "        ##########\n",
        "    \n",
        "        M_MC = np.cumsum(M_random, axis=1)\n",
        "        M_MC = np.dot(np.transpose(sigma), M_MC)\n",
        " \n",
        "        M_MC = np.diff(M_MC, axis=1)\n",
        "        M_MC = M_MC + tilde_mu * delta_t\n",
        " \n",
        "        M_MC = np.concatenate((np.zeros((N_assets,1)),M_MC), axis=1)\n",
        "        M_MC = np.cumsum(M_MC, axis=1)\n",
        " \n",
        "        M_MC = np.exp(M_MC)\n",
        "        for j in range(N_assets):\n",
        "            M_MC[j,:] = M_MC[j,:] * X_0[j]\n",
        "        \n",
        "        ot_MC = np.clip(np.sum(np.multiply(weights, np.sum(M_MC * delta_t, axis=1).reshape((N_assets,1)) / T)) - strike, 0, None)\n",
        "        \n",
        "        outcomes_MC = outcomes_MC + [np.exp(-r*T) * 100 * ot_MC]\n",
        " \n",
        "        ##########\n",
        "    \n",
        "        M_0 = M_random + np.concatenate((np.zeros((N_assets,1)), np.transpose(learnedstrat[0:N,:]) * delta_t), axis=1)\n",
        "    \n",
        "        M_0 = np.cumsum(M_0, axis=1)\n",
        "        M = np.dot(np.transpose(sigma), M_0)\n",
        " \n",
        "        M = np.diff(M, axis=1)\n",
        "        M = M + tilde_mu * delta_t\n",
        "    \n",
        "        M = np.concatenate((np.zeros((N_assets,1)), M), axis=1)\n",
        "        M = np.cumsum(M, axis=1)\n",
        " \n",
        "        M = np.exp(M)\n",
        "        for j in range(N_assets):\n",
        "            M[j,:] = M[j,:] * X_0[j]\n",
        "        \n",
        "        M_0 = np.diff(M_0, axis=1)\n",
        "    \n",
        "        adj1 = np.sum(np.sum(np.multiply(np.transpose(learnedstrat[0:N,:]), M_0), axis=1), axis=0)\n",
        "        adj2 = np.sum(np.sum(np.multiply(np.transpose(learnedstrat[0:N,:]), np.transpose(learnedstrat[0:N,:])) * delta_t, axis=1), axis=0)\n",
        "    \n",
        "        ot_IS = np.clip(np.sum(np.multiply(weights, np.sum(M * delta_t, axis=1).reshape((N_assets,1)) / T)) - strike, 0, None)\n",
        "        \n",
        "        outcomes_IS = outcomes_IS + [np.exp(-r*T) * 100 * ot_IS * np.exp(-1 * adj1 + 0.5 * adj2)]\n",
        "    \n",
        "    means_MC = means_MC + [np.mean(outcomes_MC)]\n",
        "    means_IS = means_IS + [np.mean(outcomes_IS)]\n",
        "    \n",
        "    stderr_MC = stderr_MC + [np.std(outcomes_MC) / np.sqrt(N_sample)]\n",
        "    stderr_IS = stderr_IS + [np.std(outcomes_IS) / np.sqrt(N_sample)]\n",
        "    \n",
        "    varratio = varratio + [np.var(outcomes_MC) / np.var(outcomes_IS)]\n",
        "    \n",
        "    if (k+1) % 10 == 0:\n",
        "        elapsed_time = time.time() - start_time\n",
        "        print(\"elapsed time: \", time.strftime(\"%H:%M:%S\", time.gmtime(elapsed_time)))\n",
        "    \n",
        "elapsed_time = time.time() - start_time\n",
        "print(\"total elapsed time: \", time.strftime(\"%H:%M:%S\", time.gmtime(elapsed_time)))"
      ],
      "execution_count": null,
      "outputs": []
    },
    {
      "cell_type": "code",
      "metadata": {
        "id": "VBd8Wej_Fw5H"
      },
      "source": [
        "print(\"Mean (MC): \", np.around(np.mean(means_MC), 4))\n",
        "print(\"Mean (IS): \", np.around(np.mean(means_IS), 4))\n",
        "print(\"Standard error (MC): \", np.around(np.mean(stderr_MC), 4), \" (\", np.around(np.mean(stderr_MC) / np.mean(means_MC) * 100, 2), \"% )\")\n",
        "print(\"Standard error (IS): \", np.around(np.mean(stderr_IS), 4), \" (\", np.around(np.mean(stderr_IS) / np.mean(means_IS) * 100, 2), \"% )\")\n",
        "print(\"Variance ratio: \", np.around(np.mean(varratio)))"
      ],
      "execution_count": null,
      "outputs": []
    },
    {
      "cell_type": "code",
      "metadata": {
        "id": "5HjPrDJvFybK"
      },
      "source": [
        "print(\"mean MC estimate:  \", np.around(np.mean(means_MC), 4))\n",
        "print(\"mean IS estimate: \", np.around(np.mean(means_IS), 4))\n",
        " \n",
        "bins = np.linspace(5.00, 15.00, 100)\n",
        " \n",
        "plt.figure(figsize=(18, 10)) \n",
        "plt.hist(means_MC, bins, color=\"darkorchid\", alpha=0.5, label=\"MC estimates\")\n",
        "plt.hist(means_IS, bins, color=\"goldenrod\", alpha=0.5, label=\"IS estimates\")\n",
        "plt.axvline(np.mean(means_MC), color=\"darkorchid\", linewidth=2)\n",
        "plt.axvline(np.mean(means_IS), color=\"goldenrod\", linewidth=2)\n",
        "plt.title(\"MC estimates with and without importance sampling (sample size = 20000)\")\n",
        "plt.legend(loc=\"upper right\")\n",
        "plt.show()"
      ],
      "execution_count": null,
      "outputs": []
    },
    {
      "cell_type": "code",
      "metadata": {
        "id": "QNO5R3ctF3gu"
      },
      "source": [
        "print(\"mean MC estimate standard error:  \", np.around(np.mean(stderr_MC), 4))\n",
        "print(\"mean IS estimate standard error: \", np.around(np.mean(stderr_IS), 4))\n",
        " \n",
        "bins = np.linspace(0.00, 2.50, 100)\n",
        " \n",
        "plt.figure(figsize=(18, 10)) \n",
        "plt.hist(stderr_MC, bins, color=\"darkorchid\", alpha=0.5, label=\"MC estimates\")\n",
        "plt.hist(stderr_IS, bins, color=\"goldenrod\", alpha=0.5, label=\"IS estimates\")\n",
        "plt.axvline(np.mean(stderr_MC), color=\"darkorchid\", linewidth=2)\n",
        "plt.axvline(np.mean(stderr_IS), color=\"goldenrod\", linewidth=2)\n",
        "plt.title(\"MC estimates standard errors with and without importance sampling (sample size = 20000)\")\n",
        "plt.legend(loc=\"upper right\")\n",
        "plt.show()"
      ],
      "execution_count": null,
      "outputs": []
    },
    {
      "cell_type": "code",
      "metadata": {
        "id": "Tfwqz9FbF9Di"
      },
      "source": [
        "bins = np.linspace(0.00, 50.00, 100)\n",
        " \n",
        "plt.figure(figsize=(18, 10)) \n",
        "plt.hist(varratio, bins, color=\"darkorchid\", alpha=0.5)\n",
        "plt.show()"
      ],
      "execution_count": null,
      "outputs": []
    },
    {
      "cell_type": "code",
      "metadata": {
        "id": "BCckCkODGBoe"
      },
      "source": [
        "data = {'mean MC': means_MC,\n",
        "        'mean IS': means_IS,\n",
        "        'stderr MC': stderr_MC,\n",
        "        'stderr IS': stderr_IS, \n",
        "        'varratio': varratio}\n",
        " \n",
        "df = pd.DataFrame(data, columns = ['mean MC','mean IS', 'stderr MC', 'stderr IS', 'varratio'])\n",
        "df = df.sort_values(by=['varratio'])\n",
        " \n",
        "print(df.tail(50))"
      ],
      "execution_count": null,
      "outputs": []
    },
    {
      "cell_type": "code",
      "metadata": {
        "id": "L3io2do1GCBr"
      },
      "source": [
        "print(np.around(stderr_MC[0] / means_MC[0] * 100, 6))\n",
        "print(np.around(stderr_IS[0] / means_IS[0] * 100, 6))"
      ],
      "execution_count": null,
      "outputs": []
    },
    {
      "cell_type": "code",
      "metadata": {
        "id": "-WJMOO8vGCZD"
      },
      "source": [
        "stderr_IS[25]"
      ],
      "execution_count": null,
      "outputs": []
    },
    {
      "cell_type": "code",
      "metadata": {
        "id": "zA5buQ7oPWBA"
      },
      "source": [
        "N_reps = 25\n",
        "N_sample = 100000\n",
        " \n",
        "start_time = time.time()\n",
        " \n",
        "means_MC = []\n",
        "means_IS = []\n",
        " \n",
        "stderr_MC = []\n",
        "stderr_IS = []\n",
        " \n",
        "varratio = []\n",
        " \n",
        "for k in trange(N_reps):\n",
        "# for k in progressbar(range(N_reps), \"Computing: \", 60):\n",
        "    outcomes_MC = []\n",
        "    outcomes_IS = []\n",
        "    \n",
        "    # for i in trange(N_sample):\n",
        "    # for i in progressbar(range(N_sample), \"Computing: \", 60):\n",
        "    for i in range(N_sample):\n",
        "        \n",
        "        M_random = np.concatenate((np.zeros((N_assets,1)), np.random.normal(0, np.sqrt(delta_t), (N_assets,N))), axis=1)\n",
        "    \n",
        "        ##########\n",
        "    \n",
        "        M_MC = np.cumsum(M_random, axis=1)\n",
        "        M_MC = np.dot(np.transpose(sigma), M_MC)\n",
        " \n",
        "        M_MC = np.diff(M_MC, axis=1)\n",
        "        M_MC = M_MC + tilde_mu * delta_t\n",
        " \n",
        "        M_MC = np.concatenate((np.zeros((N_assets,1)),M_MC), axis=1)\n",
        "        M_MC = np.cumsum(M_MC, axis=1)\n",
        " \n",
        "        M_MC = np.exp(M_MC)\n",
        "        for j in range(N_assets):\n",
        "            M_MC[j,:] = M_MC[j,:] * X_0[j]\n",
        "        \n",
        "        ot_MC = np.clip(np.sum(np.multiply(weights, np.sum(M_MC * delta_t, axis=1).reshape((N_assets,1)) / T)) - strike, 0, None)\n",
        "        \n",
        "        outcomes_MC = outcomes_MC + [np.exp(-r*T) * 100 * ot_MC]\n",
        " \n",
        "        ##########\n",
        "    \n",
        "        M_0 = M_random + np.concatenate((np.zeros((N_assets,1)), np.transpose(learnedstrat[0:N,:]) * delta_t), axis=1)\n",
        "    \n",
        "        M_0 = np.cumsum(M_0, axis=1)\n",
        "        M = np.dot(np.transpose(sigma), M_0)\n",
        " \n",
        "        M = np.diff(M, axis=1)\n",
        "        M = M + tilde_mu * delta_t\n",
        "    \n",
        "        M = np.concatenate((np.zeros((N_assets,1)), M), axis=1)\n",
        "        M = np.cumsum(M, axis=1)\n",
        " \n",
        "        M = np.exp(M)\n",
        "        for j in range(N_assets):\n",
        "            M[j,:] = M[j,:] * X_0[j]\n",
        "        \n",
        "        M_0 = np.diff(M_0, axis=1)\n",
        "    \n",
        "        adj1 = np.sum(np.sum(np.multiply(np.transpose(learnedstrat[0:N,:]), M_0), axis=1), axis=0)\n",
        "        adj2 = np.sum(np.sum(np.multiply(np.transpose(learnedstrat[0:N,:]), np.transpose(learnedstrat[0:N,:])) * delta_t, axis=1), axis=0)\n",
        "    \n",
        "        ot_IS = np.clip(np.sum(np.multiply(weights, np.sum(M * delta_t, axis=1).reshape((N_assets,1)) / T)) - strike, 0, None)\n",
        "        \n",
        "        outcomes_IS = outcomes_IS + [np.exp(-r*T) * 100 * ot_IS * np.exp(-1 * adj1 + 0.5 * adj2)]\n",
        "    \n",
        "    means_MC = means_MC + [np.mean(outcomes_MC)]\n",
        "    means_IS = means_IS + [np.mean(outcomes_IS)]\n",
        "    \n",
        "    stderr_MC = stderr_MC + [np.std(outcomes_MC) / np.sqrt(N_sample)]\n",
        "    stderr_IS = stderr_IS + [np.std(outcomes_IS) / np.sqrt(N_sample)]\n",
        "    \n",
        "    varratio = varratio + [np.var(outcomes_MC) / np.var(outcomes_IS)]\n",
        "    \n",
        "    if (k+1) % 10 == 0:\n",
        "        elapsed_time = time.time() - start_time\n",
        "        print(\"elapsed time: \", time.strftime(\"%H:%M:%S\", time.gmtime(elapsed_time)))\n",
        "    \n",
        "elapsed_time = time.time() - start_time\n",
        "print(\"total elapsed time: \", time.strftime(\"%H:%M:%S\", time.gmtime(elapsed_time)))"
      ],
      "execution_count": null,
      "outputs": []
    },
    {
      "cell_type": "code",
      "metadata": {
        "id": "dOjAjqJZjuwV"
      },
      "source": [
        "print(\"Mean (MC): \", np.around(np.mean(means_MC), 4))\n",
        "print(\"Mean (IS): \", np.around(np.mean(means_IS), 4))\n",
        "print(\"Standard error (MC): \", np.around(np.mean(stderr_MC), 4), \" (\", np.around(np.mean(stderr_MC) / np.mean(means_MC) * 100, 2), \"% )\")\n",
        "print(\"Standard error (IS): \", np.around(np.mean(stderr_IS), 4), \" (\", np.around(np.mean(stderr_IS) / np.mean(means_IS) * 100, 2), \"% )\")\n",
        "print(\"Variance ratio: \", np.around(np.mean(varratio)))"
      ],
      "execution_count": null,
      "outputs": []
    },
    {
      "cell_type": "code",
      "metadata": {
        "id": "B3Qb36chjvDQ"
      },
      "source": [
        "print(\"mean MC estimate:  \", np.around(np.mean(means_MC), 4))\n",
        "print(\"mean IS estimate: \", np.around(np.mean(means_IS), 4))\n",
        " \n",
        "bins = np.linspace(5.00, 15.00, 100)\n",
        " \n",
        "plt.figure(figsize=(18, 10)) \n",
        "plt.hist(means_MC, bins, color=\"darkorchid\", alpha=0.5, label=\"MC estimates\")\n",
        "plt.hist(means_IS, bins, color=\"goldenrod\", alpha=0.5, label=\"IS estimates\")\n",
        "plt.axvline(np.mean(means_MC), color=\"darkorchid\", linewidth=2)\n",
        "plt.axvline(np.mean(means_IS), color=\"goldenrod\", linewidth=2)\n",
        "plt.title(\"MC estimates with and without importance sampling (sample size = 100000)\")\n",
        "plt.legend(loc=\"upper right\")\n",
        "plt.show()"
      ],
      "execution_count": null,
      "outputs": []
    },
    {
      "cell_type": "code",
      "metadata": {
        "id": "vUrWLWlyjvV5"
      },
      "source": [
        "print(\"mean MC estimate standard error:  \", np.around(np.mean(stderr_MC), 4))\n",
        "print(\"mean IS estimate standard error: \", np.around(np.mean(stderr_IS), 4))\n",
        " \n",
        "bins = np.linspace(0.00, 2.50, 100)\n",
        " \n",
        "plt.figure(figsize=(18, 10)) \n",
        "plt.hist(stderr_MC, bins, color=\"darkorchid\", alpha=0.5, label=\"MC estimates\")\n",
        "plt.hist(stderr_IS, bins, color=\"goldenrod\", alpha=0.5, label=\"IS estimates\")\n",
        "plt.axvline(np.mean(stderr_MC), color=\"darkorchid\", linewidth=2)\n",
        "plt.axvline(np.mean(stderr_IS), color=\"goldenrod\", linewidth=2)\n",
        "plt.title(\"MC estimates standard errors with and without importance sampling (sample size = 100000)\")\n",
        "plt.legend(loc=\"upper right\")\n",
        "plt.show()"
      ],
      "execution_count": null,
      "outputs": []
    },
    {
      "cell_type": "code",
      "metadata": {
        "id": "3I-ZGB0ujvn1"
      },
      "source": [
        "bins = np.linspace(0.00, 50.00, 100)\n",
        " \n",
        "plt.figure(figsize=(18, 10)) \n",
        "plt.hist(varratio, bins, color=\"darkorchid\", alpha=0.5)\n",
        "plt.show()"
      ],
      "execution_count": null,
      "outputs": []
    },
    {
      "cell_type": "code",
      "metadata": {
        "id": "WKuoi0lyjv8w"
      },
      "source": [
        "data = {'mean MC': means_MC,\n",
        "        'mean IS': means_IS,\n",
        "        'stderr MC': stderr_MC,\n",
        "        'stderr IS': stderr_IS, \n",
        "        'varratio': varratio}\n",
        " \n",
        "df = pd.DataFrame(data, columns = ['mean MC','mean IS', 'stderr MC', 'stderr IS', 'varratio'])\n",
        "df = df.sort_values(by=['varratio'])\n",
        " \n",
        "print(df.tail(25))"
      ],
      "execution_count": null,
      "outputs": []
    },
    {
      "cell_type": "code",
      "metadata": {
        "id": "m89Niu6-kK5E"
      },
      "source": [
        "print(np.around(stderr_MC[0] / means_MC[0] * 100, 6))\n",
        "print(np.around(stderr_IS[0] / means_IS[0] * 100, 6))"
      ],
      "execution_count": null,
      "outputs": []
    },
    {
      "cell_type": "code",
      "metadata": {
        "id": "dH4BLr-kkLKH"
      },
      "source": [
        "stderr_IS[0]"
      ],
      "execution_count": null,
      "outputs": []
    },
    {
      "cell_type": "code",
      "metadata": {
        "id": "bl2DDx0MkLa-"
      },
      "source": [
        "N_reps = 1\n",
        "N_sample = 1000000\n",
        " \n",
        "start_time = time.time()\n",
        " \n",
        "means_MC = []\n",
        "means_IS = []\n",
        " \n",
        "stderr_MC = []\n",
        "stderr_IS = []\n",
        " \n",
        "varratio = []\n",
        " \n",
        "for k in trange(N_reps):\n",
        "# for k in progressbar(range(N_reps), \"Computing: \", 60):\n",
        "    outcomes_MC = []\n",
        "    outcomes_IS = []\n",
        "    \n",
        "    # for i in trange(N_sample):\n",
        "    # for i in progressbar(range(N_sample), \"Computing: \", 60):\n",
        "    for i in trange(N_sample):\n",
        "        \n",
        "        M_random = np.concatenate((np.zeros((N_assets,1)), np.random.normal(0, np.sqrt(delta_t), (N_assets,N))), axis=1)\n",
        "    \n",
        "        ##########\n",
        "    \n",
        "        M_MC = np.cumsum(M_random, axis=1)\n",
        "        M_MC = np.dot(np.transpose(sigma), M_MC)\n",
        " \n",
        "        M_MC = np.diff(M_MC, axis=1)\n",
        "        M_MC = M_MC + tilde_mu * delta_t\n",
        " \n",
        "        M_MC = np.concatenate((np.zeros((N_assets,1)),M_MC), axis=1)\n",
        "        M_MC = np.cumsum(M_MC, axis=1)\n",
        " \n",
        "        M_MC = np.exp(M_MC)\n",
        "        for j in range(N_assets):\n",
        "            M_MC[j,:] = M_MC[j,:] * X_0[j]\n",
        "        \n",
        "        ot_MC = np.clip(np.sum(np.multiply(weights, np.sum(M_MC * delta_t, axis=1).reshape((N_assets,1)) / T)) - strike, 0, None)\n",
        "        \n",
        "        outcomes_MC = outcomes_MC + [np.exp(-r*T) * 100 * ot_MC]\n",
        " \n",
        "        ##########\n",
        "    \n",
        "        M_0 = M_random + np.concatenate((np.zeros((N_assets,1)), np.transpose(learnedstrat[0:N,:]) * delta_t), axis=1)\n",
        "    \n",
        "        M_0 = np.cumsum(M_0, axis=1)\n",
        "        M = np.dot(np.transpose(sigma), M_0)\n",
        " \n",
        "        M = np.diff(M, axis=1)\n",
        "        M = M + tilde_mu * delta_t\n",
        "    \n",
        "        M = np.concatenate((np.zeros((N_assets,1)), M), axis=1)\n",
        "        M = np.cumsum(M, axis=1)\n",
        " \n",
        "        M = np.exp(M)\n",
        "        for j in range(N_assets):\n",
        "            M[j,:] = M[j,:] * X_0[j]\n",
        "        \n",
        "        M_0 = np.diff(M_0, axis=1)\n",
        "    \n",
        "        adj1 = np.sum(np.sum(np.multiply(np.transpose(learnedstrat[0:N,:]), M_0), axis=1), axis=0)\n",
        "        adj2 = np.sum(np.sum(np.multiply(np.transpose(learnedstrat[0:N,:]), np.transpose(learnedstrat[0:N,:])) * delta_t, axis=1), axis=0)\n",
        "    \n",
        "        ot_IS = np.clip(np.sum(np.multiply(weights, np.sum(M * delta_t, axis=1).reshape((N_assets,1)) / T)) - strike, 0, None)\n",
        "        \n",
        "        outcomes_IS = outcomes_IS + [np.exp(-r*T) * 100 * ot_IS * np.exp(-1 * adj1 + 0.5 * adj2)]\n",
        "    \n",
        "    means_MC = means_MC + [np.mean(outcomes_MC)]\n",
        "    means_IS = means_IS + [np.mean(outcomes_IS)]\n",
        "    \n",
        "    stderr_MC = stderr_MC + [np.std(outcomes_MC) / np.sqrt(N_sample)]\n",
        "    stderr_IS = stderr_IS + [np.std(outcomes_IS) / np.sqrt(N_sample)]\n",
        "    \n",
        "    varratio = varratio + [np.var(outcomes_MC) / np.var(outcomes_IS)]\n",
        "    \n",
        "    if (k+1) % 10 == 0:\n",
        "        elapsed_time = time.time() - start_time\n",
        "        print(\"elapsed time: \", time.strftime(\"%H:%M:%S\", time.gmtime(elapsed_time)))\n",
        "    \n",
        "elapsed_time = time.time() - start_time\n",
        "print(\"total elapsed time: \", time.strftime(\"%H:%M:%S\", time.gmtime(elapsed_time)))"
      ],
      "execution_count": null,
      "outputs": []
    }
  ]
}