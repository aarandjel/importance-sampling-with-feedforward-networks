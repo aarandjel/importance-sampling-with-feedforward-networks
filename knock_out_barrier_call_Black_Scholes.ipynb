{
  "nbformat": 4,
  "nbformat_minor": 0,
  "metadata": {
    "accelerator": "TPU",
    "colab": {
      "name": "knock_out_barrier_call_Black_Scholes.ipynb",
      "provenance": [],
      "collapsed_sections": [],
      "include_colab_link": true
    },
    "kernelspec": {
      "display_name": "Python 3",
      "language": "python",
      "name": "python3"
    },
    "language_info": {
      "codemirror_mode": {
        "name": "ipython",
        "version": 3
      },
      "file_extension": ".py",
      "mimetype": "text/x-python",
      "name": "python",
      "nbconvert_exporter": "python",
      "pygments_lexer": "ipython3",
      "version": "3.6.9"
    }
  },
  "cells": [
    {
      "cell_type": "markdown",
      "metadata": {
        "id": "view-in-github",
        "colab_type": "text"
      },
      "source": [
        "<a href=\"https://colab.research.google.com/github/aarandjel/importance-sampling-with-feedforward-networks/blob/main/knock_out_barrier_call_Black_Scholes.ipynb\" target=\"_parent\"><img src=\"https://colab.research.google.com/assets/colab-badge.svg\" alt=\"Open In Colab\"/></a>"
      ]
    },
    {
      "cell_type": "markdown",
      "metadata": {
        "id": "kQdSDIhhIU6R"
      },
      "source": [
        "# Importance sampling for option pricing with feedforward networks\n",
        "## A. Arandjelović\n",
        "\n",
        "Let $r \\in \\mathbb{R}$ and $\\sigma > 0$ be given constants.\n",
        "We consider a filtered probability space $(\\Omega, \\mathcal{F}, \\mathbb{F}, \\mathbb{P})$ and an $(\\mathbb{F}, \\mathbb{P})$-standard Brownian motion $B = (B_{t})_{0 \\le t \\le T}$ for a finite time horizon $T > 0$.\n",
        "The asset price $S$ is assumed to follow the dynamics\n",
        "\n",
        "$$\n",
        "\\mathrm{d}S_{t} = r S_{t}\\, \\mathrm{d}t + \\sigma S_{t}\\, \\mathrm{d}B_{t}, \\quad S_{0} \\in \\mathbb{R},\n",
        "$$\n",
        "\n",
        "hence $S_{t} = S_{0}\\exp{\\bigl((r-\\sigma^{2}/2)t + \\sigma B_{t}\\bigr)}$.\n",
        "\n",
        "As a payoff we consider for a given strike $K > 0$ a call option with knock-out region $(L, U)^{\\mathrm{c}}$:\n",
        "\n",
        "$$\n",
        "G(S) = \\Bigl( S_{T} - K \\Bigr)^{+} = \\Bigl( S_{0}\\mathrm{e}^{(r-\\sigma^{2}/2)T + \\sigma B_{T}} - K \\Bigr)^{+}.\n",
        "$$"
      ]
    },
    {
      "cell_type": "code",
      "metadata": {
        "colab": {
          "base_uri": "https://localhost:8080/"
        },
        "id": "xnMJrc31IU6j",
        "outputId": "aac30ba8-93ad-40d9-c240-fb6f1e4bfdf1"
      },
      "source": [
        "import sys\n",
        "import time\n",
        "import numpy as np\n",
        "from scipy.stats import norm\n",
        "import matplotlib.pyplot as plt\n",
        "\n",
        "import tensorflow as tf\n",
        "from tensorflow import keras\n",
        "from tensorflow.keras import optimizers, initializers\n",
        "from tensorflow.keras.layers import Dense, Input, Concatenate, Subtract, Multiply, Lambda, Add, Minimum, Maximum\n",
        "from tensorflow.keras.models import Model, load_model\n",
        "import tensorflow.keras.backend as K\n",
        "\n",
        "print('Python version: ', sys.version)\n",
        "print('Tensorflow version: ', tf.__version__)\n",
        "print('Keras version: ', keras.__version__)"
      ],
      "execution_count": null,
      "outputs": [
        {
          "name": "stdout",
          "output_type": "stream",
          "text": [
            "Python version:  3.6.9 |Anaconda, Inc.| (default, Jul 30 2019, 13:42:17) \n",
            "[GCC 4.2.1 Compatible Clang 4.0.1 (tags/RELEASE_401/final)]\n",
            "Tensorflow version:  2.0.0\n",
            "Keras version:  2.2.4-tf\n"
          ]
        }
      ]
    },
    {
      "cell_type": "code",
      "metadata": {
        "id": "XZOjhnij9eft"
      },
      "source": [
        "T = 1\n",
        "N = 32\n",
        "delta_t = T/N\n",
        "\n",
        "S0 = 50\n",
        "r = 0.05\n",
        "sigma = 0.25\n",
        "\n",
        "strike = 90\n",
        "\n",
        "L = 20.0\n",
        "U = 120.0\n",
        "\n",
        "c = r - 0.5 * sigma ** 2\n",
        "\n",
        "disc = np.exp(-T*r)\n",
        "\n",
        "R = 5*10**5\n",
        "\n",
        "d = 3               # number of layers in strategy (hidden and output)\n",
        "n = 3               # nodes in the hidden layers\n",
        "a = 0.0             # initial random weights mean\n",
        "b = 1.0             # initial random weights sd\n",
        "learnrate = 0.01    # learning rate in SGD"
      ],
      "execution_count": null,
      "outputs": []
    },
    {
      "cell_type": "code",
      "metadata": {
        "id": "rrP5YrS29efu"
      },
      "source": [
        "def progressbar(it, prefix=\"\", size=60, file=sys.stdout):\n",
        "    count = len(it)\n",
        "    def show(j):\n",
        "        x = int(size*j/count)\n",
        "        file.write(\"%s[%s%s] %i/%i\\r\" % (prefix, \"#\"*x, \".\"*(size-x), j, count))\n",
        "        file.flush()        \n",
        "    show(0)\n",
        "    for i, item in enumerate(it):\n",
        "        yield item\n",
        "        show(i+1)\n",
        "    file.write(\"\\n\")\n",
        "    file.flush()"
      ],
      "execution_count": null,
      "outputs": []
    },
    {
      "cell_type": "code",
      "metadata": {
        "id": "vsVotAy6IU7u"
      },
      "source": [
        "layers = []\n",
        "for i in range(d):\n",
        "    if i < d-1: \n",
        "        nodes = n\n",
        "        layer = Dense(units=nodes, activation='tanh', trainable=True, name=str(i),\n",
        "                     kernel_initializer=initializers.RandomNormal(a, b),\n",
        "                     bias_initializer=initializers.RandomNormal(a, b))\n",
        "    else:\n",
        "        nodes = 1\n",
        "        layer = Dense(units=nodes, activation='linear', trainable=True, name=str(i),\n",
        "                     kernel_initializer=initializers.RandomNormal(a, b),\n",
        "                     bias_initializer=initializers.RandomNormal(a, b))\n",
        "    layers = layers + [layer]"
      ],
      "execution_count": null,
      "outputs": []
    },
    {
      "cell_type": "code",
      "metadata": {
        "id": "1vmanUTO9efv"
      },
      "source": [
        "Ktrain = R\n",
        "xtrain = ([0*np.ones((Ktrain,1))] + # t_0\n",
        "          [0*np.ones((Ktrain,1))] + # B_0\n",
        "          [S0*np.ones((Ktrain,1))] + # S_0\n",
        "          [delta_t*np.ones((Ktrain,1))] + # time increment\n",
        "          [0*np.ones((Ktrain,1))] + # initial value of the first part of the stoch exp\n",
        "          [0*np.ones((Ktrain,1))] + # initial value of the second part of the stoch exp\n",
        "          [np.random.normal(0,np.sqrt(delta_t),(Ktrain,1)) for i in range(N)]) # Brownian increments\n",
        "ytrain = np.zeros((Ktrain, 1))"
      ],
      "execution_count": null,
      "outputs": []
    },
    {
      "cell_type": "code",
      "metadata": {
        "id": "jlREI6yf9efv"
      },
      "source": [
        "t_0 = Input(shape=(1, ))\n",
        "B_0 = Input(shape=(1, ))\n",
        "S_0 = Input(shape=(1, ))\n",
        "d_t = Input(shape=(1, ))\n",
        "c_0 = Input(shape=(1, ))\n",
        "c_1 = Input(shape=(1, ))\n",
        "\n",
        "inputs = [t_0]+[B_0]+[S_0]+[d_t]+[c_0]+[c_1]\n",
        "\n",
        "t_current = t_0\n",
        "B_current = B_0\n",
        "S_current = S_0\n",
        "\n",
        "S_min = S_0\n",
        "S_max = S_0\n",
        "\n",
        "for j in range(N):\n",
        "    \n",
        "    strategy = t_current\n",
        "    for k in range(d):\n",
        "        strategy = layers[k](strategy)\n",
        "    \n",
        "    t_current = Add()([t_current, d_t])\n",
        "    \n",
        "    incr_B = Input(shape=(1, ))\n",
        "    inputs = inputs + [incr_B]\n",
        "    \n",
        "    B_current = Add()([B_current, incr_B])\n",
        "    \n",
        "    helper_1 = Lambda(lambda x: K.exp(c*x))(t_current)\n",
        "    helper_2 = Lambda(lambda x: S0 * K.exp(sigma * x))(B_current)\n",
        "    S_current = Multiply()([helper_1, helper_2])\n",
        "    \n",
        "    S_min = Minimum()([S_min, S_current])\n",
        "    S_max = Maximum()([S_max, S_current])\n",
        "    \n",
        "    helper_3 = Multiply()([strategy, incr_B])\n",
        "    c_0 = Add()([c_0, helper_3])\n",
        "    \n",
        "    helper_4 = Multiply()([strategy, strategy])\n",
        "    helper_5 = Multiply()([helper_4, d_t])\n",
        "    c_1 = Add()([c_1, helper_5])\n",
        "    \n",
        "payoff = Lambda(lambda x: disc*K.relu(x - strike))(S_current)\n",
        "\n",
        "# helper_6 = tf.cond(tf.logical_and(tf.less(L, S_min), tf.less(S_max, U)), \n",
        "#                    lambda: tf.constant([1.0]), \n",
        "#                    lambda: tf.constant([0.0]))\n",
        "# payoff = Multiply()([helper_6, payoff])\n",
        "\n",
        "helper_10 = Lambda(lambda x: K.exp(-0.5*x))(c_0)\n",
        "helper_11 = Lambda(lambda x: K.exp(0.25*x))(c_1)\n",
        "helper_12 = Multiply()([helper_10, helper_11])\n",
        "\n",
        "payoff = Multiply()([payoff, helper_12])\n",
        "\n",
        "outputs = Concatenate()([payoff, S_min, S_max])"
      ],
      "execution_count": null,
      "outputs": []
    },
    {
      "cell_type": "code",
      "metadata": {
        "id": "81nic1Ls9efw"
      },
      "source": [
        "def custom_loss(y_true, y_pred):\n",
        "    mask1 = K.less_equal(L, y_pred[:, 1])\n",
        "    mask2 = K.less_equal(y_pred[:, 2], U)\n",
        "    return K.sqrt(K.mean(K.square(y_pred[:, 0] * tf.cast(mask1, tf.float32) * tf.cast(mask2, tf.float32))))\n",
        "    # return K.sqrt(K.mean(K.square(y_pred[:, 0])))"
      ],
      "execution_count": null,
      "outputs": []
    },
    {
      "cell_type": "code",
      "metadata": {
        "id": "finhdtfo9efw"
      },
      "source": [
        "adam = optimizers.Adam(learning_rate=learnrate, clipnorm=1)"
      ],
      "execution_count": null,
      "outputs": []
    },
    {
      "cell_type": "code",
      "metadata": {
        "id": "7h89iZD39efx"
      },
      "source": [
        "model = Model(inputs=inputs, outputs=outputs)\n",
        "model.compile(optimizer=adam, loss=custom_loss)\n",
        "# model.summary()"
      ],
      "execution_count": null,
      "outputs": []
    },
    {
      "cell_type": "code",
      "metadata": {
        "id": "scCPchrI9efx",
        "outputId": "c5c5dfe0-8a48-4a21-d423-96f889cd0da3"
      },
      "source": [
        "model.fit(x=xtrain, y=ytrain, verbose=1, epochs=10, batch_size=1024)"
      ],
      "execution_count": null,
      "outputs": [
        {
          "name": "stdout",
          "output_type": "stream",
          "text": [
            "Train on 500000 samples\n",
            "Epoch 1/10\n",
            "500000/500000 [==============================] - 11s 22us/sample - loss: 0.1603\n",
            "Epoch 2/10\n",
            "500000/500000 [==============================] - 6s 11us/sample - loss: 0.1229\n",
            "Epoch 3/10\n",
            "500000/500000 [==============================] - 6s 12us/sample - loss: 0.1232\n",
            "Epoch 4/10\n",
            "500000/500000 [==============================] - 6s 12us/sample - loss: 0.1228\n",
            "Epoch 5/10\n",
            "500000/500000 [==============================] - 6s 11us/sample - loss: 0.1230\n",
            "Epoch 6/10\n",
            "500000/500000 [==============================] - 6s 12us/sample - loss: 0.1229\n",
            "Epoch 7/10\n",
            "500000/500000 [==============================] - 6s 13us/sample - loss: 0.1233\n",
            "Epoch 8/10\n",
            "500000/500000 [==============================] - 6s 12us/sample - loss: 0.1232\n",
            "Epoch 9/10\n",
            "500000/500000 [==============================] - 6s 12us/sample - loss: 0.1227\n",
            "Epoch 10/10\n",
            "500000/500000 [==============================] - 6s 11us/sample - loss: 0.1234\n"
          ]
        },
        {
          "data": {
            "text/plain": [
              "<tensorflow.python.keras.callbacks.History at 0x7f85fe6d4d68>"
            ]
          },
          "execution_count": 10,
          "metadata": {},
          "output_type": "execute_result"
        }
      ]
    },
    {
      "cell_type": "code",
      "metadata": {
        "id": "B1oVcwif9efx"
      },
      "source": [
        "# model.save(\"04_arithmetic_asian\")\n",
        "# model = load_model(\"04_arithmetic_asian\", custom_objects={\"custom_loss\": custom_loss, \"a_const\": a_const, \"b_const\": b_const, \"delta_t\": delta_t})\n",
        "# model.summary()"
      ],
      "execution_count": null,
      "outputs": []
    },
    {
      "cell_type": "code",
      "metadata": {
        "id": "rl4H5n2k9efy"
      },
      "source": [
        "model_test = keras.Sequential()\n",
        "model_test.add(Dense(n, activation=\"tanh\", name=\"layer1\", input_shape=(1, )))\n",
        "model_test.add(Dense(n, activation=\"tanh\", name=\"layer2\"))\n",
        "model_test.add(Dense(1, activation=\"linear\", name=\"layer3\"))"
      ],
      "execution_count": null,
      "outputs": []
    },
    {
      "cell_type": "code",
      "metadata": {
        "id": "S1uoF_5g9efy"
      },
      "source": [
        "model_test.build()"
      ],
      "execution_count": null,
      "outputs": []
    },
    {
      "cell_type": "code",
      "metadata": {
        "id": "TRYr_v119efy"
      },
      "source": [
        "model_test.layers[0].set_weights(model.layers[3].get_weights())\n",
        "model_test.layers[1].set_weights(model.layers[5].get_weights())\n",
        "model_test.layers[2].set_weights(model.layers[7].get_weights())"
      ],
      "execution_count": null,
      "outputs": []
    },
    {
      "cell_type": "code",
      "metadata": {
        "id": "oCFVEvFp9efz"
      },
      "source": [
        "N = 8\n",
        "delta_t = T/N"
      ],
      "execution_count": null,
      "outputs": []
    },
    {
      "cell_type": "code",
      "metadata": {
        "id": "-D7sAMTd9efz",
        "outputId": "035bb850-9f49-4abe-d346-8dd52ec07401"
      },
      "source": [
        "t = np.linspace(0, T, N+1) \n",
        "learnedstrat = model_test.predict(t)\n",
        "\n",
        "plt.figure(figsize=(18, 10)) \n",
        "plt.plot(t, learnedstrat, 'b', label='learned strategy') \n",
        "plt.xlabel(\"t\")\n",
        "plt.legend(loc=\"upper right\")\n",
        "plt.show()"
      ],
      "execution_count": null,
      "outputs": [
        {
          "data": {
            "image/png": "[encoded data removed]",
            "text/plain": [
              "<Figure size 1296x720 with 1 Axes>"
            ]
          },
          "metadata": {
            "needs_background": "light"
          },
          "output_type": "display_data"
        }
      ]
    },
    {
      "cell_type": "code",
      "metadata": {
        "id": "BL_iXpGc9ef0"
      },
      "source": [
        "def payoff(x):\n",
        "    x = np.cumsum(x)\n",
        "    \n",
        "    cond = 1\n",
        "    for i in range(N+1):\n",
        "        S_cur = S0*np.exp(c*delta_t*i + sigma * x[i])\n",
        "        if S_cur <= L or S_cur >= U:\n",
        "            cond = 0\n",
        "    \n",
        "    val = S0*np.exp(c*T + sigma*x[N])\n",
        "    val = disc*np.clip(val - strike, 0, None) * cond\n",
        "    return(val)\n",
        "\n",
        "def payoff_revised(x, y):\n",
        "    x = np.cumsum(x+y*delta_t)\n",
        "    \n",
        "    cond = 1\n",
        "    for i in range(N+1):\n",
        "        S_cur = S0*np.exp(c*delta_t*i + sigma * x[i])\n",
        "        if S_cur <= L or S_cur >= U:\n",
        "            cond = 0\n",
        "    \n",
        "    val = S0 * np.exp(c*T + sigma*x[N])\n",
        "    val = disc*np.clip(val - strike, 0, None) * cond\n",
        "    \n",
        "    z = np.diff(x)\n",
        "    \n",
        "    abc_1 = np.sum(np.multiply(y[1:(N+1)], z)) \n",
        "    abc_2 = np.sum(np.multiply(y[1:(N+1)], y[1:(N+1)]) * delta_t)\n",
        "    abc_3 = np.exp(-abc_1 + 0.5*abc_2)\n",
        "    \n",
        "    return(val*abc_3)"
      ],
      "execution_count": null,
      "outputs": []
    },
    {
      "cell_type": "code",
      "metadata": {
        "id": "ewcr16Jr9ef1",
        "outputId": "f5bdcbf4-b918-412a-e49a-4371c1d3617a"
      },
      "source": [
        "N_sample = 50000\n",
        "\n",
        "start_time = time.time() \n",
        "\n",
        "drift = np.concatenate((np.array([0]),learnedstrat[0:N].reshape((N))))\n",
        "\n",
        "outcomes_standard = []\n",
        "outcomes_is = []\n",
        "\n",
        "for k in progressbar(range(N_sample), \"Computing: \", 60):\n",
        "    X = np.concatenate((np.array([0]),np.random.normal(0,np.sqrt(delta_t),N)))\n",
        "    val_standard = payoff(X)\n",
        "    val_is = payoff_revised(X, drift)\n",
        "    \n",
        "    outcomes_standard = outcomes_standard + [val_standard]\n",
        "    outcomes_is = outcomes_is + [val_is]\n",
        "    \n",
        "mean_standard = np.mean(outcomes_standard)\n",
        "sd_standard = np.std(outcomes_standard) / np.sqrt(N_sample)\n",
        "mean_is = np.mean(outcomes_is)\n",
        "sd_is = np.std(outcomes_is) / np.sqrt(N_sample)\n",
        "    \n",
        "elapsed_time = time.time() - start_time \n",
        "\n",
        "print(\"elapsed time: \", time.strftime(\"%H:%M:%S\", time.gmtime(elapsed_time)))\n",
        "print(\"estimated price MS: \", np.around(mean_standard, 6))\n",
        "print(\"estimated price IS: \", np.around(mean_is, 6))\n",
        "print(\"standard error MS: \", np.around(sd_standard, 4), \" (\", np.around(sd_standard / mean_standard * 100, 2), \"%)\")\n",
        "print(\"standard error IS: \", np.around(sd_is, 4), \" (\", np.around(sd_is / mean_is * 100, 2), \"%)\")\n",
        "print(\"variance ratio: \", np.around(np.var(outcomes_standard) / np.var(outcomes_is), 2))"
      ],
      "execution_count": null,
      "outputs": [
        {
          "name": "stdout",
          "output_type": "stream",
          "text": [
            "Computing: [############################################################] 50000/50000\n",
            "elapsed time:  00:01:21\n",
            "estimated price MS:  0.078545\n",
            "estimated price IS:  0.079545\n",
            "standard error MS:  0.0044  ( 5.64 %)\n",
            "standard error IS:  0.0004  ( 0.56 %)\n",
            "variance ratio:  100.65\n"
          ]
        }
      ]
    },
    {
      "cell_type": "code",
      "metadata": {
        "id": "S-91aLrP9ef1"
      },
      "source": [
        ""
      ],
      "execution_count": null,
      "outputs": []
    }
  ]
}