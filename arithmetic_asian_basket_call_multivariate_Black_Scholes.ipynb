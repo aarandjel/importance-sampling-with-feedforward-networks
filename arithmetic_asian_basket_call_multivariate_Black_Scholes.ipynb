{
  "nbformat": 4,
  "nbformat_minor": 0,
  "metadata": {
    "accelerator": "GPU",
    "colab": {
      "name": "08_arithmetic_asian_basket_call_multivariate_Black_Scholes.ipynb",
      "provenance": [],
      "collapsed_sections": []
    },
    "kernelspec": {
      "display_name": "Python 3",
      "language": "python",
      "name": "python3"
    },
    "language_info": {
      "codemirror_mode": {
        "name": "ipython",
        "version": 3
      },
      "file_extension": ".py",
      "mimetype": "text/x-python",
      "name": "python",
      "nbconvert_exporter": "python",
      "pygments_lexer": "ipython3",
      "version": "3.6.9"
    },
    "widgets": {
      "application/vnd.jupyter.widget-state+json": {
        "7572529cd8db42a2b6f345f722714411": {
          "model_module": "@jupyter-widgets/controls",
          "model_name": "HBoxModel",
          "model_module_version": "1.5.0",
          "state": {
            "_view_name": "HBoxView",
            "_dom_classes": [],
            "_model_name": "HBoxModel",
            "_view_module": "@jupyter-widgets/controls",
            "_model_module_version": "1.5.0",
            "_view_count": null,
            "_view_module_version": "1.5.0",
            "box_style": "",
            "layout": "IPY_MODEL_39a8064cf5ed4c38b247b8dbf68c0773",
            "_model_module": "@jupyter-widgets/controls",
            "children": [
              "IPY_MODEL_3aa335e0db8f48e8834b6bfd97b465b0",
              "IPY_MODEL_c9d8e862c5e84e4da7b066a376f8e6e8",
              "IPY_MODEL_99cb33ad14f94703970eb6a613202f1d"
            ]
          }
        },
        "39a8064cf5ed4c38b247b8dbf68c0773": {
          "model_module": "@jupyter-widgets/base",
          "model_name": "LayoutModel",
          "model_module_version": "1.2.0",
          "state": {
            "_view_name": "LayoutView",
            "grid_template_rows": null,
            "right": null,
            "justify_content": null,
            "_view_module": "@jupyter-widgets/base",
            "overflow": null,
            "_model_module_version": "1.2.0",
            "_view_count": null,
            "flex_flow": null,
            "width": null,
            "min_width": null,
            "border": null,
            "align_items": null,
            "bottom": null,
            "_model_module": "@jupyter-widgets/base",
            "top": null,
            "grid_column": null,
            "overflow_y": null,
            "overflow_x": null,
            "grid_auto_flow": null,
            "grid_area": null,
            "grid_template_columns": null,
            "flex": null,
            "_model_name": "LayoutModel",
            "justify_items": null,
            "grid_row": null,
            "max_height": null,
            "align_content": null,
            "visibility": null,
            "align_self": null,
            "height": null,
            "min_height": null,
            "padding": null,
            "grid_auto_rows": null,
            "grid_gap": null,
            "max_width": null,
            "order": null,
            "_view_module_version": "1.2.0",
            "grid_template_areas": null,
            "object_position": null,
            "object_fit": null,
            "grid_auto_columns": null,
            "margin": null,
            "display": null,
            "left": null
          }
        },
        "3aa335e0db8f48e8834b6bfd97b465b0": {
          "model_module": "@jupyter-widgets/controls",
          "model_name": "HTMLModel",
          "model_module_version": "1.5.0",
          "state": {
            "_view_name": "HTMLView",
            "style": "IPY_MODEL_5d2921f56d134bc298b71fc0366ccdf3",
            "_dom_classes": [],
            "description": "",
            "_model_name": "HTMLModel",
            "placeholder": "​",
            "_view_module": "@jupyter-widgets/controls",
            "_model_module_version": "1.5.0",
            "value": "100%",
            "_view_count": null,
            "_view_module_version": "1.5.0",
            "description_tooltip": null,
            "_model_module": "@jupyter-widgets/controls",
            "layout": "IPY_MODEL_9dde0171840a4275b7df1814bc1b72cc"
          }
        },
        "c9d8e862c5e84e4da7b066a376f8e6e8": {
          "model_module": "@jupyter-widgets/controls",
          "model_name": "FloatProgressModel",
          "model_module_version": "1.5.0",
          "state": {
            "_view_name": "ProgressView",
            "style": "IPY_MODEL_ba87243831e442b887d4ec1cc542b833",
            "_dom_classes": [],
            "description": "",
            "_model_name": "FloatProgressModel",
            "bar_style": "success",
            "max": 5000,
            "_view_module": "@jupyter-widgets/controls",
            "_model_module_version": "1.5.0",
            "value": 5000,
            "_view_count": null,
            "_view_module_version": "1.5.0",
            "orientation": "horizontal",
            "min": 0,
            "description_tooltip": null,
            "_model_module": "@jupyter-widgets/controls",
            "layout": "IPY_MODEL_84e7109bbdfd4a00bf2c943683cb8aed"
          }
        },
        "99cb33ad14f94703970eb6a613202f1d": {
          "model_module": "@jupyter-widgets/controls",
          "model_name": "HTMLModel",
          "model_module_version": "1.5.0",
          "state": {
            "_view_name": "HTMLView",
            "style": "IPY_MODEL_e7d0fd76c34a41b9bc23251602e1eef4",
            "_dom_classes": [],
            "description": "",
            "_model_name": "HTMLModel",
            "placeholder": "​",
            "_view_module": "@jupyter-widgets/controls",
            "_model_module_version": "1.5.0",
            "value": " 5000/5000 [00:01&lt;00:00, 2891.22it/s]",
            "_view_count": null,
            "_view_module_version": "1.5.0",
            "description_tooltip": null,
            "_model_module": "@jupyter-widgets/controls",
            "layout": "IPY_MODEL_00b556f03f2b4db795535d8542787c06"
          }
        },
        "5d2921f56d134bc298b71fc0366ccdf3": {
          "model_module": "@jupyter-widgets/controls",
          "model_name": "DescriptionStyleModel",
          "model_module_version": "1.5.0",
          "state": {
            "_view_name": "StyleView",
            "_model_name": "DescriptionStyleModel",
            "description_width": "",
            "_view_module": "@jupyter-widgets/base",
            "_model_module_version": "1.5.0",
            "_view_count": null,
            "_view_module_version": "1.2.0",
            "_model_module": "@jupyter-widgets/controls"
          }
        },
        "9dde0171840a4275b7df1814bc1b72cc": {
          "model_module": "@jupyter-widgets/base",
          "model_name": "LayoutModel",
          "model_module_version": "1.2.0",
          "state": {
            "_view_name": "LayoutView",
            "grid_template_rows": null,
            "right": null,
            "justify_content": null,
            "_view_module": "@jupyter-widgets/base",
            "overflow": null,
            "_model_module_version": "1.2.0",
            "_view_count": null,
            "flex_flow": null,
            "width": null,
            "min_width": null,
            "border": null,
            "align_items": null,
            "bottom": null,
            "_model_module": "@jupyter-widgets/base",
            "top": null,
            "grid_column": null,
            "overflow_y": null,
            "overflow_x": null,
            "grid_auto_flow": null,
            "grid_area": null,
            "grid_template_columns": null,
            "flex": null,
            "_model_name": "LayoutModel",
            "justify_items": null,
            "grid_row": null,
            "max_height": null,
            "align_content": null,
            "visibility": null,
            "align_self": null,
            "height": null,
            "min_height": null,
            "padding": null,
            "grid_auto_rows": null,
            "grid_gap": null,
            "max_width": null,
            "order": null,
            "_view_module_version": "1.2.0",
            "grid_template_areas": null,
            "object_position": null,
            "object_fit": null,
            "grid_auto_columns": null,
            "margin": null,
            "display": null,
            "left": null
          }
        },
        "ba87243831e442b887d4ec1cc542b833": {
          "model_module": "@jupyter-widgets/controls",
          "model_name": "ProgressStyleModel",
          "model_module_version": "1.5.0",
          "state": {
            "_view_name": "StyleView",
            "_model_name": "ProgressStyleModel",
            "description_width": "",
            "_view_module": "@jupyter-widgets/base",
            "_model_module_version": "1.5.0",
            "_view_count": null,
            "_view_module_version": "1.2.0",
            "bar_color": null,
            "_model_module": "@jupyter-widgets/controls"
          }
        },
        "84e7109bbdfd4a00bf2c943683cb8aed": {
          "model_module": "@jupyter-widgets/base",
          "model_name": "LayoutModel",
          "model_module_version": "1.2.0",
          "state": {
            "_view_name": "LayoutView",
            "grid_template_rows": null,
            "right": null,
            "justify_content": null,
            "_view_module": "@jupyter-widgets/base",
            "overflow": null,
            "_model_module_version": "1.2.0",
            "_view_count": null,
            "flex_flow": null,
            "width": null,
            "min_width": null,
            "border": null,
            "align_items": null,
            "bottom": null,
            "_model_module": "@jupyter-widgets/base",
            "top": null,
            "grid_column": null,
            "overflow_y": null,
            "overflow_x": null,
            "grid_auto_flow": null,
            "grid_area": null,
            "grid_template_columns": null,
            "flex": null,
            "_model_name": "LayoutModel",
            "justify_items": null,
            "grid_row": null,
            "max_height": null,
            "align_content": null,
            "visibility": null,
            "align_self": null,
            "height": null,
            "min_height": null,
            "padding": null,
            "grid_auto_rows": null,
            "grid_gap": null,
            "max_width": null,
            "order": null,
            "_view_module_version": "1.2.0",
            "grid_template_areas": null,
            "object_position": null,
            "object_fit": null,
            "grid_auto_columns": null,
            "margin": null,
            "display": null,
            "left": null
          }
        },
        "e7d0fd76c34a41b9bc23251602e1eef4": {
          "model_module": "@jupyter-widgets/controls",
          "model_name": "DescriptionStyleModel",
          "model_module_version": "1.5.0",
          "state": {
            "_view_name": "StyleView",
            "_model_name": "DescriptionStyleModel",
            "description_width": "",
            "_view_module": "@jupyter-widgets/base",
            "_model_module_version": "1.5.0",
            "_view_count": null,
            "_view_module_version": "1.2.0",
            "_model_module": "@jupyter-widgets/controls"
          }
        },
        "00b556f03f2b4db795535d8542787c06": {
          "model_module": "@jupyter-widgets/base",
          "model_name": "LayoutModel",
          "model_module_version": "1.2.0",
          "state": {
            "_view_name": "LayoutView",
            "grid_template_rows": null,
            "right": null,
            "justify_content": null,
            "_view_module": "@jupyter-widgets/base",
            "overflow": null,
            "_model_module_version": "1.2.0",
            "_view_count": null,
            "flex_flow": null,
            "width": null,
            "min_width": null,
            "border": null,
            "align_items": null,
            "bottom": null,
            "_model_module": "@jupyter-widgets/base",
            "top": null,
            "grid_column": null,
            "overflow_y": null,
            "overflow_x": null,
            "grid_auto_flow": null,
            "grid_area": null,
            "grid_template_columns": null,
            "flex": null,
            "_model_name": "LayoutModel",
            "justify_items": null,
            "grid_row": null,
            "max_height": null,
            "align_content": null,
            "visibility": null,
            "align_self": null,
            "height": null,
            "min_height": null,
            "padding": null,
            "grid_auto_rows": null,
            "grid_gap": null,
            "max_width": null,
            "order": null,
            "_view_module_version": "1.2.0",
            "grid_template_areas": null,
            "object_position": null,
            "object_fit": null,
            "grid_auto_columns": null,
            "margin": null,
            "display": null,
            "left": null
          }
        },
        "2c2903bdb9314746999b3200ca6e4d7d": {
          "model_module": "@jupyter-widgets/controls",
          "model_name": "HBoxModel",
          "model_module_version": "1.5.0",
          "state": {
            "_view_name": "HBoxView",
            "_dom_classes": [],
            "_model_name": "HBoxModel",
            "_view_module": "@jupyter-widgets/controls",
            "_model_module_version": "1.5.0",
            "_view_count": null,
            "_view_module_version": "1.5.0",
            "box_style": "",
            "layout": "IPY_MODEL_8171559f97b64e4f942cd800d1c2f17e",
            "_model_module": "@jupyter-widgets/controls",
            "children": [
              "IPY_MODEL_892bdb6a97fd4203833954960fbc5ebe",
              "IPY_MODEL_f52526c3e94046be885e12a29d58962b",
              "IPY_MODEL_3ca00d548dd94f9ba8d0d50700c56d79"
            ]
          }
        },
        "8171559f97b64e4f942cd800d1c2f17e": {
          "model_module": "@jupyter-widgets/base",
          "model_name": "LayoutModel",
          "model_module_version": "1.2.0",
          "state": {
            "_view_name": "LayoutView",
            "grid_template_rows": null,
            "right": null,
            "justify_content": null,
            "_view_module": "@jupyter-widgets/base",
            "overflow": null,
            "_model_module_version": "1.2.0",
            "_view_count": null,
            "flex_flow": null,
            "width": null,
            "min_width": null,
            "border": null,
            "align_items": null,
            "bottom": null,
            "_model_module": "@jupyter-widgets/base",
            "top": null,
            "grid_column": null,
            "overflow_y": null,
            "overflow_x": null,
            "grid_auto_flow": null,
            "grid_area": null,
            "grid_template_columns": null,
            "flex": null,
            "_model_name": "LayoutModel",
            "justify_items": null,
            "grid_row": null,
            "max_height": null,
            "align_content": null,
            "visibility": null,
            "align_self": null,
            "height": null,
            "min_height": null,
            "padding": null,
            "grid_auto_rows": null,
            "grid_gap": null,
            "max_width": null,
            "order": null,
            "_view_module_version": "1.2.0",
            "grid_template_areas": null,
            "object_position": null,
            "object_fit": null,
            "grid_auto_columns": null,
            "margin": null,
            "display": null,
            "left": null
          }
        },
        "892bdb6a97fd4203833954960fbc5ebe": {
          "model_module": "@jupyter-widgets/controls",
          "model_name": "HTMLModel",
          "model_module_version": "1.5.0",
          "state": {
            "_view_name": "HTMLView",
            "style": "IPY_MODEL_8a4f3a41d4214229ae0d9fc46445c350",
            "_dom_classes": [],
            "description": "",
            "_model_name": "HTMLModel",
            "placeholder": "​",
            "_view_module": "@jupyter-widgets/controls",
            "_model_module_version": "1.5.0",
            "value": "100%",
            "_view_count": null,
            "_view_module_version": "1.5.0",
            "description_tooltip": null,
            "_model_module": "@jupyter-widgets/controls",
            "layout": "IPY_MODEL_5e8058ae660a423a86f920a24b37e50e"
          }
        },
        "f52526c3e94046be885e12a29d58962b": {
          "model_module": "@jupyter-widgets/controls",
          "model_name": "FloatProgressModel",
          "model_module_version": "1.5.0",
          "state": {
            "_view_name": "ProgressView",
            "style": "IPY_MODEL_59a1ae9b3bf54c86815540938574c75a",
            "_dom_classes": [],
            "description": "",
            "_model_name": "FloatProgressModel",
            "bar_style": "success",
            "max": 100,
            "_view_module": "@jupyter-widgets/controls",
            "_model_module_version": "1.5.0",
            "value": 100,
            "_view_count": null,
            "_view_module_version": "1.5.0",
            "orientation": "horizontal",
            "min": 0,
            "description_tooltip": null,
            "_model_module": "@jupyter-widgets/controls",
            "layout": "IPY_MODEL_ecf923d8025346b0a5bb1e16c364980a"
          }
        },
        "3ca00d548dd94f9ba8d0d50700c56d79": {
          "model_module": "@jupyter-widgets/controls",
          "model_name": "HTMLModel",
          "model_module_version": "1.5.0",
          "state": {
            "_view_name": "HTMLView",
            "style": "IPY_MODEL_7cad151a84c54f438f72448bfce3d2d4",
            "_dom_classes": [],
            "description": "",
            "_model_name": "HTMLModel",
            "placeholder": "​",
            "_view_module": "@jupyter-widgets/controls",
            "_model_module_version": "1.5.0",
            "value": " 100/100 [09:41&lt;00:00,  5.79s/it]",
            "_view_count": null,
            "_view_module_version": "1.5.0",
            "description_tooltip": null,
            "_model_module": "@jupyter-widgets/controls",
            "layout": "IPY_MODEL_2868d1db5f0743f6be58570874fd7ee9"
          }
        },
        "8a4f3a41d4214229ae0d9fc46445c350": {
          "model_module": "@jupyter-widgets/controls",
          "model_name": "DescriptionStyleModel",
          "model_module_version": "1.5.0",
          "state": {
            "_view_name": "StyleView",
            "_model_name": "DescriptionStyleModel",
            "description_width": "",
            "_view_module": "@jupyter-widgets/base",
            "_model_module_version": "1.5.0",
            "_view_count": null,
            "_view_module_version": "1.2.0",
            "_model_module": "@jupyter-widgets/controls"
          }
        },
        "5e8058ae660a423a86f920a24b37e50e": {
          "model_module": "@jupyter-widgets/base",
          "model_name": "LayoutModel",
          "model_module_version": "1.2.0",
          "state": {
            "_view_name": "LayoutView",
            "grid_template_rows": null,
            "right": null,
            "justify_content": null,
            "_view_module": "@jupyter-widgets/base",
            "overflow": null,
            "_model_module_version": "1.2.0",
            "_view_count": null,
            "flex_flow": null,
            "width": null,
            "min_width": null,
            "border": null,
            "align_items": null,
            "bottom": null,
            "_model_module": "@jupyter-widgets/base",
            "top": null,
            "grid_column": null,
            "overflow_y": null,
            "overflow_x": null,
            "grid_auto_flow": null,
            "grid_area": null,
            "grid_template_columns": null,
            "flex": null,
            "_model_name": "LayoutModel",
            "justify_items": null,
            "grid_row": null,
            "max_height": null,
            "align_content": null,
            "visibility": null,
            "align_self": null,
            "height": null,
            "min_height": null,
            "padding": null,
            "grid_auto_rows": null,
            "grid_gap": null,
            "max_width": null,
            "order": null,
            "_view_module_version": "1.2.0",
            "grid_template_areas": null,
            "object_position": null,
            "object_fit": null,
            "grid_auto_columns": null,
            "margin": null,
            "display": null,
            "left": null
          }
        },
        "59a1ae9b3bf54c86815540938574c75a": {
          "model_module": "@jupyter-widgets/controls",
          "model_name": "ProgressStyleModel",
          "model_module_version": "1.5.0",
          "state": {
            "_view_name": "StyleView",
            "_model_name": "ProgressStyleModel",
            "description_width": "",
            "_view_module": "@jupyter-widgets/base",
            "_model_module_version": "1.5.0",
            "_view_count": null,
            "_view_module_version": "1.2.0",
            "bar_color": null,
            "_model_module": "@jupyter-widgets/controls"
          }
        },
        "ecf923d8025346b0a5bb1e16c364980a": {
          "model_module": "@jupyter-widgets/base",
          "model_name": "LayoutModel",
          "model_module_version": "1.2.0",
          "state": {
            "_view_name": "LayoutView",
            "grid_template_rows": null,
            "right": null,
            "justify_content": null,
            "_view_module": "@jupyter-widgets/base",
            "overflow": null,
            "_model_module_version": "1.2.0",
            "_view_count": null,
            "flex_flow": null,
            "width": null,
            "min_width": null,
            "border": null,
            "align_items": null,
            "bottom": null,
            "_model_module": "@jupyter-widgets/base",
            "top": null,
            "grid_column": null,
            "overflow_y": null,
            "overflow_x": null,
            "grid_auto_flow": null,
            "grid_area": null,
            "grid_template_columns": null,
            "flex": null,
            "_model_name": "LayoutModel",
            "justify_items": null,
            "grid_row": null,
            "max_height": null,
            "align_content": null,
            "visibility": null,
            "align_self": null,
            "height": null,
            "min_height": null,
            "padding": null,
            "grid_auto_rows": null,
            "grid_gap": null,
            "max_width": null,
            "order": null,
            "_view_module_version": "1.2.0",
            "grid_template_areas": null,
            "object_position": null,
            "object_fit": null,
            "grid_auto_columns": null,
            "margin": null,
            "display": null,
            "left": null
          }
        },
        "7cad151a84c54f438f72448bfce3d2d4": {
          "model_module": "@jupyter-widgets/controls",
          "model_name": "DescriptionStyleModel",
          "model_module_version": "1.5.0",
          "state": {
            "_view_name": "StyleView",
            "_model_name": "DescriptionStyleModel",
            "description_width": "",
            "_view_module": "@jupyter-widgets/base",
            "_model_module_version": "1.5.0",
            "_view_count": null,
            "_view_module_version": "1.2.0",
            "_model_module": "@jupyter-widgets/controls"
          }
        },
        "2868d1db5f0743f6be58570874fd7ee9": {
          "model_module": "@jupyter-widgets/base",
          "model_name": "LayoutModel",
          "model_module_version": "1.2.0",
          "state": {
            "_view_name": "LayoutView",
            "grid_template_rows": null,
            "right": null,
            "justify_content": null,
            "_view_module": "@jupyter-widgets/base",
            "overflow": null,
            "_model_module_version": "1.2.0",
            "_view_count": null,
            "flex_flow": null,
            "width": null,
            "min_width": null,
            "border": null,
            "align_items": null,
            "bottom": null,
            "_model_module": "@jupyter-widgets/base",
            "top": null,
            "grid_column": null,
            "overflow_y": null,
            "overflow_x": null,
            "grid_auto_flow": null,
            "grid_area": null,
            "grid_template_columns": null,
            "flex": null,
            "_model_name": "LayoutModel",
            "justify_items": null,
            "grid_row": null,
            "max_height": null,
            "align_content": null,
            "visibility": null,
            "align_self": null,
            "height": null,
            "min_height": null,
            "padding": null,
            "grid_auto_rows": null,
            "grid_gap": null,
            "max_width": null,
            "order": null,
            "_view_module_version": "1.2.0",
            "grid_template_areas": null,
            "object_position": null,
            "object_fit": null,
            "grid_auto_columns": null,
            "margin": null,
            "display": null,
            "left": null
          }
        },
        "75e944f8d62d4e32853053530c9fa9fa": {
          "model_module": "@jupyter-widgets/controls",
          "model_name": "HBoxModel",
          "model_module_version": "1.5.0",
          "state": {
            "_view_name": "HBoxView",
            "_dom_classes": [],
            "_model_name": "HBoxModel",
            "_view_module": "@jupyter-widgets/controls",
            "_model_module_version": "1.5.0",
            "_view_count": null,
            "_view_module_version": "1.5.0",
            "box_style": "",
            "layout": "IPY_MODEL_bb496ba6c89b4c85894c11cec59649ab",
            "_model_module": "@jupyter-widgets/controls",
            "children": [
              "IPY_MODEL_831166adf8b84558a6684ac81ee88d98",
              "IPY_MODEL_5024be9145004cb1b485cf1019682079",
              "IPY_MODEL_f07084b527c64ecea5031ec89eec8e04"
            ]
          }
        },
        "bb496ba6c89b4c85894c11cec59649ab": {
          "model_module": "@jupyter-widgets/base",
          "model_name": "LayoutModel",
          "model_module_version": "1.2.0",
          "state": {
            "_view_name": "LayoutView",
            "grid_template_rows": null,
            "right": null,
            "justify_content": null,
            "_view_module": "@jupyter-widgets/base",
            "overflow": null,
            "_model_module_version": "1.2.0",
            "_view_count": null,
            "flex_flow": null,
            "width": null,
            "min_width": null,
            "border": null,
            "align_items": null,
            "bottom": null,
            "_model_module": "@jupyter-widgets/base",
            "top": null,
            "grid_column": null,
            "overflow_y": null,
            "overflow_x": null,
            "grid_auto_flow": null,
            "grid_area": null,
            "grid_template_columns": null,
            "flex": null,
            "_model_name": "LayoutModel",
            "justify_items": null,
            "grid_row": null,
            "max_height": null,
            "align_content": null,
            "visibility": null,
            "align_self": null,
            "height": null,
            "min_height": null,
            "padding": null,
            "grid_auto_rows": null,
            "grid_gap": null,
            "max_width": null,
            "order": null,
            "_view_module_version": "1.2.0",
            "grid_template_areas": null,
            "object_position": null,
            "object_fit": null,
            "grid_auto_columns": null,
            "margin": null,
            "display": null,
            "left": null
          }
        },
        "831166adf8b84558a6684ac81ee88d98": {
          "model_module": "@jupyter-widgets/controls",
          "model_name": "HTMLModel",
          "model_module_version": "1.5.0",
          "state": {
            "_view_name": "HTMLView",
            "style": "IPY_MODEL_a96e4221b277490aa5a445050c8b3968",
            "_dom_classes": [],
            "description": "",
            "_model_name": "HTMLModel",
            "placeholder": "​",
            "_view_module": "@jupyter-widgets/controls",
            "_model_module_version": "1.5.0",
            "value": "100%",
            "_view_count": null,
            "_view_module_version": "1.5.0",
            "description_tooltip": null,
            "_model_module": "@jupyter-widgets/controls",
            "layout": "IPY_MODEL_2f5e32795d2b42218621cd15c99ccd97"
          }
        },
        "5024be9145004cb1b485cf1019682079": {
          "model_module": "@jupyter-widgets/controls",
          "model_name": "FloatProgressModel",
          "model_module_version": "1.5.0",
          "state": {
            "_view_name": "ProgressView",
            "style": "IPY_MODEL_88d8cd8fcb4443a5aab7d3d80326bbfa",
            "_dom_classes": [],
            "description": "",
            "_model_name": "FloatProgressModel",
            "bar_style": "success",
            "max": 100,
            "_view_module": "@jupyter-widgets/controls",
            "_model_module_version": "1.5.0",
            "value": 100,
            "_view_count": null,
            "_view_module_version": "1.5.0",
            "orientation": "horizontal",
            "min": 0,
            "description_tooltip": null,
            "_model_module": "@jupyter-widgets/controls",
            "layout": "IPY_MODEL_894c7ec67c2147ba967e1aacb9b7ef9f"
          }
        },
        "f07084b527c64ecea5031ec89eec8e04": {
          "model_module": "@jupyter-widgets/controls",
          "model_name": "HTMLModel",
          "model_module_version": "1.5.0",
          "state": {
            "_view_name": "HTMLView",
            "style": "IPY_MODEL_b27e3e4eac7c4a37a0a66e5696f0582e",
            "_dom_classes": [],
            "description": "",
            "_model_name": "HTMLModel",
            "placeholder": "​",
            "_view_module": "@jupyter-widgets/controls",
            "_model_module_version": "1.5.0",
            "value": " 100/100 [44:25&lt;00:00, 27.09s/it]",
            "_view_count": null,
            "_view_module_version": "1.5.0",
            "description_tooltip": null,
            "_model_module": "@jupyter-widgets/controls",
            "layout": "IPY_MODEL_843b0c11bc9f4a7ab366c311529d7a22"
          }
        },
        "a96e4221b277490aa5a445050c8b3968": {
          "model_module": "@jupyter-widgets/controls",
          "model_name": "DescriptionStyleModel",
          "model_module_version": "1.5.0",
          "state": {
            "_view_name": "StyleView",
            "_model_name": "DescriptionStyleModel",
            "description_width": "",
            "_view_module": "@jupyter-widgets/base",
            "_model_module_version": "1.5.0",
            "_view_count": null,
            "_view_module_version": "1.2.0",
            "_model_module": "@jupyter-widgets/controls"
          }
        },
        "2f5e32795d2b42218621cd15c99ccd97": {
          "model_module": "@jupyter-widgets/base",
          "model_name": "LayoutModel",
          "model_module_version": "1.2.0",
          "state": {
            "_view_name": "LayoutView",
            "grid_template_rows": null,
            "right": null,
            "justify_content": null,
            "_view_module": "@jupyter-widgets/base",
            "overflow": null,
            "_model_module_version": "1.2.0",
            "_view_count": null,
            "flex_flow": null,
            "width": null,
            "min_width": null,
            "border": null,
            "align_items": null,
            "bottom": null,
            "_model_module": "@jupyter-widgets/base",
            "top": null,
            "grid_column": null,
            "overflow_y": null,
            "overflow_x": null,
            "grid_auto_flow": null,
            "grid_area": null,
            "grid_template_columns": null,
            "flex": null,
            "_model_name": "LayoutModel",
            "justify_items": null,
            "grid_row": null,
            "max_height": null,
            "align_content": null,
            "visibility": null,
            "align_self": null,
            "height": null,
            "min_height": null,
            "padding": null,
            "grid_auto_rows": null,
            "grid_gap": null,
            "max_width": null,
            "order": null,
            "_view_module_version": "1.2.0",
            "grid_template_areas": null,
            "object_position": null,
            "object_fit": null,
            "grid_auto_columns": null,
            "margin": null,
            "display": null,
            "left": null
          }
        },
        "88d8cd8fcb4443a5aab7d3d80326bbfa": {
          "model_module": "@jupyter-widgets/controls",
          "model_name": "ProgressStyleModel",
          "model_module_version": "1.5.0",
          "state": {
            "_view_name": "StyleView",
            "_model_name": "ProgressStyleModel",
            "description_width": "",
            "_view_module": "@jupyter-widgets/base",
            "_model_module_version": "1.5.0",
            "_view_count": null,
            "_view_module_version": "1.2.0",
            "bar_color": null,
            "_model_module": "@jupyter-widgets/controls"
          }
        },
        "894c7ec67c2147ba967e1aacb9b7ef9f": {
          "model_module": "@jupyter-widgets/base",
          "model_name": "LayoutModel",
          "model_module_version": "1.2.0",
          "state": {
            "_view_name": "LayoutView",
            "grid_template_rows": null,
            "right": null,
            "justify_content": null,
            "_view_module": "@jupyter-widgets/base",
            "overflow": null,
            "_model_module_version": "1.2.0",
            "_view_count": null,
            "flex_flow": null,
            "width": null,
            "min_width": null,
            "border": null,
            "align_items": null,
            "bottom": null,
            "_model_module": "@jupyter-widgets/base",
            "top": null,
            "grid_column": null,
            "overflow_y": null,
            "overflow_x": null,
            "grid_auto_flow": null,
            "grid_area": null,
            "grid_template_columns": null,
            "flex": null,
            "_model_name": "LayoutModel",
            "justify_items": null,
            "grid_row": null,
            "max_height": null,
            "align_content": null,
            "visibility": null,
            "align_self": null,
            "height": null,
            "min_height": null,
            "padding": null,
            "grid_auto_rows": null,
            "grid_gap": null,
            "max_width": null,
            "order": null,
            "_view_module_version": "1.2.0",
            "grid_template_areas": null,
            "object_position": null,
            "object_fit": null,
            "grid_auto_columns": null,
            "margin": null,
            "display": null,
            "left": null
          }
        },
        "b27e3e4eac7c4a37a0a66e5696f0582e": {
          "model_module": "@jupyter-widgets/controls",
          "model_name": "DescriptionStyleModel",
          "model_module_version": "1.5.0",
          "state": {
            "_view_name": "StyleView",
            "_model_name": "DescriptionStyleModel",
            "description_width": "",
            "_view_module": "@jupyter-widgets/base",
            "_model_module_version": "1.5.0",
            "_view_count": null,
            "_view_module_version": "1.2.0",
            "_model_module": "@jupyter-widgets/controls"
          }
        },
        "843b0c11bc9f4a7ab366c311529d7a22": {
          "model_module": "@jupyter-widgets/base",
          "model_name": "LayoutModel",
          "model_module_version": "1.2.0",
          "state": {
            "_view_name": "LayoutView",
            "grid_template_rows": null,
            "right": null,
            "justify_content": null,
            "_view_module": "@jupyter-widgets/base",
            "overflow": null,
            "_model_module_version": "1.2.0",
            "_view_count": null,
            "flex_flow": null,
            "width": null,
            "min_width": null,
            "border": null,
            "align_items": null,
            "bottom": null,
            "_model_module": "@jupyter-widgets/base",
            "top": null,
            "grid_column": null,
            "overflow_y": null,
            "overflow_x": null,
            "grid_auto_flow": null,
            "grid_area": null,
            "grid_template_columns": null,
            "flex": null,
            "_model_name": "LayoutModel",
            "justify_items": null,
            "grid_row": null,
            "max_height": null,
            "align_content": null,
            "visibility": null,
            "align_self": null,
            "height": null,
            "min_height": null,
            "padding": null,
            "grid_auto_rows": null,
            "grid_gap": null,
            "max_width": null,
            "order": null,
            "_view_module_version": "1.2.0",
            "grid_template_areas": null,
            "object_position": null,
            "object_fit": null,
            "grid_auto_columns": null,
            "margin": null,
            "display": null,
            "left": null
          }
        },
        "dd8bd166cf5442d8b32d8b92664e5222": {
          "model_module": "@jupyter-widgets/controls",
          "model_name": "HBoxModel",
          "model_module_version": "1.5.0",
          "state": {
            "_view_name": "HBoxView",
            "_dom_classes": [],
            "_model_name": "HBoxModel",
            "_view_module": "@jupyter-widgets/controls",
            "_model_module_version": "1.5.0",
            "_view_count": null,
            "_view_module_version": "1.5.0",
            "box_style": "",
            "layout": "IPY_MODEL_79c2ffe5b9104c97abb31be1924943e2",
            "_model_module": "@jupyter-widgets/controls",
            "children": [
              "IPY_MODEL_39f59bf4388b479f9e50fe827a81d7d7",
              "IPY_MODEL_03728690fab34911a666706b340bf7a2",
              "IPY_MODEL_381a0ca2b92a488c92520f5f3618afb3"
            ]
          }
        },
        "79c2ffe5b9104c97abb31be1924943e2": {
          "model_module": "@jupyter-widgets/base",
          "model_name": "LayoutModel",
          "model_module_version": "1.2.0",
          "state": {
            "_view_name": "LayoutView",
            "grid_template_rows": null,
            "right": null,
            "justify_content": null,
            "_view_module": "@jupyter-widgets/base",
            "overflow": null,
            "_model_module_version": "1.2.0",
            "_view_count": null,
            "flex_flow": null,
            "width": null,
            "min_width": null,
            "border": null,
            "align_items": null,
            "bottom": null,
            "_model_module": "@jupyter-widgets/base",
            "top": null,
            "grid_column": null,
            "overflow_y": null,
            "overflow_x": null,
            "grid_auto_flow": null,
            "grid_area": null,
            "grid_template_columns": null,
            "flex": null,
            "_model_name": "LayoutModel",
            "justify_items": null,
            "grid_row": null,
            "max_height": null,
            "align_content": null,
            "visibility": null,
            "align_self": null,
            "height": null,
            "min_height": null,
            "padding": null,
            "grid_auto_rows": null,
            "grid_gap": null,
            "max_width": null,
            "order": null,
            "_view_module_version": "1.2.0",
            "grid_template_areas": null,
            "object_position": null,
            "object_fit": null,
            "grid_auto_columns": null,
            "margin": null,
            "display": null,
            "left": null
          }
        },
        "39f59bf4388b479f9e50fe827a81d7d7": {
          "model_module": "@jupyter-widgets/controls",
          "model_name": "HTMLModel",
          "model_module_version": "1.5.0",
          "state": {
            "_view_name": "HTMLView",
            "style": "IPY_MODEL_7d5531c6326e43e2a4f6a5e34277af00",
            "_dom_classes": [],
            "description": "",
            "_model_name": "HTMLModel",
            "placeholder": "​",
            "_view_module": "@jupyter-widgets/controls",
            "_model_module_version": "1.5.0",
            "value": "100%",
            "_view_count": null,
            "_view_module_version": "1.5.0",
            "description_tooltip": null,
            "_model_module": "@jupyter-widgets/controls",
            "layout": "IPY_MODEL_02c09a1edc9f43ca8870eb50d7838a14"
          }
        },
        "03728690fab34911a666706b340bf7a2": {
          "model_module": "@jupyter-widgets/controls",
          "model_name": "FloatProgressModel",
          "model_module_version": "1.5.0",
          "state": {
            "_view_name": "ProgressView",
            "style": "IPY_MODEL_f019b7d0310a4a2a982bc07c7d7da393",
            "_dom_classes": [],
            "description": "",
            "_model_name": "FloatProgressModel",
            "bar_style": "success",
            "max": 25,
            "_view_module": "@jupyter-widgets/controls",
            "_model_module_version": "1.5.0",
            "value": 25,
            "_view_count": null,
            "_view_module_version": "1.5.0",
            "orientation": "horizontal",
            "min": 0,
            "description_tooltip": null,
            "_model_module": "@jupyter-widgets/controls",
            "layout": "IPY_MODEL_a3b0cf6d99b14bfead29264fdcf043bb"
          }
        },
        "381a0ca2b92a488c92520f5f3618afb3": {
          "model_module": "@jupyter-widgets/controls",
          "model_name": "HTMLModel",
          "model_module_version": "1.5.0",
          "state": {
            "_view_name": "HTMLView",
            "style": "IPY_MODEL_bb9752406d02438f87d929cd2227f1c5",
            "_dom_classes": [],
            "description": "",
            "_model_name": "HTMLModel",
            "placeholder": "​",
            "_view_module": "@jupyter-widgets/controls",
            "_model_module_version": "1.5.0",
            "value": " 25/25 [1:27:48&lt;00:00, 212.42s/it]",
            "_view_count": null,
            "_view_module_version": "1.5.0",
            "description_tooltip": null,
            "_model_module": "@jupyter-widgets/controls",
            "layout": "IPY_MODEL_079ea2f05c85435c89528df13cf9ac81"
          }
        },
        "7d5531c6326e43e2a4f6a5e34277af00": {
          "model_module": "@jupyter-widgets/controls",
          "model_name": "DescriptionStyleModel",
          "model_module_version": "1.5.0",
          "state": {
            "_view_name": "StyleView",
            "_model_name": "DescriptionStyleModel",
            "description_width": "",
            "_view_module": "@jupyter-widgets/base",
            "_model_module_version": "1.5.0",
            "_view_count": null,
            "_view_module_version": "1.2.0",
            "_model_module": "@jupyter-widgets/controls"
          }
        },
        "02c09a1edc9f43ca8870eb50d7838a14": {
          "model_module": "@jupyter-widgets/base",
          "model_name": "LayoutModel",
          "model_module_version": "1.2.0",
          "state": {
            "_view_name": "LayoutView",
            "grid_template_rows": null,
            "right": null,
            "justify_content": null,
            "_view_module": "@jupyter-widgets/base",
            "overflow": null,
            "_model_module_version": "1.2.0",
            "_view_count": null,
            "flex_flow": null,
            "width": null,
            "min_width": null,
            "border": null,
            "align_items": null,
            "bottom": null,
            "_model_module": "@jupyter-widgets/base",
            "top": null,
            "grid_column": null,
            "overflow_y": null,
            "overflow_x": null,
            "grid_auto_flow": null,
            "grid_area": null,
            "grid_template_columns": null,
            "flex": null,
            "_model_name": "LayoutModel",
            "justify_items": null,
            "grid_row": null,
            "max_height": null,
            "align_content": null,
            "visibility": null,
            "align_self": null,
            "height": null,
            "min_height": null,
            "padding": null,
            "grid_auto_rows": null,
            "grid_gap": null,
            "max_width": null,
            "order": null,
            "_view_module_version": "1.2.0",
            "grid_template_areas": null,
            "object_position": null,
            "object_fit": null,
            "grid_auto_columns": null,
            "margin": null,
            "display": null,
            "left": null
          }
        },
        "f019b7d0310a4a2a982bc07c7d7da393": {
          "model_module": "@jupyter-widgets/controls",
          "model_name": "ProgressStyleModel",
          "model_module_version": "1.5.0",
          "state": {
            "_view_name": "StyleView",
            "_model_name": "ProgressStyleModel",
            "description_width": "",
            "_view_module": "@jupyter-widgets/base",
            "_model_module_version": "1.5.0",
            "_view_count": null,
            "_view_module_version": "1.2.0",
            "bar_color": null,
            "_model_module": "@jupyter-widgets/controls"
          }
        },
        "a3b0cf6d99b14bfead29264fdcf043bb": {
          "model_module": "@jupyter-widgets/base",
          "model_name": "LayoutModel",
          "model_module_version": "1.2.0",
          "state": {
            "_view_name": "LayoutView",
            "grid_template_rows": null,
            "right": null,
            "justify_content": null,
            "_view_module": "@jupyter-widgets/base",
            "overflow": null,
            "_model_module_version": "1.2.0",
            "_view_count": null,
            "flex_flow": null,
            "width": null,
            "min_width": null,
            "border": null,
            "align_items": null,
            "bottom": null,
            "_model_module": "@jupyter-widgets/base",
            "top": null,
            "grid_column": null,
            "overflow_y": null,
            "overflow_x": null,
            "grid_auto_flow": null,
            "grid_area": null,
            "grid_template_columns": null,
            "flex": null,
            "_model_name": "LayoutModel",
            "justify_items": null,
            "grid_row": null,
            "max_height": null,
            "align_content": null,
            "visibility": null,
            "align_self": null,
            "height": null,
            "min_height": null,
            "padding": null,
            "grid_auto_rows": null,
            "grid_gap": null,
            "max_width": null,
            "order": null,
            "_view_module_version": "1.2.0",
            "grid_template_areas": null,
            "object_position": null,
            "object_fit": null,
            "grid_auto_columns": null,
            "margin": null,
            "display": null,
            "left": null
          }
        },
        "bb9752406d02438f87d929cd2227f1c5": {
          "model_module": "@jupyter-widgets/controls",
          "model_name": "DescriptionStyleModel",
          "model_module_version": "1.5.0",
          "state": {
            "_view_name": "StyleView",
            "_model_name": "DescriptionStyleModel",
            "description_width": "",
            "_view_module": "@jupyter-widgets/base",
            "_model_module_version": "1.5.0",
            "_view_count": null,
            "_view_module_version": "1.2.0",
            "_model_module": "@jupyter-widgets/controls"
          }
        },
        "079ea2f05c85435c89528df13cf9ac81": {
          "model_module": "@jupyter-widgets/base",
          "model_name": "LayoutModel",
          "model_module_version": "1.2.0",
          "state": {
            "_view_name": "LayoutView",
            "grid_template_rows": null,
            "right": null,
            "justify_content": null,
            "_view_module": "@jupyter-widgets/base",
            "overflow": null,
            "_model_module_version": "1.2.0",
            "_view_count": null,
            "flex_flow": null,
            "width": null,
            "min_width": null,
            "border": null,
            "align_items": null,
            "bottom": null,
            "_model_module": "@jupyter-widgets/base",
            "top": null,
            "grid_column": null,
            "overflow_y": null,
            "overflow_x": null,
            "grid_auto_flow": null,
            "grid_area": null,
            "grid_template_columns": null,
            "flex": null,
            "_model_name": "LayoutModel",
            "justify_items": null,
            "grid_row": null,
            "max_height": null,
            "align_content": null,
            "visibility": null,
            "align_self": null,
            "height": null,
            "min_height": null,
            "padding": null,
            "grid_auto_rows": null,
            "grid_gap": null,
            "max_width": null,
            "order": null,
            "_view_module_version": "1.2.0",
            "grid_template_areas": null,
            "object_position": null,
            "object_fit": null,
            "grid_auto_columns": null,
            "margin": null,
            "display": null,
            "left": null
          }
        },
        "e33c8712fab647e4876e72215f4bfd87": {
          "model_module": "@jupyter-widgets/controls",
          "model_name": "HBoxModel",
          "model_module_version": "1.5.0",
          "state": {
            "_view_name": "HBoxView",
            "_dom_classes": [],
            "_model_name": "HBoxModel",
            "_view_module": "@jupyter-widgets/controls",
            "_model_module_version": "1.5.0",
            "_view_count": null,
            "_view_module_version": "1.5.0",
            "box_style": "",
            "layout": "IPY_MODEL_1146e524157b413d9b4ba80dc7874dc9",
            "_model_module": "@jupyter-widgets/controls",
            "children": [
              "IPY_MODEL_bbfeb8c46d114271bf76a458c9293b49",
              "IPY_MODEL_0d11bb4c08524ebba70d4496f36bd9ac",
              "IPY_MODEL_fe9db3ca21664738a3cf479d83309c9f"
            ]
          }
        },
        "1146e524157b413d9b4ba80dc7874dc9": {
          "model_module": "@jupyter-widgets/base",
          "model_name": "LayoutModel",
          "model_module_version": "1.2.0",
          "state": {
            "_view_name": "LayoutView",
            "grid_template_rows": null,
            "right": null,
            "justify_content": null,
            "_view_module": "@jupyter-widgets/base",
            "overflow": null,
            "_model_module_version": "1.2.0",
            "_view_count": null,
            "flex_flow": null,
            "width": null,
            "min_width": null,
            "border": null,
            "align_items": null,
            "bottom": null,
            "_model_module": "@jupyter-widgets/base",
            "top": null,
            "grid_column": null,
            "overflow_y": null,
            "overflow_x": null,
            "grid_auto_flow": null,
            "grid_area": null,
            "grid_template_columns": null,
            "flex": null,
            "_model_name": "LayoutModel",
            "justify_items": null,
            "grid_row": null,
            "max_height": null,
            "align_content": null,
            "visibility": null,
            "align_self": null,
            "height": null,
            "min_height": null,
            "padding": null,
            "grid_auto_rows": null,
            "grid_gap": null,
            "max_width": null,
            "order": null,
            "_view_module_version": "1.2.0",
            "grid_template_areas": null,
            "object_position": null,
            "object_fit": null,
            "grid_auto_columns": null,
            "margin": null,
            "display": null,
            "left": null
          }
        },
        "bbfeb8c46d114271bf76a458c9293b49": {
          "model_module": "@jupyter-widgets/controls",
          "model_name": "HTMLModel",
          "model_module_version": "1.5.0",
          "state": {
            "_view_name": "HTMLView",
            "style": "IPY_MODEL_90d16e7d29854c5cb44c0ede5cd65ac8",
            "_dom_classes": [],
            "description": "",
            "_model_name": "HTMLModel",
            "placeholder": "​",
            "_view_module": "@jupyter-widgets/controls",
            "_model_module_version": "1.5.0",
            "value": "  0%",
            "_view_count": null,
            "_view_module_version": "1.5.0",
            "description_tooltip": null,
            "_model_module": "@jupyter-widgets/controls",
            "layout": "IPY_MODEL_eb9d8450949645949ed08f7f4c7be51b"
          }
        },
        "0d11bb4c08524ebba70d4496f36bd9ac": {
          "model_module": "@jupyter-widgets/controls",
          "model_name": "FloatProgressModel",
          "model_module_version": "1.5.0",
          "state": {
            "_view_name": "ProgressView",
            "style": "IPY_MODEL_d6f42ebae57c4152a41d91f08b3947d1",
            "_dom_classes": [],
            "description": "",
            "_model_name": "FloatProgressModel",
            "bar_style": "danger",
            "max": 1,
            "_view_module": "@jupyter-widgets/controls",
            "_model_module_version": "1.5.0",
            "value": 0,
            "_view_count": null,
            "_view_module_version": "1.5.0",
            "orientation": "horizontal",
            "min": 0,
            "description_tooltip": null,
            "_model_module": "@jupyter-widgets/controls",
            "layout": "IPY_MODEL_d8d45d78c958465b989f9900d1ccbeae"
          }
        },
        "fe9db3ca21664738a3cf479d83309c9f": {
          "model_module": "@jupyter-widgets/controls",
          "model_name": "HTMLModel",
          "model_module_version": "1.5.0",
          "state": {
            "_view_name": "HTMLView",
            "style": "IPY_MODEL_5f26c4e898be454aad2a09d23bc17573",
            "_dom_classes": [],
            "description": "",
            "_model_name": "HTMLModel",
            "placeholder": "​",
            "_view_module": "@jupyter-widgets/controls",
            "_model_module_version": "1.5.0",
            "value": " 0/1 [33:51&lt;?, ?it/s]",
            "_view_count": null,
            "_view_module_version": "1.5.0",
            "description_tooltip": null,
            "_model_module": "@jupyter-widgets/controls",
            "layout": "IPY_MODEL_2cecd45744094b0c8cba5ca69881704c"
          }
        },
        "90d16e7d29854c5cb44c0ede5cd65ac8": {
          "model_module": "@jupyter-widgets/controls",
          "model_name": "DescriptionStyleModel",
          "model_module_version": "1.5.0",
          "state": {
            "_view_name": "StyleView",
            "_model_name": "DescriptionStyleModel",
            "description_width": "",
            "_view_module": "@jupyter-widgets/base",
            "_model_module_version": "1.5.0",
            "_view_count": null,
            "_view_module_version": "1.2.0",
            "_model_module": "@jupyter-widgets/controls"
          }
        },
        "eb9d8450949645949ed08f7f4c7be51b": {
          "model_module": "@jupyter-widgets/base",
          "model_name": "LayoutModel",
          "model_module_version": "1.2.0",
          "state": {
            "_view_name": "LayoutView",
            "grid_template_rows": null,
            "right": null,
            "justify_content": null,
            "_view_module": "@jupyter-widgets/base",
            "overflow": null,
            "_model_module_version": "1.2.0",
            "_view_count": null,
            "flex_flow": null,
            "width": null,
            "min_width": null,
            "border": null,
            "align_items": null,
            "bottom": null,
            "_model_module": "@jupyter-widgets/base",
            "top": null,
            "grid_column": null,
            "overflow_y": null,
            "overflow_x": null,
            "grid_auto_flow": null,
            "grid_area": null,
            "grid_template_columns": null,
            "flex": null,
            "_model_name": "LayoutModel",
            "justify_items": null,
            "grid_row": null,
            "max_height": null,
            "align_content": null,
            "visibility": null,
            "align_self": null,
            "height": null,
            "min_height": null,
            "padding": null,
            "grid_auto_rows": null,
            "grid_gap": null,
            "max_width": null,
            "order": null,
            "_view_module_version": "1.2.0",
            "grid_template_areas": null,
            "object_position": null,
            "object_fit": null,
            "grid_auto_columns": null,
            "margin": null,
            "display": null,
            "left": null
          }
        },
        "d6f42ebae57c4152a41d91f08b3947d1": {
          "model_module": "@jupyter-widgets/controls",
          "model_name": "ProgressStyleModel",
          "model_module_version": "1.5.0",
          "state": {
            "_view_name": "StyleView",
            "_model_name": "ProgressStyleModel",
            "description_width": "",
            "_view_module": "@jupyter-widgets/base",
            "_model_module_version": "1.5.0",
            "_view_count": null,
            "_view_module_version": "1.2.0",
            "bar_color": null,
            "_model_module": "@jupyter-widgets/controls"
          }
        },
        "d8d45d78c958465b989f9900d1ccbeae": {
          "model_module": "@jupyter-widgets/base",
          "model_name": "LayoutModel",
          "model_module_version": "1.2.0",
          "state": {
            "_view_name": "LayoutView",
            "grid_template_rows": null,
            "right": null,
            "justify_content": null,
            "_view_module": "@jupyter-widgets/base",
            "overflow": null,
            "_model_module_version": "1.2.0",
            "_view_count": null,
            "flex_flow": null,
            "width": null,
            "min_width": null,
            "border": null,
            "align_items": null,
            "bottom": null,
            "_model_module": "@jupyter-widgets/base",
            "top": null,
            "grid_column": null,
            "overflow_y": null,
            "overflow_x": null,
            "grid_auto_flow": null,
            "grid_area": null,
            "grid_template_columns": null,
            "flex": null,
            "_model_name": "LayoutModel",
            "justify_items": null,
            "grid_row": null,
            "max_height": null,
            "align_content": null,
            "visibility": null,
            "align_self": null,
            "height": null,
            "min_height": null,
            "padding": null,
            "grid_auto_rows": null,
            "grid_gap": null,
            "max_width": null,
            "order": null,
            "_view_module_version": "1.2.0",
            "grid_template_areas": null,
            "object_position": null,
            "object_fit": null,
            "grid_auto_columns": null,
            "margin": null,
            "display": null,
            "left": null
          }
        },
        "5f26c4e898be454aad2a09d23bc17573": {
          "model_module": "@jupyter-widgets/controls",
          "model_name": "DescriptionStyleModel",
          "model_module_version": "1.5.0",
          "state": {
            "_view_name": "StyleView",
            "_model_name": "DescriptionStyleModel",
            "description_width": "",
            "_view_module": "@jupyter-widgets/base",
            "_model_module_version": "1.5.0",
            "_view_count": null,
            "_view_module_version": "1.2.0",
            "_model_module": "@jupyter-widgets/controls"
          }
        },
        "2cecd45744094b0c8cba5ca69881704c": {
          "model_module": "@jupyter-widgets/base",
          "model_name": "LayoutModel",
          "model_module_version": "1.2.0",
          "state": {
            "_view_name": "LayoutView",
            "grid_template_rows": null,
            "right": null,
            "justify_content": null,
            "_view_module": "@jupyter-widgets/base",
            "overflow": null,
            "_model_module_version": "1.2.0",
            "_view_count": null,
            "flex_flow": null,
            "width": null,
            "min_width": null,
            "border": null,
            "align_items": null,
            "bottom": null,
            "_model_module": "@jupyter-widgets/base",
            "top": null,
            "grid_column": null,
            "overflow_y": null,
            "overflow_x": null,
            "grid_auto_flow": null,
            "grid_area": null,
            "grid_template_columns": null,
            "flex": null,
            "_model_name": "LayoutModel",
            "justify_items": null,
            "grid_row": null,
            "max_height": null,
            "align_content": null,
            "visibility": null,
            "align_self": null,
            "height": null,
            "min_height": null,
            "padding": null,
            "grid_auto_rows": null,
            "grid_gap": null,
            "max_width": null,
            "order": null,
            "_view_module_version": "1.2.0",
            "grid_template_areas": null,
            "object_position": null,
            "object_fit": null,
            "grid_auto_columns": null,
            "margin": null,
            "display": null,
            "left": null
          }
        },
        "1708625760ba46bebec8e6004311203d": {
          "model_module": "@jupyter-widgets/controls",
          "model_name": "HBoxModel",
          "model_module_version": "1.5.0",
          "state": {
            "_view_name": "HBoxView",
            "_dom_classes": [],
            "_model_name": "HBoxModel",
            "_view_module": "@jupyter-widgets/controls",
            "_model_module_version": "1.5.0",
            "_view_count": null,
            "_view_module_version": "1.5.0",
            "box_style": "",
            "layout": "IPY_MODEL_6536c39cf79b478eb6ef95546422187a",
            "_model_module": "@jupyter-widgets/controls",
            "children": [
              "IPY_MODEL_f283e75c21ee4e3889400ea845c0245f",
              "IPY_MODEL_fc6ce2f5e70441f89e5620cb2f4119a5",
              "IPY_MODEL_1a25fa8cfc264bc1bfdbdf48470f9e76"
            ]
          }
        },
        "6536c39cf79b478eb6ef95546422187a": {
          "model_module": "@jupyter-widgets/base",
          "model_name": "LayoutModel",
          "model_module_version": "1.2.0",
          "state": {
            "_view_name": "LayoutView",
            "grid_template_rows": null,
            "right": null,
            "justify_content": null,
            "_view_module": "@jupyter-widgets/base",
            "overflow": null,
            "_model_module_version": "1.2.0",
            "_view_count": null,
            "flex_flow": null,
            "width": null,
            "min_width": null,
            "border": null,
            "align_items": null,
            "bottom": null,
            "_model_module": "@jupyter-widgets/base",
            "top": null,
            "grid_column": null,
            "overflow_y": null,
            "overflow_x": null,
            "grid_auto_flow": null,
            "grid_area": null,
            "grid_template_columns": null,
            "flex": null,
            "_model_name": "LayoutModel",
            "justify_items": null,
            "grid_row": null,
            "max_height": null,
            "align_content": null,
            "visibility": null,
            "align_self": null,
            "height": null,
            "min_height": null,
            "padding": null,
            "grid_auto_rows": null,
            "grid_gap": null,
            "max_width": null,
            "order": null,
            "_view_module_version": "1.2.0",
            "grid_template_areas": null,
            "object_position": null,
            "object_fit": null,
            "grid_auto_columns": null,
            "margin": null,
            "display": null,
            "left": null
          }
        },
        "f283e75c21ee4e3889400ea845c0245f": {
          "model_module": "@jupyter-widgets/controls",
          "model_name": "HTMLModel",
          "model_module_version": "1.5.0",
          "state": {
            "_view_name": "HTMLView",
            "style": "IPY_MODEL_aed74f96e16f4e0e937480a56243693a",
            "_dom_classes": [],
            "description": "",
            "_model_name": "HTMLModel",
            "placeholder": "​",
            "_view_module": "@jupyter-widgets/controls",
            "_model_module_version": "1.5.0",
            "value": " 38%",
            "_view_count": null,
            "_view_module_version": "1.5.0",
            "description_tooltip": null,
            "_model_module": "@jupyter-widgets/controls",
            "layout": "IPY_MODEL_410dff0dddbd46299df000a1ce318b4d"
          }
        },
        "fc6ce2f5e70441f89e5620cb2f4119a5": {
          "model_module": "@jupyter-widgets/controls",
          "model_name": "FloatProgressModel",
          "model_module_version": "1.5.0",
          "state": {
            "_view_name": "ProgressView",
            "style": "IPY_MODEL_7d468b8f9ca64051b025c2ad967af1a9",
            "_dom_classes": [],
            "description": "",
            "_model_name": "FloatProgressModel",
            "bar_style": "danger",
            "max": 1000000,
            "_view_module": "@jupyter-widgets/controls",
            "_model_module_version": "1.5.0",
            "value": 375965,
            "_view_count": null,
            "_view_module_version": "1.5.0",
            "orientation": "horizontal",
            "min": 0,
            "description_tooltip": null,
            "_model_module": "@jupyter-widgets/controls",
            "layout": "IPY_MODEL_300285859b9a4ddfaacfad18beca7516"
          }
        },
        "1a25fa8cfc264bc1bfdbdf48470f9e76": {
          "model_module": "@jupyter-widgets/controls",
          "model_name": "HTMLModel",
          "model_module_version": "1.5.0",
          "state": {
            "_view_name": "HTMLView",
            "style": "IPY_MODEL_dcbba8981f0a40cca0c40092b1a625aa",
            "_dom_classes": [],
            "description": "",
            "_model_name": "HTMLModel",
            "placeholder": "​",
            "_view_module": "@jupyter-widgets/controls",
            "_model_module_version": "1.5.0",
            "value": " 375965/1000000 [33:51&lt;1:33:12, 111.58it/s]",
            "_view_count": null,
            "_view_module_version": "1.5.0",
            "description_tooltip": null,
            "_model_module": "@jupyter-widgets/controls",
            "layout": "IPY_MODEL_1bba947e99ca41c887a91948f33bdfe3"
          }
        },
        "aed74f96e16f4e0e937480a56243693a": {
          "model_module": "@jupyter-widgets/controls",
          "model_name": "DescriptionStyleModel",
          "model_module_version": "1.5.0",
          "state": {
            "_view_name": "StyleView",
            "_model_name": "DescriptionStyleModel",
            "description_width": "",
            "_view_module": "@jupyter-widgets/base",
            "_model_module_version": "1.5.0",
            "_view_count": null,
            "_view_module_version": "1.2.0",
            "_model_module": "@jupyter-widgets/controls"
          }
        },
        "410dff0dddbd46299df000a1ce318b4d": {
          "model_module": "@jupyter-widgets/base",
          "model_name": "LayoutModel",
          "model_module_version": "1.2.0",
          "state": {
            "_view_name": "LayoutView",
            "grid_template_rows": null,
            "right": null,
            "justify_content": null,
            "_view_module": "@jupyter-widgets/base",
            "overflow": null,
            "_model_module_version": "1.2.0",
            "_view_count": null,
            "flex_flow": null,
            "width": null,
            "min_width": null,
            "border": null,
            "align_items": null,
            "bottom": null,
            "_model_module": "@jupyter-widgets/base",
            "top": null,
            "grid_column": null,
            "overflow_y": null,
            "overflow_x": null,
            "grid_auto_flow": null,
            "grid_area": null,
            "grid_template_columns": null,
            "flex": null,
            "_model_name": "LayoutModel",
            "justify_items": null,
            "grid_row": null,
            "max_height": null,
            "align_content": null,
            "visibility": null,
            "align_self": null,
            "height": null,
            "min_height": null,
            "padding": null,
            "grid_auto_rows": null,
            "grid_gap": null,
            "max_width": null,
            "order": null,
            "_view_module_version": "1.2.0",
            "grid_template_areas": null,
            "object_position": null,
            "object_fit": null,
            "grid_auto_columns": null,
            "margin": null,
            "display": null,
            "left": null
          }
        },
        "7d468b8f9ca64051b025c2ad967af1a9": {
          "model_module": "@jupyter-widgets/controls",
          "model_name": "ProgressStyleModel",
          "model_module_version": "1.5.0",
          "state": {
            "_view_name": "StyleView",
            "_model_name": "ProgressStyleModel",
            "description_width": "",
            "_view_module": "@jupyter-widgets/base",
            "_model_module_version": "1.5.0",
            "_view_count": null,
            "_view_module_version": "1.2.0",
            "bar_color": null,
            "_model_module": "@jupyter-widgets/controls"
          }
        },
        "300285859b9a4ddfaacfad18beca7516": {
          "model_module": "@jupyter-widgets/base",
          "model_name": "LayoutModel",
          "model_module_version": "1.2.0",
          "state": {
            "_view_name": "LayoutView",
            "grid_template_rows": null,
            "right": null,
            "justify_content": null,
            "_view_module": "@jupyter-widgets/base",
            "overflow": null,
            "_model_module_version": "1.2.0",
            "_view_count": null,
            "flex_flow": null,
            "width": null,
            "min_width": null,
            "border": null,
            "align_items": null,
            "bottom": null,
            "_model_module": "@jupyter-widgets/base",
            "top": null,
            "grid_column": null,
            "overflow_y": null,
            "overflow_x": null,
            "grid_auto_flow": null,
            "grid_area": null,
            "grid_template_columns": null,
            "flex": null,
            "_model_name": "LayoutModel",
            "justify_items": null,
            "grid_row": null,
            "max_height": null,
            "align_content": null,
            "visibility": null,
            "align_self": null,
            "height": null,
            "min_height": null,
            "padding": null,
            "grid_auto_rows": null,
            "grid_gap": null,
            "max_width": null,
            "order": null,
            "_view_module_version": "1.2.0",
            "grid_template_areas": null,
            "object_position": null,
            "object_fit": null,
            "grid_auto_columns": null,
            "margin": null,
            "display": null,
            "left": null
          }
        },
        "dcbba8981f0a40cca0c40092b1a625aa": {
          "model_module": "@jupyter-widgets/controls",
          "model_name": "DescriptionStyleModel",
          "model_module_version": "1.5.0",
          "state": {
            "_view_name": "StyleView",
            "_model_name": "DescriptionStyleModel",
            "description_width": "",
            "_view_module": "@jupyter-widgets/base",
            "_model_module_version": "1.5.0",
            "_view_count": null,
            "_view_module_version": "1.2.0",
            "_model_module": "@jupyter-widgets/controls"
          }
        },
        "1bba947e99ca41c887a91948f33bdfe3": {
          "model_module": "@jupyter-widgets/base",
          "model_name": "LayoutModel",
          "model_module_version": "1.2.0",
          "state": {
            "_view_name": "LayoutView",
            "grid_template_rows": null,
            "right": null,
            "justify_content": null,
            "_view_module": "@jupyter-widgets/base",
            "overflow": null,
            "_model_module_version": "1.2.0",
            "_view_count": null,
            "flex_flow": null,
            "width": null,
            "min_width": null,
            "border": null,
            "align_items": null,
            "bottom": null,
            "_model_module": "@jupyter-widgets/base",
            "top": null,
            "grid_column": null,
            "overflow_y": null,
            "overflow_x": null,
            "grid_auto_flow": null,
            "grid_area": null,
            "grid_template_columns": null,
            "flex": null,
            "_model_name": "LayoutModel",
            "justify_items": null,
            "grid_row": null,
            "max_height": null,
            "align_content": null,
            "visibility": null,
            "align_self": null,
            "height": null,
            "min_height": null,
            "padding": null,
            "grid_auto_rows": null,
            "grid_gap": null,
            "max_width": null,
            "order": null,
            "_view_module_version": "1.2.0",
            "grid_template_areas": null,
            "object_position": null,
            "object_fit": null,
            "grid_auto_columns": null,
            "margin": null,
            "display": null,
            "left": null
          }
        }
      }
    }
  },
  "cells": [
    {
      "cell_type": "code",
      "metadata": {
        "colab": {
          "base_uri": "https://localhost:8080/"
        },
        "id": "sE7Asy8_gm4i",
        "outputId": "8d4ed825-738a-4f16-8071-8d7c41c73cac"
      },
      "source": [
        "import sys\n",
        "import time\n",
        "import numpy as np\n",
        "import matplotlib.pyplot as plt\n",
        "from scipy.linalg import norm\n",
        "from tqdm.notebook import trange\n",
        " \n",
        "import tensorflow as tf\n",
        "from tensorflow import keras\n",
        "from tensorflow.keras import initializers, optimizers, layers\n",
        "from tensorflow.keras.layers import Dense, Input, Concatenate, Subtract, Multiply, Lambda, Add, Dot\n",
        "from tensorflow.keras.models import Model, load_model\n",
        "import tensorflow.keras.backend as K\n",
        " \n",
        "print('Python version: ', sys.version)\n",
        "print('Tensorflow version: ', tf.__version__)\n",
        "print('Keras version: ', keras.__version__)"
      ],
      "execution_count": 1,
      "outputs": [
        {
          "output_type": "stream",
          "text": [
            "Python version:  3.7.11 (default, Jul  3 2021, 18:01:19) \n",
            "[GCC 7.5.0]\n",
            "Tensorflow version:  2.6.0\n",
            "Keras version:  2.6.0\n"
          ],
          "name": "stdout"
        }
      ]
    },
    {
      "cell_type": "code",
      "metadata": {
        "id": "lrI1YR7Zgm4j"
      },
      "source": [
        "########## ------------------------------\n",
        "### Parameter initialization\n",
        "T = 1\n",
        "N = 32\n",
        "delta_t = T/N\n",
        "strike = 70.0\n",
        "r = 0.05\n",
        "N_assets = 20"
      ],
      "execution_count": 2,
      "outputs": []
    },
    {
      "cell_type": "code",
      "metadata": {
        "id": "MNLDS6KV8jWv"
      },
      "source": [
        "X_0 = np.around(np.random.uniform(low=40.0, high=50.0, size=(N_assets,1)),0)\n",
        "# X_0"
      ],
      "execution_count": 3,
      "outputs": []
    },
    {
      "cell_type": "code",
      "metadata": {
        "id": "TRIMytma8jWw"
      },
      "source": [
        "mu = np.around(np.random.uniform(low=0.0, high=0.10, size=(N_assets, 1)),2) # can be $r - dividends$\n",
        "# mu"
      ],
      "execution_count": 4,
      "outputs": []
    },
    {
      "cell_type": "code",
      "metadata": {
        "id": "aAxjMio_8jWw"
      },
      "source": [
        "sigma = np.around(np.random.uniform(low=-0.3, high=0.3, size=(N_assets,N_assets)), 2)\n",
        "# sigma"
      ],
      "execution_count": 5,
      "outputs": []
    },
    {
      "cell_type": "code",
      "metadata": {
        "id": "J6lalSAt8jWx"
      },
      "source": [
        "volvec = (norm(sigma, axis=0) ** 2).reshape((N_assets,1))\n",
        "# volvec"
      ],
      "execution_count": 6,
      "outputs": []
    },
    {
      "cell_type": "code",
      "metadata": {
        "id": "Hp4CKQzE8jWx"
      },
      "source": [
        "tilde_mu = mu - 0.5 * volvec\n",
        "# tilde_mu"
      ],
      "execution_count": 7,
      "outputs": []
    },
    {
      "cell_type": "code",
      "metadata": {
        "colab": {
          "base_uri": "https://localhost:8080/",
          "height": 575
        },
        "id": "tA9He2S08jWx",
        "outputId": "7c9bd323-8120-4dcf-9dba-4bdda6cd9cab"
      },
      "source": [
        "weights = np.around(mu / (norm(sigma, axis=0)).reshape((N_assets,1)),2)\n",
        "weights = weights / np.sum(weights)\n",
        " \n",
        "plt.figure(figsize=(18, 10)) \n",
        "plt.pie(weights.reshape((N_assets)))\n",
        "plt.show()"
      ],
      "execution_count": 8,
      "outputs": [
        {
          "output_type": "display_data",
          "data": {
            "image/png": "[encoded data removed]",
            "text/plain": [
              "<Figure size 1296x720 with 1 Axes>"
            ]
          },
          "metadata": {}
        }
      ]
    },
    {
      "cell_type": "code",
      "metadata": {
        "id": "dZ-FORld8jWy"
      },
      "source": [
        "# X_0 = np.array([50.0])\n",
        "# strike = 70.0\n",
        "# mu = np.array([0.05])\n",
        "# sigma = np.array([[0.25]])\n",
        "# N = 64\n",
        "\n",
        "# print(X_0)\n",
        "# print(mu)\n",
        "# print(sigma)\n",
        "# print(weights)\n",
        "# plt.hist(weights)"
      ],
      "execution_count": null,
      "outputs": []
    },
    {
      "cell_type": "code",
      "metadata": {
        "colab": {
          "base_uri": "https://localhost:8080/",
          "height": 590
        },
        "id": "4tdBcAQF8jWz",
        "outputId": "aa293f47-a317-472c-c165-704df17555ce"
      },
      "source": [
        "M = np.concatenate((np.zeros((N_assets,1)), np.random.normal(0, np.sqrt(delta_t), (N_assets,N))), axis=1)\n",
        "M = np.cumsum(M, axis=1)\n",
        "M = np.dot(np.transpose(sigma), M)\n",
        " \n",
        "M = np.diff(M, axis=1)\n",
        "M = M + tilde_mu * delta_t\n",
        " \n",
        "M = np.concatenate((np.zeros((N_assets,1)),M), axis=1)\n",
        "M = np.cumsum(M, axis=1)\n",
        " \n",
        "M = np.exp(M)\n",
        "for i in range(N_assets):\n",
        "    M[i,:] = M[i,:] * X_0[i]\n",
        "    \n",
        "t = np.linspace(0, T, N+1) \n",
        "plt.figure(figsize=(18, 10)) \n",
        "plt.plot(t, np.transpose(M))\n",
        "plt.xlabel(\"t\")\n",
        "plt.show()\n",
        " \n",
        "print(np.sum(np.multiply(weights, np.sum(M * delta_t, axis=1).reshape((N_assets,1)) / T)))\n",
        "np.exp(-r*T) * 100 * np.clip(np.sum(np.multiply(weights, np.sum(M * delta_t, axis=1).reshape((N_assets,1)) / T)) - strike, 0, None)"
      ],
      "execution_count": 9,
      "outputs": [
        {
          "output_type": "display_data",
          "data": {
            "image/png": "[encoded data removed]",
            "text/plain": [
              "<Figure size 1296x720 with 1 Axes>"
            ]
          },
          "metadata": {
            "needs_background": "light"
          }
        },
        {
          "output_type": "stream",
          "text": [
            "39.12529483334016\n"
          ],
          "name": "stdout"
        },
        {
          "output_type": "execute_result",
          "data": {
            "text/plain": [
              "0.0"
            ]
          },
          "metadata": {},
          "execution_count": 9
        }
      ]
    },
    {
      "cell_type": "code",
      "metadata": {
        "id": "Dt0qIPd88jWz"
      },
      "source": [
        "def progressbar(it, prefix=\"\", size=60, file=sys.stdout):\n",
        "    count = len(it)\n",
        "    def show(j):\n",
        "        x = int(size*j/count)\n",
        "        file.write(\"%s[%s%s] %i/%i\\r\" % (prefix, \"#\"*x, \".\"*(size-x), j, count))\n",
        "        file.flush()        \n",
        "    show(0)\n",
        "    for i, item in enumerate(it):\n",
        "        yield item\n",
        "        show(i+1)\n",
        "    file.write(\"\\n\")\n",
        "    file.flush()"
      ],
      "execution_count": null,
      "outputs": []
    },
    {
      "cell_type": "code",
      "metadata": {
        "colab": {
          "base_uri": "https://localhost:8080/",
          "height": 100,
          "referenced_widgets": [
            "7572529cd8db42a2b6f345f722714411",
            "39a8064cf5ed4c38b247b8dbf68c0773",
            "3aa335e0db8f48e8834b6bfd97b465b0",
            "c9d8e862c5e84e4da7b066a376f8e6e8",
            "99cb33ad14f94703970eb6a613202f1d",
            "5d2921f56d134bc298b71fc0366ccdf3",
            "9dde0171840a4275b7df1814bc1b72cc",
            "ba87243831e442b887d4ec1cc542b833",
            "84e7109bbdfd4a00bf2c943683cb8aed",
            "e7d0fd76c34a41b9bc23251602e1eef4",
            "00b556f03f2b4db795535d8542787c06"
          ]
        },
        "id": "PV8KRELp8jW0",
        "outputId": "d8faa5c2-8320-4303-9810-13f5f90f2bb6"
      },
      "source": [
        "N_sample = 5000\n",
        "outcomes = []\n",
        " \n",
        "start_time = time.time()\n",
        " \n",
        "for i in trange(N_sample):\n",
        "# for i in progressbar(range(N_sample), \"Computing: \", 60):\n",
        "    M = np.concatenate((np.zeros((N_assets,1)), np.random.normal(0, np.sqrt(delta_t), (N_assets,N))), axis=1)\n",
        "    M = np.cumsum(M, axis=1)\n",
        "    M = np.dot(np.transpose(sigma), M)\n",
        " \n",
        "    M = np.diff(M, axis=1)\n",
        "    M = M + tilde_mu * delta_t\n",
        " \n",
        "    M = np.concatenate((np.zeros((N_assets,1)),M), axis=1)\n",
        "    M = np.cumsum(M, axis=1)\n",
        " \n",
        "    M = np.exp(M)\n",
        "    for j in range(N_assets):\n",
        "        M[j,:] = M[j,:] * X_0[j]\n",
        "        \n",
        "    outcomes = outcomes + [np.exp(-r*T) * 100 * np.clip(np.sum(np.multiply(weights, np.sum(M * delta_t, axis=1).reshape((N_assets,1)) / T)) - strike, 0, None)]\n",
        " \n",
        "elapsed_time = time.time() - start_time\n",
        " \n",
        "mean_mc = np.mean(outcomes)\n",
        "std_mc = np.std(outcomes)\n",
        "stderr_mc = std_mc / np.sqrt(N_sample)\n",
        " \n",
        "print(\"elapsed time: \", time.strftime(\"%H:%M:%S\", time.gmtime(elapsed_time)))\n",
        " \n",
        "print(\"Mean (MC): \", np.around(mean_mc, 4))\n",
        "print(\"Standard error (MC): \", np.around(stderr_mc, 4), \" (\", np.around(stderr_mc / mean_mc * 100, 2), \"% )\")"
      ],
      "execution_count": 10,
      "outputs": [
        {
          "output_type": "display_data",
          "data": {
            "application/vnd.jupyter.widget-view+json": {
              "model_id": "7572529cd8db42a2b6f345f722714411",
              "version_minor": 0,
              "version_major": 2
            },
            "text/plain": [
              "  0%|          | 0/5000 [00:00<?, ?it/s]"
            ]
          },
          "metadata": {}
        },
        {
          "output_type": "stream",
          "text": [
            "elapsed time:  00:00:01\n",
            "Mean (MC):  11.2173\n",
            "Standard error (MC):  1.6067  ( 14.32 % )\n"
          ],
          "name": "stdout"
        }
      ]
    },
    {
      "cell_type": "code",
      "metadata": {
        "id": "n4DCEQJQ8jW0"
      },
      "source": [
        "N_sample = 20000\n",
        "outcomes = []\n",
        "\n",
        "start_time = time.time()\n",
        "\n",
        "for i in trange(N_sample):\n",
        "# for i in progressbar(range(N_sample), \"Computing: \", 60):\n",
        "    M = np.concatenate((np.zeros((N_assets,1)), np.random.normal(0, np.sqrt(delta_t), (N_assets,N))), axis=1)\n",
        "    M = np.cumsum(M, axis=1)\n",
        "    M = np.dot(np.transpose(sigma), M)\n",
        "\n",
        "    M = np.diff(M, axis=1)\n",
        "    M = M + tilde_mu * delta_t\n",
        "\n",
        "    M = np.concatenate((np.zeros((N_assets,1)),M), axis=1)\n",
        "    M = np.cumsum(M, axis=1)\n",
        "\n",
        "    M = np.exp(M)\n",
        "    for j in range(N_assets):\n",
        "        M[j,:] = M[j,:] * X_0[j]\n",
        "        \n",
        "    outcomes = outcomes + [np.exp(-r*T) * 100 * np.clip(np.sum(np.multiply(weights, np.sum(M * delta_t, axis=1).reshape((N_assets,1)) / T)) - strike, 0, None)]\n",
        "\n",
        "elapsed_time = time.time() - start_time\n",
        "\n",
        "mean_mc = np.mean(outcomes)\n",
        "std_mc = np.std(outcomes)\n",
        "stderr_mc = std_mc / np.sqrt(N_sample)\n",
        "\n",
        "print(\"elapsed time: \", time.strftime(\"%H:%M:%S\", time.gmtime(elapsed_time)))\n",
        "\n",
        "print(\"Mean (MC): \", np.around(mean_mc, 4))\n",
        "print(\"Standard error (MC): \", np.around(stderr_mc, 4), \" (\", np.around(stderr_mc / mean_mc * 100, 2), \"% )\")"
      ],
      "execution_count": null,
      "outputs": []
    },
    {
      "cell_type": "code",
      "metadata": {
        "id": "xx2QAu2rgm4k"
      },
      "source": [
        "N_sample = 100000\n",
        "outcomes = []\n",
        "\n",
        "start_time = time.time()\n",
        "\n",
        "for i in trange(N_sample):\n",
        "# for i in progressbar(range(N_sample), \"Computing: \", 60):\n",
        "    M = np.concatenate((np.zeros((N_assets,1)), np.random.normal(0, np.sqrt(delta_t), (N_assets,N))), axis=1)\n",
        "    M = np.cumsum(M, axis=1)\n",
        "    M = np.dot(np.transpose(sigma), M)\n",
        "\n",
        "    M = np.diff(M, axis=1)\n",
        "    M = M + tilde_mu * delta_t\n",
        "\n",
        "    M = np.concatenate((np.zeros((N_assets,1)),M), axis=1)\n",
        "    M = np.cumsum(M, axis=1)\n",
        "\n",
        "    M = np.exp(M)\n",
        "    for j in range(N_assets):\n",
        "        M[j,:] = M[j,:] * X_0[j]\n",
        "        \n",
        "    outcomes = outcomes + [np.exp(-r*T) * 100 * np.clip(np.sum(np.multiply(weights, np.sum(M * delta_t, axis=1).reshape((N_assets,1)) / T)) - strike, 0, None)]\n",
        "\n",
        "elapsed_time = time.time() - start_time\n",
        "\n",
        "mean_mc = np.mean(outcomes)\n",
        "std_mc = np.std(outcomes)\n",
        "stderr_mc = std_mc / np.sqrt(N_sample)\n",
        "\n",
        "print(\"elapsed time: \", time.strftime(\"%H:%M:%S\", time.gmtime(elapsed_time)))\n",
        "\n",
        "print(\"Mean (MC): \", np.around(mean_mc, 4))\n",
        "print(\"Standard error (MC): \", np.around(stderr_mc, 4), \" (\", np.around(stderr_mc / mean_mc * 100, 2), \"% )\")"
      ],
      "execution_count": null,
      "outputs": []
    },
    {
      "cell_type": "code",
      "metadata": {
        "id": "m2jvOJq_8jW2"
      },
      "source": [
        "########## ------------------------------\n",
        "### Defining the feed forward neural network\n",
        " \n",
        "R = 2*10**5\n",
        "learnrate = 0.01    # learning rate in SGD\n",
        " \n",
        "layers = []\n",
        " \n",
        "layer = Dense(20, activation=\"tanh\", trainable=True, \n",
        "              kernel_initializer=initializers.RandomNormal(0.0, 0.1), \n",
        "              bias_initializer=initializers.RandomNormal(0.0, 0.1), \n",
        "              name=str(0))\n",
        " \n",
        "layers = layers + [layer]\n",
        " \n",
        "layer = Dense(N_assets, activation=\"linear\", trainable=True, \n",
        "              kernel_initializer=initializers.RandomNormal(0.0, 0.1), \n",
        "              bias_initializer=initializers.RandomNormal(0.0, 0.1), \n",
        "              name=str(1))\n",
        " \n",
        "layers = layers + [layer]"
      ],
      "execution_count": 11,
      "outputs": []
    },
    {
      "cell_type": "code",
      "metadata": {
        "id": "W4fbKual8jW2"
      },
      "source": [
        "########## ------------------------------\n",
        "### Defining the training data\n",
        " \n",
        "Ktrain = R\n",
        "xtrain = ([0*np.ones((Ktrain,1))] + # t_0\n",
        "          [delta_t*np.ones((Ktrain,N_assets))] + # time increment\n",
        "          [0*np.ones((Ktrain,N_assets))] + # M_0\n",
        "          [np.tile(X_0.reshape((N_assets)), (Ktrain, 1))] + # X_0\n",
        "          [np.tile(weights.reshape((N_assets))/T, (Ktrain, 1))] + # wght\n",
        "          [0*np.ones((Ktrain,N_assets))] + # initial value of the payoff\n",
        "          [0*np.ones((Ktrain,N_assets))] + # initial value of the first part of the stoch exp\n",
        "          [0*np.ones((Ktrain,N_assets))] + # initial value of the second part of the stoch exp\n",
        "          [np.random.normal(0,np.sqrt(delta_t),(Ktrain,N_assets)) for i in range(N)]) # Brownian increments\n",
        " \n",
        "ytrain = np.zeros((Ktrain, 1))"
      ],
      "execution_count": 12,
      "outputs": []
    },
    {
      "cell_type": "code",
      "metadata": {
        "id": "Ss3hKR2Y8jW3"
      },
      "source": [
        "### Training loop\n",
        " \n",
        "t_0 = Input(shape=(1, ))\n",
        "d_t = Input(shape=(N_assets, ))\n",
        " \n",
        "M_0 = Input(shape=(N_assets, ))\n",
        "X_start = Input(shape=(N_assets, ))\n",
        " \n",
        "wght = Input(shape=(N_assets, ))\n",
        " \n",
        "c_0 = Input(shape=(N_assets, ))\n",
        "c_1 = Input(shape=(N_assets, ))\n",
        "c_2 = Input(shape=(N_assets, ))\n",
        " \n",
        "inputs = [t_0]+[d_t]+[M_0]+[X_start]+[wght]+[c_0]+[c_1]+[c_2]\n",
        " \n",
        "t_current = t_0\n",
        "M_current = M_0\n",
        "X_current = X_start\n",
        " \n",
        "for j in range(N):\n",
        "    \n",
        "    strategy = t_current\n",
        "    strategy = layers[0](strategy)\n",
        "    strategy = layers[1](strategy)\n",
        "    \n",
        "    incr_M = Input(shape=(N_assets, ))\n",
        "    inputs = inputs + [incr_M]\n",
        "    \n",
        "    M_current = Add()([M_current, incr_M])\n",
        "    helper_0 = tf.transpose(K.dot(K.constant(np.transpose(sigma)), tf.transpose(M_current)))\n",
        "    helper_1 = Lambda(lambda x: tilde_mu.reshape((N_assets)) * x)(t_current)\n",
        "    helper_2 = Add()([helper_1, helper_0])\n",
        "    helper_3 = Lambda(lambda x: K.exp(x))(helper_2)\n",
        "    helper_4 = Multiply()([helper_3, d_t])\n",
        "    helper_5 = Multiply()([X_start, helper_4])\n",
        "    helper_6 = Multiply()([wght, helper_5])\n",
        "    c_0 = Add()([c_0, helper_6])\n",
        "    \n",
        "    helper_e1 = Multiply()([strategy, incr_M])\n",
        "    c_1 = Add()([c_1, helper_e1])\n",
        "    \n",
        "    helper_e2 = Multiply()([strategy, strategy])\n",
        "    helper_e3 = Multiply()([helper_e2, d_t])\n",
        "    c_2 = Add()([c_2, helper_e3])\n",
        "    \n",
        "    t_current = Lambda(lambda x: x + delta_t)(t_current)\n",
        "    \n",
        "helper_e4 = Lambda(lambda x: -0.5 * K.sum(x, axis=1))(c_1)\n",
        "helper_e5 = Lambda(lambda x: 0.25 * K.sum(x, axis=1))(c_2)\n",
        " \n",
        "helper_e6 = Add()([helper_e4, helper_e5])\n",
        "helper_e7 = Lambda(lambda x: K.exp(x))(helper_e6)\n",
        " \n",
        "c_0 = Lambda(lambda x: K.sum(x, axis=1))(c_0)\n",
        "c_0 = Lambda(lambda x: K.relu(x - strike))(c_0)\n",
        " \n",
        "c_0 = Multiply()([c_0, helper_e7])\n",
        " \n",
        "outputs = [c_0]"
      ],
      "execution_count": 13,
      "outputs": []
    },
    {
      "cell_type": "code",
      "metadata": {
        "id": "gVjbnmxQ8jW3"
      },
      "source": [
        "def custom_loss(y_true,y_pred):\n",
        "    z = K.mean(K.square(y_pred))\n",
        "    return z\n",
        " \n",
        "adam = optimizers.Adam(learning_rate=learnrate)\n",
        " \n",
        "model = Model(inputs=inputs, outputs=outputs)\n",
        "model.compile(optimizer=adam,loss=custom_loss)"
      ],
      "execution_count": 14,
      "outputs": []
    },
    {
      "cell_type": "code",
      "metadata": {
        "id": "sz65W7Gs8jW3"
      },
      "source": [
        "# model.summary()\n",
        "K.set_value(model.optimizer.learning_rate, 0.0001)"
      ],
      "execution_count": 31,
      "outputs": []
    },
    {
      "cell_type": "code",
      "metadata": {
        "id": "JrNWdCTE8jW3",
        "colab": {
          "base_uri": "https://localhost:8080/"
        },
        "outputId": "f7a9cd69-4c15-472f-ade2-2e18cfe81fc7"
      },
      "source": [
        "model.fit(x=xtrain, y=ytrain, verbose=1, epochs=25, batch_size=1000, shuffle = True)"
      ],
      "execution_count": 46,
      "outputs": [
        {
          "output_type": "stream",
          "text": [
            "Epoch 1/25\n",
            "200/200 [==============================] - 6s 30ms/step - loss: 0.1476\n",
            "Epoch 2/25\n",
            "200/200 [==============================] - 6s 30ms/step - loss: 0.1459\n",
            "Epoch 3/25\n",
            "200/200 [==============================] - 6s 30ms/step - loss: 0.1445\n",
            "Epoch 4/25\n",
            "200/200 [==============================] - 6s 30ms/step - loss: 0.1434\n",
            "Epoch 5/25\n",
            "200/200 [==============================] - 6s 30ms/step - loss: 0.1421\n",
            "Epoch 6/25\n",
            "200/200 [==============================] - 6s 30ms/step - loss: 0.1410\n",
            "Epoch 7/25\n",
            "200/200 [==============================] - 6s 30ms/step - loss: 0.1396\n",
            "Epoch 8/25\n",
            "200/200 [==============================] - 6s 30ms/step - loss: 0.1392\n",
            "Epoch 9/25\n",
            "200/200 [==============================] - 6s 30ms/step - loss: 0.1376\n",
            "Epoch 10/25\n",
            "200/200 [==============================] - 6s 30ms/step - loss: 0.1365\n",
            "Epoch 11/25\n",
            "200/200 [==============================] - 6s 30ms/step - loss: 0.1354\n",
            "Epoch 12/25\n",
            "200/200 [==============================] - 6s 30ms/step - loss: 0.1345\n",
            "Epoch 13/25\n",
            "200/200 [==============================] - 6s 30ms/step - loss: 0.1332\n",
            "Epoch 14/25\n",
            "200/200 [==============================] - 6s 30ms/step - loss: 0.1323\n",
            "Epoch 15/25\n",
            "200/200 [==============================] - 6s 30ms/step - loss: 0.1322\n",
            "Epoch 16/25\n",
            "200/200 [==============================] - 6s 30ms/step - loss: 0.1302\n",
            "Epoch 17/25\n",
            "200/200 [==============================] - 6s 30ms/step - loss: 0.1294\n",
            "Epoch 18/25\n",
            "200/200 [==============================] - 6s 30ms/step - loss: 0.1285\n",
            "Epoch 19/25\n",
            "200/200 [==============================] - 6s 30ms/step - loss: 0.1281\n",
            "Epoch 20/25\n",
            "200/200 [==============================] - 6s 30ms/step - loss: 0.1275\n",
            "Epoch 21/25\n",
            "200/200 [==============================] - 6s 30ms/step - loss: 0.1263\n",
            "Epoch 22/25\n",
            "200/200 [==============================] - 6s 30ms/step - loss: 0.1261\n",
            "Epoch 23/25\n",
            "200/200 [==============================] - 6s 30ms/step - loss: 0.1254\n",
            "Epoch 24/25\n",
            "200/200 [==============================] - 6s 30ms/step - loss: 0.1248\n",
            "Epoch 25/25\n",
            "200/200 [==============================] - 6s 29ms/step - loss: 0.1251\n"
          ],
          "name": "stdout"
        },
        {
          "output_type": "execute_result",
          "data": {
            "text/plain": [
              "<keras.callbacks.History at 0x7f97a15570d0>"
            ]
          },
          "metadata": {},
          "execution_count": 46
        }
      ]
    },
    {
      "cell_type": "code",
      "metadata": {
        "id": "mJj42ox_8jW4"
      },
      "source": [
        "# model.summary()"
      ],
      "execution_count": null,
      "outputs": []
    },
    {
      "cell_type": "code",
      "metadata": {
        "colab": {
          "base_uri": "https://localhost:8080/",
          "height": 549
        },
        "id": "ZCsmJhNO8jW4",
        "outputId": "dd4307e8-1eda-4f32-e9c2-3a265566a370"
      },
      "source": [
        "N = 252\n",
        "delta_t = T/N\n",
        " \n",
        "model_test = keras.Sequential()\n",
        "model_test.add(Dense(20, activation=\"tanh\", name=\"layer1\", input_shape=(1, )))\n",
        "model_test.add(Dense(N_assets, activation=\"linear\", name=\"layer2\"))\n",
        " \n",
        "model_test.build()\n",
        " \n",
        "model_test.layers[0].set_weights(model.layers[27].get_weights())\n",
        "model_test.layers[1].set_weights(model.layers[38].get_weights())\n",
        " \n",
        "t = np.linspace(0, T, N+1)\n",
        "learnedstrat = model_test.predict(t)\n",
        " \n",
        "plt.figure(figsize=(18, 10))\n",
        "plt.plot(t, learnedstrat)\n",
        "plt.xlabel(\"t\")\n",
        "plt.show()"
      ],
      "execution_count": 47,
      "outputs": [
        {
          "output_type": "display_data",
          "data": {
            "image/png": "[encoded data removed]",
            "text/plain": [
              "<Figure size 1296x720 with 1 Axes>"
            ]
          },
          "metadata": {
            "needs_background": "light"
          }
        }
      ]
    },
    {
      "cell_type": "code",
      "metadata": {
        "id": "2U55zkkI8jW4"
      },
      "source": [
        "M_random = np.concatenate((np.zeros((N_assets,1)), np.random.normal(0, np.sqrt(delta_t), (N_assets,N))), axis=1)\n",
        "\n",
        "M_MC = np.cumsum(M_random, axis=1)\n",
        "M_MC = np.dot(np.transpose(sigma), M_MC)\n",
        "\n",
        "M_MC = np.diff(M_MC, axis=1)\n",
        "M_MC = M_MC + tilde_mu * delta_t\n",
        "\n",
        "M_MC = np.concatenate((np.zeros((N_assets,1)),M_MC), axis=1)\n",
        "M_MC = np.cumsum(M_MC, axis=1)\n",
        "\n",
        "M_MC = np.exp(M_MC)\n",
        "for j in range(N_assets):\n",
        "    M_MC[j,:] = M_MC[j,:] * X_0[j]\n",
        "        \n",
        "###\n",
        "\n",
        "M_0 = M_random + np.concatenate((np.zeros((N_assets,1)), np.transpose(learnedstrat[0:N,:]) * delta_t), axis=1)\n",
        "M_0 = np.cumsum(M_0, axis=1)\n",
        "M = np.dot(np.transpose(sigma), M_0)\n",
        "\n",
        "M = np.diff(M, axis=1)\n",
        "M = M + tilde_mu * delta_t\n",
        "\n",
        "M = np.concatenate((np.zeros((N_assets,1)), M), axis=1)\n",
        "M = np.cumsum(M, axis=1)\n",
        "\n",
        "M = np.exp(M)\n",
        "for j in range(N_assets):\n",
        "    M[j,:] = M[j,:] * X_0[j]\n",
        "\n",
        "plt.figure(figsize=(18, 10)) \n",
        "plt.plot(t, np.transpose(M), color = \"blue\", label=\"with drift adjustment\")\n",
        "plt.plot(t, np.transpose(M_MC), color = \"red\", label=\"without drift adjustment\")\n",
        "plt.xlabel(\"t\")\n",
        "# plt.legend(loc=\"upper left\")\n",
        "plt.show()"
      ],
      "execution_count": null,
      "outputs": []
    },
    {
      "cell_type": "code",
      "metadata": {
        "colab": {
          "base_uri": "https://localhost:8080/",
          "height": 236,
          "referenced_widgets": [
            "2c2903bdb9314746999b3200ca6e4d7d",
            "8171559f97b64e4f942cd800d1c2f17e",
            "892bdb6a97fd4203833954960fbc5ebe",
            "f52526c3e94046be885e12a29d58962b",
            "3ca00d548dd94f9ba8d0d50700c56d79",
            "8a4f3a41d4214229ae0d9fc46445c350",
            "5e8058ae660a423a86f920a24b37e50e",
            "59a1ae9b3bf54c86815540938574c75a",
            "ecf923d8025346b0a5bb1e16c364980a",
            "7cad151a84c54f438f72448bfce3d2d4",
            "2868d1db5f0743f6be58570874fd7ee9"
          ]
        },
        "id": "YV00ji2u8jW5",
        "outputId": "fe7219a0-8bb9-46e0-a951-95b09ad4dce1"
      },
      "source": [
        "N_reps = 100\n",
        "N_sample = 5000\n",
        " \n",
        "start_time = time.time()\n",
        " \n",
        "means_MC = []\n",
        "means_IS = []\n",
        " \n",
        "stderr_MC = []\n",
        "stderr_IS = []\n",
        " \n",
        "varratio = []\n",
        " \n",
        "for k in trange(N_reps):\n",
        "# for k in progressbar(range(N_reps), \"Computing: \", 60):\n",
        "    outcomes_MC = []\n",
        "    outcomes_IS = []\n",
        "    \n",
        "    # for i in trange(N_sample):\n",
        "    # for i in progressbar(range(N_sample), \"Computing: \", 60):\n",
        "    for i in range(N_sample):\n",
        "        \n",
        "        M_random = np.concatenate((np.zeros((N_assets,1)), np.random.normal(0, np.sqrt(delta_t), (N_assets,N))), axis=1)\n",
        "    \n",
        "        ##########\n",
        "    \n",
        "        M_MC = np.cumsum(M_random, axis=1)\n",
        "        M_MC = np.dot(np.transpose(sigma), M_MC)\n",
        " \n",
        "        M_MC = np.diff(M_MC, axis=1)\n",
        "        M_MC = M_MC + tilde_mu * delta_t\n",
        " \n",
        "        M_MC = np.concatenate((np.zeros((N_assets,1)),M_MC), axis=1)\n",
        "        M_MC = np.cumsum(M_MC, axis=1)\n",
        " \n",
        "        M_MC = np.exp(M_MC)\n",
        "        for j in range(N_assets):\n",
        "            M_MC[j,:] = M_MC[j,:] * X_0[j]\n",
        "        \n",
        "        ot_MC = np.clip(np.sum(np.multiply(weights, np.sum(M_MC * delta_t, axis=1).reshape((N_assets,1)) / T)) - strike, 0, None)\n",
        "        \n",
        "        outcomes_MC = outcomes_MC + [np.exp(-r*T) * 100 * ot_MC]\n",
        " \n",
        "        ##########\n",
        "    \n",
        "        M_0 = M_random + np.concatenate((np.zeros((N_assets,1)), np.transpose(learnedstrat[0:N,:]) * delta_t), axis=1)\n",
        "    \n",
        "        M_0 = np.cumsum(M_0, axis=1)\n",
        "        M = np.dot(np.transpose(sigma), M_0)\n",
        " \n",
        "        M = np.diff(M, axis=1)\n",
        "        M = M + tilde_mu * delta_t\n",
        "    \n",
        "        M = np.concatenate((np.zeros((N_assets,1)), M), axis=1)\n",
        "        M = np.cumsum(M, axis=1)\n",
        " \n",
        "        M = np.exp(M)\n",
        "        for j in range(N_assets):\n",
        "            M[j,:] = M[j,:] * X_0[j]\n",
        "        \n",
        "        M_0 = np.diff(M_0, axis=1)\n",
        "    \n",
        "        adj1 = np.sum(np.sum(np.multiply(np.transpose(learnedstrat[0:N,:]), M_0), axis=1), axis=0)\n",
        "        adj2 = np.sum(np.sum(np.multiply(np.transpose(learnedstrat[0:N,:]), np.transpose(learnedstrat[0:N,:])) * delta_t, axis=1), axis=0)\n",
        "    \n",
        "        ot_IS = np.clip(np.sum(np.multiply(weights, np.sum(M * delta_t, axis=1).reshape((N_assets,1)) / T)) - strike, 0, None)\n",
        "        \n",
        "        outcomes_IS = outcomes_IS + [np.exp(-r*T) * 100 * ot_IS * np.exp(-1 * adj1 + 0.5 * adj2)]\n",
        "    \n",
        "    means_MC = means_MC + [np.mean(outcomes_MC)]\n",
        "    means_IS = means_IS + [np.mean(outcomes_IS)]\n",
        "    \n",
        "    stderr_MC = stderr_MC + [np.std(outcomes_MC) / np.sqrt(N_sample)]\n",
        "    stderr_IS = stderr_IS + [np.std(outcomes_IS) / np.sqrt(N_sample)]\n",
        "    \n",
        "    varratio = varratio + [np.var(outcomes_MC) / np.var(outcomes_IS)]\n",
        "    \n",
        "    if (k+1) % 10 == 0:\n",
        "        elapsed_time = time.time() - start_time\n",
        "        print(\"elapsed time: \", time.strftime(\"%H:%M:%S\", time.gmtime(elapsed_time)))\n",
        "    \n",
        "elapsed_time = time.time() - start_time\n",
        "print(\"total elapsed time: \", time.strftime(\"%H:%M:%S\", time.gmtime(elapsed_time)))"
      ],
      "execution_count": 48,
      "outputs": [
        {
          "output_type": "display_data",
          "data": {
            "application/vnd.jupyter.widget-view+json": {
              "model_id": "2c2903bdb9314746999b3200ca6e4d7d",
              "version_minor": 0,
              "version_major": 2
            },
            "text/plain": [
              "  0%|          | 0/100 [00:00<?, ?it/s]"
            ]
          },
          "metadata": {}
        },
        {
          "output_type": "stream",
          "text": [
            "elapsed time:  00:00:57\n",
            "elapsed time:  00:01:55\n",
            "elapsed time:  00:02:53\n",
            "elapsed time:  00:03:50\n",
            "elapsed time:  00:04:48\n",
            "elapsed time:  00:05:48\n",
            "elapsed time:  00:06:46\n",
            "elapsed time:  00:07:44\n",
            "elapsed time:  00:08:43\n",
            "elapsed time:  00:09:41\n",
            "total elapsed time:  00:09:41\n"
          ],
          "name": "stdout"
        }
      ]
    },
    {
      "cell_type": "code",
      "metadata": {
        "colab": {
          "base_uri": "https://localhost:8080/"
        },
        "id": "MGVzcdMk8jW5",
        "outputId": "30b8ad15-8a64-4732-dde0-1d1a530bd7e9"
      },
      "source": [
        "print(\"Mean (MC): \", np.around(np.mean(means_MC), 4))\n",
        "print(\"Mean (IS): \", np.around(np.mean(means_IS), 4))\n",
        "print(\"Standard error (MC): \", np.around(np.mean(stderr_MC), 4), \" (\", np.around(np.mean(stderr_MC) / np.mean(means_MC) * 100, 2), \"% )\")\n",
        "print(\"Standard error (IS): \", np.around(np.mean(stderr_IS), 4), \" (\", np.around(np.mean(stderr_IS) / np.mean(means_IS) * 100, 2), \"% )\")\n",
        "print(\"Variance ratio: \", np.around(np.mean(varratio)))"
      ],
      "execution_count": 49,
      "outputs": [
        {
          "output_type": "stream",
          "text": [
            "Mean (MC):  9.995\n",
            "Mean (IS):  9.7852\n",
            "Standard error (MC):  1.5337  ( 15.34 % )\n",
            "Standard error (IS):  0.3864  ( 3.95 % )\n",
            "Variance ratio:  17.0\n"
          ],
          "name": "stdout"
        }
      ]
    },
    {
      "cell_type": "code",
      "metadata": {
        "id": "2TCuYN39gm4n",
        "colab": {
          "base_uri": "https://localhost:8080/",
          "height": 590
        },
        "outputId": "d5e7b3c0-daea-4abc-cc11-8dc86d09d15d"
      },
      "source": [
        "print(\"mean MC estimate:  \", np.around(np.mean(means_MC), 4))\n",
        "print(\"mean IS estimate: \", np.around(np.mean(means_IS), 4))\n",
        " \n",
        "bins = np.linspace(5.00, 15.00, 100)\n",
        " \n",
        "plt.figure(figsize=(18, 10)) \n",
        "plt.hist(means_MC, bins, color=\"darkorchid\", alpha=0.5, label=\"MC estimates\")\n",
        "plt.hist(means_IS, bins, color=\"goldenrod\", alpha=0.5, label=\"IS estimates\")\n",
        "plt.axvline(np.mean(means_MC), color=\"darkorchid\", linewidth=2)\n",
        "plt.axvline(np.mean(means_IS), color=\"goldenrod\", linewidth=2)\n",
        "plt.title(\"MC estimates with and without importance sampling (sample size = 5000)\")\n",
        "plt.legend(loc=\"upper right\")\n",
        "plt.show()"
      ],
      "execution_count": 53,
      "outputs": [
        {
          "output_type": "stream",
          "text": [
            "mean MC estimate:   9.995\n",
            "mean IS estimate:  9.7852\n"
          ],
          "name": "stdout"
        },
        {
          "output_type": "display_data",
          "data": {
            "image/png": "[encoded data removed]",
            "text/plain": [
              "<Figure size 1296x720 with 1 Axes>"
            ]
          },
          "metadata": {
            "needs_background": "light"
          }
        }
      ]
    },
    {
      "cell_type": "code",
      "metadata": {
        "colab": {
          "base_uri": "https://localhost:8080/",
          "height": 590
        },
        "id": "P0W7ukcW8jW6",
        "outputId": "81b18328-e4eb-4ef8-a1a2-8280cb9f1db5"
      },
      "source": [
        "print(\"mean MC estimate standard error:  \", np.around(np.mean(stderr_MC), 4))\n",
        "print(\"mean IS estimate standard error: \", np.around(np.mean(stderr_IS), 4))\n",
        " \n",
        "bins = np.linspace(0.00, 2.50, 100)\n",
        " \n",
        "plt.figure(figsize=(18, 10)) \n",
        "plt.hist(stderr_MC, bins, color=\"darkorchid\", alpha=0.5, label=\"MC estimates\")\n",
        "plt.hist(stderr_IS, bins, color=\"goldenrod\", alpha=0.5, label=\"IS estimates\")\n",
        "plt.axvline(np.mean(stderr_MC), color=\"darkorchid\", linewidth=2)\n",
        "plt.axvline(np.mean(stderr_IS), color=\"goldenrod\", linewidth=2)\n",
        "plt.title(\"MC estimates standard errors with and without importance sampling (sample size = 5000)\")\n",
        "plt.legend(loc=\"upper right\")\n",
        "plt.show()"
      ],
      "execution_count": 54,
      "outputs": [
        {
          "output_type": "stream",
          "text": [
            "mean MC estimate standard error:   1.5337\n",
            "mean IS estimate standard error:  0.3864\n"
          ],
          "name": "stdout"
        },
        {
          "output_type": "display_data",
          "data": {
            "image/png": "[encoded data removed]",
            "text/plain": [
              "<Figure size 1296x720 with 1 Axes>"
            ]
          },
          "metadata": {
            "needs_background": "light"
          }
        }
      ]
    },
    {
      "cell_type": "code",
      "metadata": {
        "colab": {
          "base_uri": "https://localhost:8080/",
          "height": 546
        },
        "id": "mnJzWcs-8jW6",
        "outputId": "b454289a-85b1-4f15-b7b0-fa364da01050"
      },
      "source": [
        "bins = np.linspace(0.00, 50.00, 100)\n",
        " \n",
        "plt.figure(figsize=(18, 10)) \n",
        "plt.hist(varratio, bins, color=\"darkorchid\", alpha=0.5)\n",
        "plt.show()"
      ],
      "execution_count": 55,
      "outputs": [
        {
          "output_type": "display_data",
          "data": {
            "image/png": "[encoded data removed]",
            "text/plain": [
              "<Figure size 1296x720 with 1 Axes>"
            ]
          },
          "metadata": {
            "needs_background": "light"
          }
        }
      ]
    },
    {
      "cell_type": "code",
      "metadata": {
        "id": "Yorj6Y628jW7",
        "colab": {
          "base_uri": "https://localhost:8080/"
        },
        "outputId": "0768a08f-5f15-4cec-a4e5-a468b93b00bc"
      },
      "source": [
        "import pandas as pd\n",
        " \n",
        "data = {'mean MC': means_MC,\n",
        "        'mean IS': means_IS,\n",
        "        'stderr MC': stderr_MC,\n",
        "        'stderr IS': stderr_IS, \n",
        "        'varratio': varratio}\n",
        " \n",
        "df = pd.DataFrame(data, columns = ['mean MC','mean IS', 'stderr MC', 'stderr IS', 'varratio'])\n",
        "df = df.sort_values(by=['varratio'])\n",
        " \n",
        "print(df.tail(50))"
      ],
      "execution_count": 59,
      "outputs": [
        {
          "output_type": "stream",
          "text": [
            "      mean MC    mean IS  stderr MC  stderr IS   varratio\n",
            "95  10.498198  10.165732   1.676592   0.403797  17.239680\n",
            "67   8.381579   9.509487   1.362269   0.327901  17.259991\n",
            "51   9.113856   9.366965   1.420680   0.336722  17.801196\n",
            "68   8.720071   9.676389   1.525828   0.359728  17.991262\n",
            "50   8.794540   9.106388   1.394908   0.328743  18.004410\n",
            "85   9.282353   9.604204   1.415738   0.333181  18.055302\n",
            "90  11.551576   9.837090   1.720834   0.404635  18.086389\n",
            "35   7.669776   9.523641   1.281346   0.298864  18.381673\n",
            "22   9.632208   9.569498   1.494576   0.347591  18.488441\n",
            "1   11.377405   9.775022   1.494287   0.341957  19.095251\n",
            "10   9.221987   9.644816   1.422207   0.325118  19.135650\n",
            "30  10.802743   9.938124   1.446144   0.329030  19.317531\n",
            "25   9.899810   9.622424   1.397020   0.317110  19.408226\n",
            "17   9.680114   9.748648   1.543322   0.347796  19.690871\n",
            "88  11.868044   9.891018   1.713432   0.385516  19.753700\n",
            "56  11.257409   9.862398   1.606291   0.360975  19.801328\n",
            "47   9.381470   9.807815   1.511827   0.338943  19.895268\n",
            "69  12.164928   9.783795   1.749434   0.391585  19.959163\n",
            "91  10.602491   9.573430   1.476211   0.328678  20.172338\n",
            "71  11.946303  10.248275   1.765884   0.391699  20.324463\n",
            "99   9.767858   9.731129   1.499916   0.332527  20.346103\n",
            "3   10.574068   9.083458   1.611282   0.352231  20.926084\n",
            "70   9.577739   9.335591   1.457898   0.318222  20.989066\n",
            "55  11.515373   9.612495   1.678358   0.364772  21.170310\n",
            "14  10.159619  10.035907   1.726508   0.368734  21.923552\n",
            "53   8.225732   9.119437   1.431521   0.304823  22.054715\n",
            "7    9.667997   9.455535   1.580505   0.336329  22.083244\n",
            "64  10.805067   9.886735   1.703597   0.362147  22.129105\n",
            "6   11.142392   9.761779   1.722181   0.364348  22.342107\n",
            "81  10.476167   9.209359   1.560271   0.328703  22.531676\n",
            "13  11.400142   9.578990   1.673389   0.351843  22.620121\n",
            "66  10.618069   9.329566   1.547753   0.323144  22.940879\n",
            "29  11.215575   9.995291   1.699056   0.354196  23.010626\n",
            "87  11.834172   9.538876   1.772030   0.367841  23.207167\n",
            "18  10.194575   9.144046   1.486787   0.308117  23.284400\n",
            "32  11.291121   9.522173   1.624049   0.335845  23.384093\n",
            "96  11.842439   9.590006   1.602861   0.328798  23.764821\n",
            "93   9.449644   9.206526   1.446671   0.294706  24.096958\n",
            "92  10.606710   9.342628   1.664181   0.336045  24.524795\n",
            "48  10.517475   9.329412   1.602854   0.316696  25.615569\n",
            "84  14.175334  10.324788   2.011627   0.395230  25.905710\n",
            "34  11.189977  10.137042   1.749071   0.342797  26.033994\n",
            "16   9.060230   9.489576   1.627886   0.318352  26.147588\n",
            "82  12.240216   9.657951   1.786098   0.346883  26.512149\n",
            "40  10.758736   9.653828   1.642250   0.316173  26.979126\n",
            "44  12.390190   9.769351   1.983068   0.376766  27.703387\n",
            "74  10.083972   9.042031   1.617397   0.303865  28.331573\n",
            "31  10.558269   9.656095   1.827459   0.333785  29.975191\n",
            "63  11.521591   9.446686   1.791307   0.314139  32.515912\n",
            "5   11.594852   9.198400   1.684740   0.282465  35.574221\n"
          ],
          "name": "stdout"
        }
      ]
    },
    {
      "cell_type": "code",
      "metadata": {
        "id": "N-0YA-wC8jW7",
        "colab": {
          "base_uri": "https://localhost:8080/"
        },
        "outputId": "adf34aac-6529-4f62-a2c1-231d937fe5a0"
      },
      "source": [
        "print(np.around(stderr_MC[0] / means_MC[0] * 100, 6))\n",
        "print(np.around(stderr_IS[0] / means_IS[0] * 100, 6))"
      ],
      "execution_count": null,
      "outputs": [
        {
          "output_type": "stream",
          "text": [
            "5.277507\n",
            "3.975545\n"
          ],
          "name": "stdout"
        }
      ]
    },
    {
      "cell_type": "code",
      "metadata": {
        "id": "cXGTx4BL8jW8",
        "colab": {
          "base_uri": "https://localhost:8080/"
        },
        "outputId": "df7da232-96b6-4a4f-bedc-d6ab989a381b"
      },
      "source": [
        "stderr_IS[25]"
      ],
      "execution_count": null,
      "outputs": [
        {
          "output_type": "execute_result",
          "data": {
            "text/plain": [
              "0.07643125992417178"
            ]
          },
          "metadata": {
            "tags": []
          },
          "execution_count": 125
        }
      ]
    },
    {
      "cell_type": "code",
      "metadata": {
        "colab": {
          "base_uri": "https://localhost:8080/",
          "height": 236,
          "referenced_widgets": [
            "75e944f8d62d4e32853053530c9fa9fa",
            "bb496ba6c89b4c85894c11cec59649ab",
            "831166adf8b84558a6684ac81ee88d98",
            "5024be9145004cb1b485cf1019682079",
            "f07084b527c64ecea5031ec89eec8e04",
            "a96e4221b277490aa5a445050c8b3968",
            "2f5e32795d2b42218621cd15c99ccd97",
            "88d8cd8fcb4443a5aab7d3d80326bbfa",
            "894c7ec67c2147ba967e1aacb9b7ef9f",
            "b27e3e4eac7c4a37a0a66e5696f0582e",
            "843b0c11bc9f4a7ab366c311529d7a22"
          ]
        },
        "id": "7tSi_W9YEujr",
        "outputId": "071c0a52-3dba-459c-c019-87df246fc521"
      },
      "source": [
        "N_reps = 100\n",
        "N_sample = 20000\n",
        " \n",
        "start_time = time.time()\n",
        " \n",
        "means_MC = []\n",
        "means_IS = []\n",
        " \n",
        "stderr_MC = []\n",
        "stderr_IS = []\n",
        " \n",
        "varratio = []\n",
        " \n",
        "for k in trange(N_reps):\n",
        "# for k in progressbar(range(N_reps), \"Computing: \", 60):\n",
        "    outcomes_MC = []\n",
        "    outcomes_IS = []\n",
        "    \n",
        "    # for i in trange(N_sample):\n",
        "    # for i in progressbar(range(N_sample), \"Computing: \", 60):\n",
        "    for i in range(N_sample):\n",
        "        \n",
        "        M_random = np.concatenate((np.zeros((N_assets,1)), np.random.normal(0, np.sqrt(delta_t), (N_assets,N))), axis=1)\n",
        "    \n",
        "        ##########\n",
        "    \n",
        "        M_MC = np.cumsum(M_random, axis=1)\n",
        "        M_MC = np.dot(np.transpose(sigma), M_MC)\n",
        " \n",
        "        M_MC = np.diff(M_MC, axis=1)\n",
        "        M_MC = M_MC + tilde_mu * delta_t\n",
        " \n",
        "        M_MC = np.concatenate((np.zeros((N_assets,1)),M_MC), axis=1)\n",
        "        M_MC = np.cumsum(M_MC, axis=1)\n",
        " \n",
        "        M_MC = np.exp(M_MC)\n",
        "        for j in range(N_assets):\n",
        "            M_MC[j,:] = M_MC[j,:] * X_0[j]\n",
        "        \n",
        "        ot_MC = np.clip(np.sum(np.multiply(weights, np.sum(M_MC * delta_t, axis=1).reshape((N_assets,1)) / T)) - strike, 0, None)\n",
        "        \n",
        "        outcomes_MC = outcomes_MC + [np.exp(-r*T) * 100 * ot_MC]\n",
        " \n",
        "        ##########\n",
        "    \n",
        "        M_0 = M_random + np.concatenate((np.zeros((N_assets,1)), np.transpose(learnedstrat[0:N,:]) * delta_t), axis=1)\n",
        "    \n",
        "        M_0 = np.cumsum(M_0, axis=1)\n",
        "        M = np.dot(np.transpose(sigma), M_0)\n",
        " \n",
        "        M = np.diff(M, axis=1)\n",
        "        M = M + tilde_mu * delta_t\n",
        "    \n",
        "        M = np.concatenate((np.zeros((N_assets,1)), M), axis=1)\n",
        "        M = np.cumsum(M, axis=1)\n",
        " \n",
        "        M = np.exp(M)\n",
        "        for j in range(N_assets):\n",
        "            M[j,:] = M[j,:] * X_0[j]\n",
        "        \n",
        "        M_0 = np.diff(M_0, axis=1)\n",
        "    \n",
        "        adj1 = np.sum(np.sum(np.multiply(np.transpose(learnedstrat[0:N,:]), M_0), axis=1), axis=0)\n",
        "        adj2 = np.sum(np.sum(np.multiply(np.transpose(learnedstrat[0:N,:]), np.transpose(learnedstrat[0:N,:])) * delta_t, axis=1), axis=0)\n",
        "    \n",
        "        ot_IS = np.clip(np.sum(np.multiply(weights, np.sum(M * delta_t, axis=1).reshape((N_assets,1)) / T)) - strike, 0, None)\n",
        "        \n",
        "        outcomes_IS = outcomes_IS + [np.exp(-r*T) * 100 * ot_IS * np.exp(-1 * adj1 + 0.5 * adj2)]\n",
        "    \n",
        "    means_MC = means_MC + [np.mean(outcomes_MC)]\n",
        "    means_IS = means_IS + [np.mean(outcomes_IS)]\n",
        "    \n",
        "    stderr_MC = stderr_MC + [np.std(outcomes_MC) / np.sqrt(N_sample)]\n",
        "    stderr_IS = stderr_IS + [np.std(outcomes_IS) / np.sqrt(N_sample)]\n",
        "    \n",
        "    varratio = varratio + [np.var(outcomes_MC) / np.var(outcomes_IS)]\n",
        "    \n",
        "    if (k+1) % 10 == 0:\n",
        "        elapsed_time = time.time() - start_time\n",
        "        print(\"elapsed time: \", time.strftime(\"%H:%M:%S\", time.gmtime(elapsed_time)))\n",
        "    \n",
        "elapsed_time = time.time() - start_time\n",
        "print(\"total elapsed time: \", time.strftime(\"%H:%M:%S\", time.gmtime(elapsed_time)))"
      ],
      "execution_count": 60,
      "outputs": [
        {
          "output_type": "display_data",
          "data": {
            "application/vnd.jupyter.widget-view+json": {
              "model_id": "75e944f8d62d4e32853053530c9fa9fa",
              "version_minor": 0,
              "version_major": 2
            },
            "text/plain": [
              "  0%|          | 0/100 [00:00<?, ?it/s]"
            ]
          },
          "metadata": {}
        },
        {
          "output_type": "stream",
          "text": [
            "elapsed time:  00:04:21\n",
            "elapsed time:  00:08:49\n",
            "elapsed time:  00:13:14\n",
            "elapsed time:  00:17:42\n",
            "elapsed time:  00:22:10\n",
            "elapsed time:  00:26:33\n",
            "elapsed time:  00:30:56\n",
            "elapsed time:  00:35:25\n",
            "elapsed time:  00:39:54\n",
            "elapsed time:  00:44:25\n",
            "total elapsed time:  00:44:25\n"
          ],
          "name": "stdout"
        }
      ]
    },
    {
      "cell_type": "code",
      "metadata": {
        "colab": {
          "base_uri": "https://localhost:8080/"
        },
        "id": "VBd8Wej_Fw5H",
        "outputId": "c4810c31-21c1-4004-e8f5-cb02aa1a06e3"
      },
      "source": [
        "print(\"Mean (MC): \", np.around(np.mean(means_MC), 4))\n",
        "print(\"Mean (IS): \", np.around(np.mean(means_IS), 4))\n",
        "print(\"Standard error (MC): \", np.around(np.mean(stderr_MC), 4), \" (\", np.around(np.mean(stderr_MC) / np.mean(means_MC) * 100, 2), \"% )\")\n",
        "print(\"Standard error (IS): \", np.around(np.mean(stderr_IS), 4), \" (\", np.around(np.mean(stderr_IS) / np.mean(means_IS) * 100, 2), \"% )\")\n",
        "print(\"Variance ratio: \", np.around(np.mean(varratio)))"
      ],
      "execution_count": 61,
      "outputs": [
        {
          "output_type": "stream",
          "text": [
            "Mean (MC):  9.7943\n",
            "Mean (IS):  9.8332\n",
            "Standard error (MC):  0.7627  ( 7.79 % )\n",
            "Standard error (IS):  0.2033  ( 2.07 % )\n",
            "Variance ratio:  15.0\n"
          ],
          "name": "stdout"
        }
      ]
    },
    {
      "cell_type": "code",
      "metadata": {
        "colab": {
          "base_uri": "https://localhost:8080/",
          "height": 590
        },
        "id": "5HjPrDJvFybK",
        "outputId": "2fa0d9b4-322b-4cc5-a9a4-27126ec17eda"
      },
      "source": [
        "print(\"mean MC estimate:  \", np.around(np.mean(means_MC), 4))\n",
        "print(\"mean IS estimate: \", np.around(np.mean(means_IS), 4))\n",
        " \n",
        "bins = np.linspace(5.00, 15.00, 100)\n",
        " \n",
        "plt.figure(figsize=(18, 10)) \n",
        "plt.hist(means_MC, bins, color=\"darkorchid\", alpha=0.5, label=\"MC estimates\")\n",
        "plt.hist(means_IS, bins, color=\"goldenrod\", alpha=0.5, label=\"IS estimates\")\n",
        "plt.axvline(np.mean(means_MC), color=\"darkorchid\", linewidth=2)\n",
        "plt.axvline(np.mean(means_IS), color=\"goldenrod\", linewidth=2)\n",
        "plt.title(\"MC estimates with and without importance sampling (sample size = 20000)\")\n",
        "plt.legend(loc=\"upper right\")\n",
        "plt.show()"
      ],
      "execution_count": 62,
      "outputs": [
        {
          "output_type": "stream",
          "text": [
            "mean MC estimate:   9.7943\n",
            "mean IS estimate:  9.8332\n"
          ],
          "name": "stdout"
        },
        {
          "output_type": "display_data",
          "data": {
            "image/png": "[encoded data removed]",
            "text/plain": [
              "<Figure size 1296x720 with 1 Axes>"
            ]
          },
          "metadata": {
            "needs_background": "light"
          }
        }
      ]
    },
    {
      "cell_type": "code",
      "metadata": {
        "colab": {
          "base_uri": "https://localhost:8080/",
          "height": 590
        },
        "id": "QNO5R3ctF3gu",
        "outputId": "e0849943-8da6-4fcf-d849-edcf8a23d61d"
      },
      "source": [
        "print(\"mean MC estimate standard error:  \", np.around(np.mean(stderr_MC), 4))\n",
        "print(\"mean IS estimate standard error: \", np.around(np.mean(stderr_IS), 4))\n",
        " \n",
        "bins = np.linspace(0.00, 2.50, 100)\n",
        " \n",
        "plt.figure(figsize=(18, 10)) \n",
        "plt.hist(stderr_MC, bins, color=\"darkorchid\", alpha=0.5, label=\"MC estimates\")\n",
        "plt.hist(stderr_IS, bins, color=\"goldenrod\", alpha=0.5, label=\"IS estimates\")\n",
        "plt.axvline(np.mean(stderr_MC), color=\"darkorchid\", linewidth=2)\n",
        "plt.axvline(np.mean(stderr_IS), color=\"goldenrod\", linewidth=2)\n",
        "plt.title(\"MC estimates standard errors with and without importance sampling (sample size = 20000)\")\n",
        "plt.legend(loc=\"upper right\")\n",
        "plt.show()"
      ],
      "execution_count": 63,
      "outputs": [
        {
          "output_type": "stream",
          "text": [
            "mean MC estimate standard error:   0.7627\n",
            "mean IS estimate standard error:  0.2033\n"
          ],
          "name": "stdout"
        },
        {
          "output_type": "display_data",
          "data": {
            "image/png": "[encoded data removed]",
            "text/plain": [
              "<Figure size 1296x720 with 1 Axes>"
            ]
          },
          "metadata": {
            "needs_background": "light"
          }
        }
      ]
    },
    {
      "cell_type": "code",
      "metadata": {
        "colab": {
          "base_uri": "https://localhost:8080/",
          "height": 546
        },
        "id": "Tfwqz9FbF9Di",
        "outputId": "036e5bc7-5c9e-476a-c4ee-7ea53083fddd"
      },
      "source": [
        "bins = np.linspace(0.00, 50.00, 100)\n",
        " \n",
        "plt.figure(figsize=(18, 10)) \n",
        "plt.hist(varratio, bins, color=\"darkorchid\", alpha=0.5)\n",
        "plt.show()"
      ],
      "execution_count": 64,
      "outputs": [
        {
          "output_type": "display_data",
          "data": {
            "image/png": "[encoded data removed]",
            "text/plain": [
              "<Figure size 1296x720 with 1 Axes>"
            ]
          },
          "metadata": {
            "needs_background": "light"
          }
        }
      ]
    },
    {
      "cell_type": "code",
      "metadata": {
        "colab": {
          "base_uri": "https://localhost:8080/"
        },
        "id": "BCckCkODGBoe",
        "outputId": "c206f8b6-a409-49c2-8f35-950c66daf4e3"
      },
      "source": [
        "data = {'mean MC': means_MC,\n",
        "        'mean IS': means_IS,\n",
        "        'stderr MC': stderr_MC,\n",
        "        'stderr IS': stderr_IS, \n",
        "        'varratio': varratio}\n",
        " \n",
        "df = pd.DataFrame(data, columns = ['mean MC','mean IS', 'stderr MC', 'stderr IS', 'varratio'])\n",
        "df = df.sort_values(by=['varratio'])\n",
        " \n",
        "print(df.tail(50))"
      ],
      "execution_count": 65,
      "outputs": [
        {
          "output_type": "stream",
          "text": [
            "      mean MC    mean IS  stderr MC  stderr IS   varratio\n",
            "29   9.390660   9.503312   0.763306   0.194594  15.386487\n",
            "85   9.185191  10.123295   0.830468   0.209650  15.691193\n",
            "95  10.417519  10.019287   0.812441   0.204542  15.776709\n",
            "50   8.886349   9.745810   0.708737   0.178361  15.789520\n",
            "45   8.501616   9.736068   0.711803   0.178729  15.861013\n",
            "91  10.159264   9.985974   0.779892   0.195698  15.881661\n",
            "70  10.074681   9.784296   0.798165   0.199583  15.993307\n",
            "1    9.592737   9.815927   0.781168   0.195210  16.013451\n",
            "41   8.778517   9.816628   0.765012   0.189717  16.260150\n",
            "7    9.510287   9.692482   0.715994   0.177541  16.263717\n",
            "69   9.000713   9.938125   0.767638   0.190340  16.264910\n",
            "17   9.628488   9.490688   0.750027   0.185263  16.389954\n",
            "6   10.593658   9.708722   0.794964   0.196033  16.445051\n",
            "31   9.944496   9.779675   0.779698   0.192196  16.457489\n",
            "27  10.357671   9.962090   0.813096   0.199311  16.642612\n",
            "12   9.888854   9.628847   0.747462   0.183219  16.643138\n",
            "82   9.885608   9.743694   0.767804   0.187512  16.766585\n",
            "77  11.393815   9.871577   0.836048   0.203429  16.890280\n",
            "67   9.482328   9.449197   0.731314   0.177342  17.005317\n",
            "57  10.379946   9.903428   0.783533   0.189754  17.050274\n",
            "52  10.364621  10.192040   0.796099   0.192474  17.107711\n",
            "75  11.070272   9.541472   0.823396   0.198662  17.178591\n",
            "66  10.853113  10.068979   0.808697   0.193882  17.397945\n",
            "33  10.276737   9.871658   0.807170   0.193096  17.473592\n",
            "98   9.551566   9.610369   0.759144   0.181536  17.487293\n",
            "74  10.153224   9.586793   0.767182   0.182407  17.689402\n",
            "42  11.474675   9.831851   0.833915   0.197677  17.796346\n",
            "59   9.684796   9.608545   0.758077   0.179104  17.914985\n",
            "99   9.049642   9.853697   0.766966   0.180713  18.012412\n",
            "18   9.952659   9.778798   0.774031   0.182110  18.065509\n",
            "83   9.810046   9.799325   0.749044   0.175093  18.301090\n",
            "26  10.406298   9.563568   0.794609   0.184732  18.502271\n",
            "32  10.114638   9.712207   0.778732   0.180985  18.513577\n",
            "58   9.504335   9.736981   0.786568   0.181644  18.751172\n",
            "46   8.904367   9.384448   0.701311   0.161590  18.836077\n",
            "22   9.761674   9.688404   0.793438   0.180870  19.243937\n",
            "65   9.893515   9.843338   0.809429   0.181416  19.907078\n",
            "55  10.351735   9.950816   0.801669   0.179471  19.952692\n",
            "73   9.501472   9.661345   0.770235   0.172107  20.028520\n",
            "15  10.565185   9.765260   0.771771   0.170917  20.389477\n",
            "87  10.166529   9.681980   0.775760   0.171606  20.435600\n",
            "90  11.241714   9.903671   0.851369   0.186947  20.739506\n",
            "28  10.341079   9.880096   0.844314   0.183598  21.148084\n",
            "68  10.562614   9.736157   0.834776   0.179638  21.594389\n",
            "44   9.508039   9.656766   0.794552   0.170520  21.711646\n",
            "3   10.858924   9.504533   0.837383   0.179234  21.827789\n",
            "49  10.903562   9.468580   0.806289   0.172379  21.878129\n",
            "80  10.494702   9.678787   0.809010   0.172463  22.004643\n",
            "71  11.025290   9.704106   0.824441   0.175170  22.151302\n",
            "60  10.574999   9.335665   0.839550   0.167283  25.187840\n"
          ],
          "name": "stdout"
        }
      ]
    },
    {
      "cell_type": "code",
      "metadata": {
        "colab": {
          "base_uri": "https://localhost:8080/"
        },
        "id": "L3io2do1GCBr",
        "outputId": "7ce858a5-b9bf-4aa4-ac09-098c9842d497"
      },
      "source": [
        "print(np.around(stderr_MC[0] / means_MC[0] * 100, 6))\n",
        "print(np.around(stderr_IS[0] / means_IS[0] * 100, 6))"
      ],
      "execution_count": 66,
      "outputs": [
        {
          "output_type": "stream",
          "text": [
            "8.009106\n",
            "4.67604\n"
          ],
          "name": "stdout"
        }
      ]
    },
    {
      "cell_type": "code",
      "metadata": {
        "colab": {
          "base_uri": "https://localhost:8080/"
        },
        "id": "-WJMOO8vGCZD",
        "outputId": "7d0b16d6-1274-4e3e-fb25-10d12732d203"
      },
      "source": [
        "stderr_IS[25]"
      ],
      "execution_count": 67,
      "outputs": [
        {
          "output_type": "execute_result",
          "data": {
            "text/plain": [
              "0.21604348975738485"
            ]
          },
          "metadata": {},
          "execution_count": 67
        }
      ]
    },
    {
      "cell_type": "code",
      "metadata": {
        "colab": {
          "base_uri": "https://localhost:8080/",
          "height": 100,
          "referenced_widgets": [
            "dd8bd166cf5442d8b32d8b92664e5222",
            "79c2ffe5b9104c97abb31be1924943e2",
            "39f59bf4388b479f9e50fe827a81d7d7",
            "03728690fab34911a666706b340bf7a2",
            "381a0ca2b92a488c92520f5f3618afb3",
            "7d5531c6326e43e2a4f6a5e34277af00",
            "02c09a1edc9f43ca8870eb50d7838a14",
            "f019b7d0310a4a2a982bc07c7d7da393",
            "a3b0cf6d99b14bfead29264fdcf043bb",
            "bb9752406d02438f87d929cd2227f1c5",
            "079ea2f05c85435c89528df13cf9ac81"
          ]
        },
        "id": "zA5buQ7oPWBA",
        "outputId": "263ecbeb-05d0-48fe-9ec1-29fe5ef91422"
      },
      "source": [
        "N_reps = 25\n",
        "N_sample = 100000\n",
        " \n",
        "start_time = time.time()\n",
        " \n",
        "means_MC = []\n",
        "means_IS = []\n",
        " \n",
        "stderr_MC = []\n",
        "stderr_IS = []\n",
        " \n",
        "varratio = []\n",
        " \n",
        "for k in trange(N_reps):\n",
        "# for k in progressbar(range(N_reps), \"Computing: \", 60):\n",
        "    outcomes_MC = []\n",
        "    outcomes_IS = []\n",
        "    \n",
        "    # for i in trange(N_sample):\n",
        "    # for i in progressbar(range(N_sample), \"Computing: \", 60):\n",
        "    for i in range(N_sample):\n",
        "        \n",
        "        M_random = np.concatenate((np.zeros((N_assets,1)), np.random.normal(0, np.sqrt(delta_t), (N_assets,N))), axis=1)\n",
        "    \n",
        "        ##########\n",
        "    \n",
        "        M_MC = np.cumsum(M_random, axis=1)\n",
        "        M_MC = np.dot(np.transpose(sigma), M_MC)\n",
        " \n",
        "        M_MC = np.diff(M_MC, axis=1)\n",
        "        M_MC = M_MC + tilde_mu * delta_t\n",
        " \n",
        "        M_MC = np.concatenate((np.zeros((N_assets,1)),M_MC), axis=1)\n",
        "        M_MC = np.cumsum(M_MC, axis=1)\n",
        " \n",
        "        M_MC = np.exp(M_MC)\n",
        "        for j in range(N_assets):\n",
        "            M_MC[j,:] = M_MC[j,:] * X_0[j]\n",
        "        \n",
        "        ot_MC = np.clip(np.sum(np.multiply(weights, np.sum(M_MC * delta_t, axis=1).reshape((N_assets,1)) / T)) - strike, 0, None)\n",
        "        \n",
        "        outcomes_MC = outcomes_MC + [np.exp(-r*T) * 100 * ot_MC]\n",
        " \n",
        "        ##########\n",
        "    \n",
        "        M_0 = M_random + np.concatenate((np.zeros((N_assets,1)), np.transpose(learnedstrat[0:N,:]) * delta_t), axis=1)\n",
        "    \n",
        "        M_0 = np.cumsum(M_0, axis=1)\n",
        "        M = np.dot(np.transpose(sigma), M_0)\n",
        " \n",
        "        M = np.diff(M, axis=1)\n",
        "        M = M + tilde_mu * delta_t\n",
        "    \n",
        "        M = np.concatenate((np.zeros((N_assets,1)), M), axis=1)\n",
        "        M = np.cumsum(M, axis=1)\n",
        " \n",
        "        M = np.exp(M)\n",
        "        for j in range(N_assets):\n",
        "            M[j,:] = M[j,:] * X_0[j]\n",
        "        \n",
        "        M_0 = np.diff(M_0, axis=1)\n",
        "    \n",
        "        adj1 = np.sum(np.sum(np.multiply(np.transpose(learnedstrat[0:N,:]), M_0), axis=1), axis=0)\n",
        "        adj2 = np.sum(np.sum(np.multiply(np.transpose(learnedstrat[0:N,:]), np.transpose(learnedstrat[0:N,:])) * delta_t, axis=1), axis=0)\n",
        "    \n",
        "        ot_IS = np.clip(np.sum(np.multiply(weights, np.sum(M * delta_t, axis=1).reshape((N_assets,1)) / T)) - strike, 0, None)\n",
        "        \n",
        "        outcomes_IS = outcomes_IS + [np.exp(-r*T) * 100 * ot_IS * np.exp(-1 * adj1 + 0.5 * adj2)]\n",
        "    \n",
        "    means_MC = means_MC + [np.mean(outcomes_MC)]\n",
        "    means_IS = means_IS + [np.mean(outcomes_IS)]\n",
        "    \n",
        "    stderr_MC = stderr_MC + [np.std(outcomes_MC) / np.sqrt(N_sample)]\n",
        "    stderr_IS = stderr_IS + [np.std(outcomes_IS) / np.sqrt(N_sample)]\n",
        "    \n",
        "    varratio = varratio + [np.var(outcomes_MC) / np.var(outcomes_IS)]\n",
        "    \n",
        "    if (k+1) % 10 == 0:\n",
        "        elapsed_time = time.time() - start_time\n",
        "        print(\"elapsed time: \", time.strftime(\"%H:%M:%S\", time.gmtime(elapsed_time)))\n",
        "    \n",
        "elapsed_time = time.time() - start_time\n",
        "print(\"total elapsed time: \", time.strftime(\"%H:%M:%S\", time.gmtime(elapsed_time)))"
      ],
      "execution_count": 68,
      "outputs": [
        {
          "output_type": "display_data",
          "data": {
            "application/vnd.jupyter.widget-view+json": {
              "model_id": "dd8bd166cf5442d8b32d8b92664e5222",
              "version_minor": 0,
              "version_major": 2
            },
            "text/plain": [
              "  0%|          | 0/25 [00:00<?, ?it/s]"
            ]
          },
          "metadata": {}
        },
        {
          "output_type": "stream",
          "text": [
            "elapsed time:  00:35:41\n",
            "elapsed time:  01:10:07\n",
            "total elapsed time:  01:27:48\n"
          ],
          "name": "stdout"
        }
      ]
    },
    {
      "cell_type": "code",
      "metadata": {
        "colab": {
          "base_uri": "https://localhost:8080/"
        },
        "id": "dOjAjqJZjuwV",
        "outputId": "982adcee-758b-4720-e15b-07a7e06f3f07"
      },
      "source": [
        "print(\"Mean (MC): \", np.around(np.mean(means_MC), 4))\n",
        "print(\"Mean (IS): \", np.around(np.mean(means_IS), 4))\n",
        "print(\"Standard error (MC): \", np.around(np.mean(stderr_MC), 4), \" (\", np.around(np.mean(stderr_MC) / np.mean(means_MC) * 100, 2), \"% )\")\n",
        "print(\"Standard error (IS): \", np.around(np.mean(stderr_IS), 4), \" (\", np.around(np.mean(stderr_IS) / np.mean(means_IS) * 100, 2), \"% )\")\n",
        "print(\"Variance ratio: \", np.around(np.mean(varratio)))"
      ],
      "execution_count": 69,
      "outputs": [
        {
          "output_type": "stream",
          "text": [
            "Mean (MC):  9.9536\n",
            "Mean (IS):  9.8535\n",
            "Standard error (MC):  0.3449  ( 3.46 % )\n",
            "Standard error (IS):  0.0923  ( 0.94 % )\n",
            "Variance ratio:  14.0\n"
          ],
          "name": "stdout"
        }
      ]
    },
    {
      "cell_type": "code",
      "metadata": {
        "colab": {
          "base_uri": "https://localhost:8080/",
          "height": 590
        },
        "id": "B3Qb36chjvDQ",
        "outputId": "b4d510e9-b6ec-405f-a0c7-9644791e4d97"
      },
      "source": [
        "print(\"mean MC estimate:  \", np.around(np.mean(means_MC), 4))\n",
        "print(\"mean IS estimate: \", np.around(np.mean(means_IS), 4))\n",
        " \n",
        "bins = np.linspace(5.00, 15.00, 100)\n",
        " \n",
        "plt.figure(figsize=(18, 10)) \n",
        "plt.hist(means_MC, bins, color=\"darkorchid\", alpha=0.5, label=\"MC estimates\")\n",
        "plt.hist(means_IS, bins, color=\"goldenrod\", alpha=0.5, label=\"IS estimates\")\n",
        "plt.axvline(np.mean(means_MC), color=\"darkorchid\", linewidth=2)\n",
        "plt.axvline(np.mean(means_IS), color=\"goldenrod\", linewidth=2)\n",
        "plt.title(\"MC estimates with and without importance sampling (sample size = 100000)\")\n",
        "plt.legend(loc=\"upper right\")\n",
        "plt.show()"
      ],
      "execution_count": 71,
      "outputs": [
        {
          "output_type": "stream",
          "text": [
            "mean MC estimate:   9.9536\n",
            "mean IS estimate:  9.8535\n"
          ],
          "name": "stdout"
        },
        {
          "output_type": "display_data",
          "data": {
            "image/png": "[encoded data removed]",
            "text/plain": [
              "<Figure size 1296x720 with 1 Axes>"
            ]
          },
          "metadata": {
            "needs_background": "light"
          }
        }
      ]
    },
    {
      "cell_type": "code",
      "metadata": {
        "colab": {
          "base_uri": "https://localhost:8080/",
          "height": 590
        },
        "id": "vUrWLWlyjvV5",
        "outputId": "ffde9a56-77a4-4316-d509-d09dcb826f05"
      },
      "source": [
        "print(\"mean MC estimate standard error:  \", np.around(np.mean(stderr_MC), 4))\n",
        "print(\"mean IS estimate standard error: \", np.around(np.mean(stderr_IS), 4))\n",
        " \n",
        "bins = np.linspace(0.00, 2.50, 100)\n",
        " \n",
        "plt.figure(figsize=(18, 10)) \n",
        "plt.hist(stderr_MC, bins, color=\"darkorchid\", alpha=0.5, label=\"MC estimates\")\n",
        "plt.hist(stderr_IS, bins, color=\"goldenrod\", alpha=0.5, label=\"IS estimates\")\n",
        "plt.axvline(np.mean(stderr_MC), color=\"darkorchid\", linewidth=2)\n",
        "plt.axvline(np.mean(stderr_IS), color=\"goldenrod\", linewidth=2)\n",
        "plt.title(\"MC estimates standard errors with and without importance sampling (sample size = 100000)\")\n",
        "plt.legend(loc=\"upper right\")\n",
        "plt.show()"
      ],
      "execution_count": 72,
      "outputs": [
        {
          "output_type": "stream",
          "text": [
            "mean MC estimate standard error:   0.3449\n",
            "mean IS estimate standard error:  0.0923\n"
          ],
          "name": "stdout"
        },
        {
          "output_type": "display_data",
          "data": {
            "image/png": "[encoded data removed]",
            "text/plain": [
              "<Figure size 1296x720 with 1 Axes>"
            ]
          },
          "metadata": {
            "needs_background": "light"
          }
        }
      ]
    },
    {
      "cell_type": "code",
      "metadata": {
        "colab": {
          "base_uri": "https://localhost:8080/",
          "height": 546
        },
        "id": "3I-ZGB0ujvn1",
        "outputId": "bb1e13ca-27a9-4ae3-ef13-c807e783df3f"
      },
      "source": [
        "bins = np.linspace(0.00, 50.00, 100)\n",
        " \n",
        "plt.figure(figsize=(18, 10)) \n",
        "plt.hist(varratio, bins, color=\"darkorchid\", alpha=0.5)\n",
        "plt.show()"
      ],
      "execution_count": 73,
      "outputs": [
        {
          "output_type": "display_data",
          "data": {
            "image/png": "[encoded data removed]",
            "text/plain": [
              "<Figure size 1296x720 with 1 Axes>"
            ]
          },
          "metadata": {
            "needs_background": "light"
          }
        }
      ]
    },
    {
      "cell_type": "code",
      "metadata": {
        "colab": {
          "base_uri": "https://localhost:8080/"
        },
        "id": "WKuoi0lyjv8w",
        "outputId": "264f04dd-e1db-4f12-84e3-d1a0dcceccae"
      },
      "source": [
        "data = {'mean MC': means_MC,\n",
        "        'mean IS': means_IS,\n",
        "        'stderr MC': stderr_MC,\n",
        "        'stderr IS': stderr_IS, \n",
        "        'varratio': varratio}\n",
        " \n",
        "df = pd.DataFrame(data, columns = ['mean MC','mean IS', 'stderr MC', 'stderr IS', 'varratio'])\n",
        "df = df.sort_values(by=['varratio'])\n",
        " \n",
        "print(df.tail(25))"
      ],
      "execution_count": 74,
      "outputs": [
        {
          "output_type": "stream",
          "text": [
            "      mean MC    mean IS  stderr MC  stderr IS   varratio\n",
            "20   9.997384   9.962850   0.339809   0.113118   9.024090\n",
            "2   10.096371   9.961785   0.351806   0.107219  10.766307\n",
            "9    9.288893   9.906222   0.332755   0.099757  11.126628\n",
            "3    9.517615  10.005289   0.332265   0.099284  11.199763\n",
            "14  10.599496   9.992924   0.376104   0.110604  11.563037\n",
            "21  10.325773   9.945253   0.341188   0.099895  11.665484\n",
            "1    9.626335   9.813773   0.327665   0.091360  12.863138\n",
            "8    9.966383   9.926634   0.345405   0.093166  13.744854\n",
            "22   9.751056   9.880234   0.332706   0.088698  14.069872\n",
            "12   9.732873   9.818462   0.327345   0.086852  14.205287\n",
            "19   9.472588   9.780370   0.330896   0.087365  14.345165\n",
            "24   9.076962   9.729519   0.316540   0.083401  14.404944\n",
            "18   9.988396   9.771564   0.340769   0.089530  14.487222\n",
            "11  10.281167   9.925722   0.360248   0.094598  14.502539\n",
            "13   9.788398   9.813486   0.339558   0.088061  14.868192\n",
            "6    9.820474   9.815666   0.340670   0.088139  14.939258\n",
            "17  10.389604   9.828181   0.355853   0.089979  15.640610\n",
            "7   10.485352   9.916669   0.364647   0.092021  15.702502\n",
            "4   10.014011   9.735735   0.349951   0.087322  16.060686\n",
            "0    9.893841   9.791859   0.345991   0.086257  16.089414\n",
            "5   10.200402   9.729486   0.355850   0.088098  16.315711\n",
            "23   9.746074   9.796000   0.346187   0.084755  16.683494\n",
            "15  10.462481   9.859649   0.372634   0.090390  16.995284\n",
            "16  10.319300   9.840684   0.355840   0.086112  17.075709\n",
            "10   9.999318   9.789950   0.338629   0.081387  17.311697\n"
          ],
          "name": "stdout"
        }
      ]
    },
    {
      "cell_type": "code",
      "metadata": {
        "colab": {
          "base_uri": "https://localhost:8080/"
        },
        "id": "m89Niu6-kK5E",
        "outputId": "239a757a-d3d8-4a88-b3fb-99cbde0ca653"
      },
      "source": [
        "print(np.around(stderr_MC[0] / means_MC[0] * 100, 6))\n",
        "print(np.around(stderr_IS[0] / means_IS[0] * 100, 6))"
      ],
      "execution_count": 75,
      "outputs": [
        {
          "output_type": "stream",
          "text": [
            "3.497032\n",
            "0.880905\n"
          ],
          "name": "stdout"
        }
      ]
    },
    {
      "cell_type": "code",
      "metadata": {
        "colab": {
          "base_uri": "https://localhost:8080/"
        },
        "id": "dH4BLr-kkLKH",
        "outputId": "11c6982c-8db5-4c8e-ba35-2d50c090ee3e"
      },
      "source": [
        "stderr_IS[0]"
      ],
      "execution_count": 77,
      "outputs": [
        {
          "output_type": "execute_result",
          "data": {
            "text/plain": [
              "0.08625702665701375"
            ]
          },
          "metadata": {},
          "execution_count": 77
        }
      ]
    },
    {
      "cell_type": "code",
      "metadata": {
        "colab": {
          "base_uri": "https://localhost:8080/",
          "height": 313,
          "referenced_widgets": [
            "e33c8712fab647e4876e72215f4bfd87",
            "1146e524157b413d9b4ba80dc7874dc9",
            "bbfeb8c46d114271bf76a458c9293b49",
            "0d11bb4c08524ebba70d4496f36bd9ac",
            "fe9db3ca21664738a3cf479d83309c9f",
            "90d16e7d29854c5cb44c0ede5cd65ac8",
            "eb9d8450949645949ed08f7f4c7be51b",
            "d6f42ebae57c4152a41d91f08b3947d1",
            "d8d45d78c958465b989f9900d1ccbeae",
            "5f26c4e898be454aad2a09d23bc17573",
            "2cecd45744094b0c8cba5ca69881704c",
            "1708625760ba46bebec8e6004311203d",
            "6536c39cf79b478eb6ef95546422187a",
            "f283e75c21ee4e3889400ea845c0245f",
            "fc6ce2f5e70441f89e5620cb2f4119a5",
            "1a25fa8cfc264bc1bfdbdf48470f9e76",
            "aed74f96e16f4e0e937480a56243693a",
            "410dff0dddbd46299df000a1ce318b4d",
            "7d468b8f9ca64051b025c2ad967af1a9",
            "300285859b9a4ddfaacfad18beca7516",
            "dcbba8981f0a40cca0c40092b1a625aa",
            "1bba947e99ca41c887a91948f33bdfe3"
          ]
        },
        "id": "bl2DDx0MkLa-",
        "outputId": "22ce4a20-d2bf-4ec1-e6c5-1fa9bb771843"
      },
      "source": [
        "N_reps = 1\n",
        "N_sample = 1000000\n",
        " \n",
        "start_time = time.time()\n",
        " \n",
        "means_MC = []\n",
        "means_IS = []\n",
        " \n",
        "stderr_MC = []\n",
        "stderr_IS = []\n",
        " \n",
        "varratio = []\n",
        " \n",
        "for k in trange(N_reps):\n",
        "# for k in progressbar(range(N_reps), \"Computing: \", 60):\n",
        "    outcomes_MC = []\n",
        "    outcomes_IS = []\n",
        "    \n",
        "    # for i in trange(N_sample):\n",
        "    # for i in progressbar(range(N_sample), \"Computing: \", 60):\n",
        "    for i in trange(N_sample):\n",
        "        \n",
        "        M_random = np.concatenate((np.zeros((N_assets,1)), np.random.normal(0, np.sqrt(delta_t), (N_assets,N))), axis=1)\n",
        "    \n",
        "        ##########\n",
        "    \n",
        "        M_MC = np.cumsum(M_random, axis=1)\n",
        "        M_MC = np.dot(np.transpose(sigma), M_MC)\n",
        " \n",
        "        M_MC = np.diff(M_MC, axis=1)\n",
        "        M_MC = M_MC + tilde_mu * delta_t\n",
        " \n",
        "        M_MC = np.concatenate((np.zeros((N_assets,1)),M_MC), axis=1)\n",
        "        M_MC = np.cumsum(M_MC, axis=1)\n",
        " \n",
        "        M_MC = np.exp(M_MC)\n",
        "        for j in range(N_assets):\n",
        "            M_MC[j,:] = M_MC[j,:] * X_0[j]\n",
        "        \n",
        "        ot_MC = np.clip(np.sum(np.multiply(weights, np.sum(M_MC * delta_t, axis=1).reshape((N_assets,1)) / T)) - strike, 0, None)\n",
        "        \n",
        "        outcomes_MC = outcomes_MC + [np.exp(-r*T) * 100 * ot_MC]\n",
        " \n",
        "        ##########\n",
        "    \n",
        "        M_0 = M_random + np.concatenate((np.zeros((N_assets,1)), np.transpose(learnedstrat[0:N,:]) * delta_t), axis=1)\n",
        "    \n",
        "        M_0 = np.cumsum(M_0, axis=1)\n",
        "        M = np.dot(np.transpose(sigma), M_0)\n",
        " \n",
        "        M = np.diff(M, axis=1)\n",
        "        M = M + tilde_mu * delta_t\n",
        "    \n",
        "        M = np.concatenate((np.zeros((N_assets,1)), M), axis=1)\n",
        "        M = np.cumsum(M, axis=1)\n",
        " \n",
        "        M = np.exp(M)\n",
        "        for j in range(N_assets):\n",
        "            M[j,:] = M[j,:] * X_0[j]\n",
        "        \n",
        "        M_0 = np.diff(M_0, axis=1)\n",
        "    \n",
        "        adj1 = np.sum(np.sum(np.multiply(np.transpose(learnedstrat[0:N,:]), M_0), axis=1), axis=0)\n",
        "        adj2 = np.sum(np.sum(np.multiply(np.transpose(learnedstrat[0:N,:]), np.transpose(learnedstrat[0:N,:])) * delta_t, axis=1), axis=0)\n",
        "    \n",
        "        ot_IS = np.clip(np.sum(np.multiply(weights, np.sum(M * delta_t, axis=1).reshape((N_assets,1)) / T)) - strike, 0, None)\n",
        "        \n",
        "        outcomes_IS = outcomes_IS + [np.exp(-r*T) * 100 * ot_IS * np.exp(-1 * adj1 + 0.5 * adj2)]\n",
        "    \n",
        "    means_MC = means_MC + [np.mean(outcomes_MC)]\n",
        "    means_IS = means_IS + [np.mean(outcomes_IS)]\n",
        "    \n",
        "    stderr_MC = stderr_MC + [np.std(outcomes_MC) / np.sqrt(N_sample)]\n",
        "    stderr_IS = stderr_IS + [np.std(outcomes_IS) / np.sqrt(N_sample)]\n",
        "    \n",
        "    varratio = varratio + [np.var(outcomes_MC) / np.var(outcomes_IS)]\n",
        "    \n",
        "    if (k+1) % 10 == 0:\n",
        "        elapsed_time = time.time() - start_time\n",
        "        print(\"elapsed time: \", time.strftime(\"%H:%M:%S\", time.gmtime(elapsed_time)))\n",
        "    \n",
        "elapsed_time = time.time() - start_time\n",
        "print(\"total elapsed time: \", time.strftime(\"%H:%M:%S\", time.gmtime(elapsed_time)))"
      ],
      "execution_count": 78,
      "outputs": [
        {
          "output_type": "display_data",
          "data": {
            "application/vnd.jupyter.widget-view+json": {
              "model_id": "e33c8712fab647e4876e72215f4bfd87",
              "version_minor": 0,
              "version_major": 2
            },
            "text/plain": [
              "  0%|          | 0/1 [00:00<?, ?it/s]"
            ]
          },
          "metadata": {}
        },
        {
          "output_type": "display_data",
          "data": {
            "application/vnd.jupyter.widget-view+json": {
              "model_id": "1708625760ba46bebec8e6004311203d",
              "version_minor": 0,
              "version_major": 2
            },
            "text/plain": [
              "  0%|          | 0/1000000 [00:00<?, ?it/s]"
            ]
          },
          "metadata": {}
        },
        {
          "output_type": "error",
          "ename": "KeyboardInterrupt",
          "evalue": "ignored",
          "traceback": [
            "\u001b[0;31m---------------------------------------------------------------------------\u001b[0m",
            "\u001b[0;31mKeyboardInterrupt\u001b[0m                         Traceback (most recent call last)",
            "\u001b[0;32m<ipython-input-78-453bd7aa2997>\u001b[0m in \u001b[0;36m<module>\u001b[0;34m()\u001b[0m\n\u001b[1;32m     40\u001b[0m         \u001b[0mot_MC\u001b[0m \u001b[0;34m=\u001b[0m \u001b[0mnp\u001b[0m\u001b[0;34m.\u001b[0m\u001b[0mclip\u001b[0m\u001b[0;34m(\u001b[0m\u001b[0mnp\u001b[0m\u001b[0;34m.\u001b[0m\u001b[0msum\u001b[0m\u001b[0;34m(\u001b[0m\u001b[0mnp\u001b[0m\u001b[0;34m.\u001b[0m\u001b[0mmultiply\u001b[0m\u001b[0;34m(\u001b[0m\u001b[0mweights\u001b[0m\u001b[0;34m,\u001b[0m \u001b[0mnp\u001b[0m\u001b[0;34m.\u001b[0m\u001b[0msum\u001b[0m\u001b[0;34m(\u001b[0m\u001b[0mM_MC\u001b[0m \u001b[0;34m*\u001b[0m \u001b[0mdelta_t\u001b[0m\u001b[0;34m,\u001b[0m \u001b[0maxis\u001b[0m\u001b[0;34m=\u001b[0m\u001b[0;36m1\u001b[0m\u001b[0;34m)\u001b[0m\u001b[0;34m.\u001b[0m\u001b[0mreshape\u001b[0m\u001b[0;34m(\u001b[0m\u001b[0;34m(\u001b[0m\u001b[0mN_assets\u001b[0m\u001b[0;34m,\u001b[0m\u001b[0;36m1\u001b[0m\u001b[0;34m)\u001b[0m\u001b[0;34m)\u001b[0m \u001b[0;34m/\u001b[0m \u001b[0mT\u001b[0m\u001b[0;34m)\u001b[0m\u001b[0;34m)\u001b[0m \u001b[0;34m-\u001b[0m \u001b[0mstrike\u001b[0m\u001b[0;34m,\u001b[0m \u001b[0;36m0\u001b[0m\u001b[0;34m,\u001b[0m \u001b[0;32mNone\u001b[0m\u001b[0;34m)\u001b[0m\u001b[0;34m\u001b[0m\u001b[0;34m\u001b[0m\u001b[0m\n\u001b[1;32m     41\u001b[0m \u001b[0;34m\u001b[0m\u001b[0m\n\u001b[0;32m---> 42\u001b[0;31m         \u001b[0moutcomes_MC\u001b[0m \u001b[0;34m=\u001b[0m \u001b[0moutcomes_MC\u001b[0m \u001b[0;34m+\u001b[0m \u001b[0;34m[\u001b[0m\u001b[0mnp\u001b[0m\u001b[0;34m.\u001b[0m\u001b[0mexp\u001b[0m\u001b[0;34m(\u001b[0m\u001b[0;34m-\u001b[0m\u001b[0mr\u001b[0m\u001b[0;34m*\u001b[0m\u001b[0mT\u001b[0m\u001b[0;34m)\u001b[0m \u001b[0;34m*\u001b[0m \u001b[0;36m100\u001b[0m \u001b[0;34m*\u001b[0m \u001b[0mot_MC\u001b[0m\u001b[0;34m]\u001b[0m\u001b[0;34m\u001b[0m\u001b[0;34m\u001b[0m\u001b[0m\n\u001b[0m\u001b[1;32m     43\u001b[0m \u001b[0;34m\u001b[0m\u001b[0m\n\u001b[1;32m     44\u001b[0m         \u001b[0;31m##########\u001b[0m\u001b[0;34m\u001b[0m\u001b[0;34m\u001b[0m\u001b[0;34m\u001b[0m\u001b[0m\n",
            "\u001b[0;31mKeyboardInterrupt\u001b[0m: "
          ]
        }
      ]
    }
  ]
}
